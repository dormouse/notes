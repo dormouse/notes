{
 "cells": [
  {
   "cell_type": "markdown",
   "id": "9bd15f55-9a96-4b2d-b34b-5fb47be578dc",
   "metadata": {},
   "source": [
    "# Python Note 200 - List\n",
    "```\n",
    ":date: 2017-02-13\n",
    ":modified: 2022-05-30\n",
    ":slug: python-note-200-list\n",
    ":tags: python, note, list\n",
    ":category: Development\n",
    ":author: Dormouse Young\n",
    ":summary: Python note series 200 - list\n",
    "```"
   ]
  },
  {
   "cell_type": "markdown",
   "id": "a64cd091-b5bc-4582-8099-7938180b2f09",
   "metadata": {},
   "source": [
    "## 列表推导\n",
    "\n",
    "以过滤偶数为例，一般方法："
   ]
  },
  {
   "cell_type": "code",
   "execution_count": 1,
   "id": "91d6a7a5-6285-43fd-94d1-8c2f086dbe0e",
   "metadata": {},
   "outputs": [
    {
     "data": {
      "text/plain": [
       "[2, 4, 6]"
      ]
     },
     "execution_count": 1,
     "metadata": {},
     "output_type": "execute_result"
    }
   ],
   "source": [
    "numbers = [1,2,3,4,5,6]\n",
    "even = []\n",
    "for number in numbers:\n",
    "    if number%2 == 0:\n",
    "        even.append(number)\n",
    "even"
   ]
  },
  {
   "cell_type": "markdown",
   "id": "0c49acdb-e6a6-4286-b9e2-be21f9cd05b5",
   "metadata": {},
   "source": [
    "使用列表推导："
   ]
  },
  {
   "cell_type": "code",
   "execution_count": 2,
   "id": "ac40540d-ef50-4746-913a-6a8b3231d855",
   "metadata": {},
   "outputs": [
    {
     "data": {
      "text/plain": [
       "[2, 4, 6]"
      ]
     },
     "execution_count": 2,
     "metadata": {},
     "output_type": "execute_result"
    }
   ],
   "source": [
    "numbers = [1,2,3,4,5,6]\n",
    "even = [number for number in numbers if number%2 == 0]\n",
    "even"
   ]
  },
  {
   "cell_type": "markdown",
   "id": "dcbaee45-6274-4d0e-af9f-707634732d0b",
   "metadata": {},
   "source": [
    "## 倒序列表"
   ]
  },
  {
   "cell_type": "code",
   "execution_count": 3,
   "id": "a633c058-1b67-4a68-8d82-12712598dd4e",
   "metadata": {},
   "outputs": [
    {
     "data": {
      "text/plain": [
       "[5, 4, 3, 2, 1]"
      ]
     },
     "execution_count": 3,
     "metadata": {},
     "output_type": "execute_result"
    }
   ],
   "source": [
    "# 这种方式会改变列表本身\n",
    "numbers = [1, 2, 3, 4, 5]\n",
    "numbers.reverse()\n",
    "numbers"
   ]
  },
  {
   "cell_type": "code",
   "execution_count": 4,
   "id": "70931b23-9ead-4042-a1d8-53041257e007",
   "metadata": {},
   "outputs": [
    {
     "name": "stdout",
     "output_type": "stream",
     "text": [
      "[5, 4, 3, 2, 1]\n",
      "[5, 4, 3, 2, 1]\n",
      "[1, 2, 3, 4, 5]\n"
     ]
    }
   ],
   "source": [
    "# 这两种方式不会改变列表本身\n",
    "numbers = [1, 2, 3, 4, 5]\n",
    "print(list(reversed(numbers)))\n",
    "print(numbers[::-1])\n",
    "print(numbers)"
   ]
  },
  {
   "cell_type": "markdown",
   "id": "377a77e6-ab3d-440e-9d8f-ba1b00c99fdf",
   "metadata": {},
   "source": [
    "## 判断一个列表是否为空\n",
    "```python\n",
    "if mylist:\n",
    "    # Do something with my list\n",
    "else:\n",
    "    # The list is empty\n",
    "```"
   ]
  },
  {
   "cell_type": "markdown",
   "id": "58759733-dae1-4d3d-8a46-fa012ee48662",
   "metadata": {},
   "source": [
    "## 排序\n",
    "\n",
    "列表排序有两种方式，一种是列表自带的方式 sort，一种是内建函数 sorted 。复杂的数据类型可通过指定 key 参数进行排序。由字典构成的列表，根据字典元素中的 age 字段进行排序："
   ]
  },
  {
   "cell_type": "code",
   "execution_count": 5,
   "id": "71393fa2-58a0-46b9-9b98-e8d3c01253f6",
   "metadata": {},
   "outputs": [
    {
     "data": {
      "text/plain": [
       "[{'name': 'Bart', 'age': 10},\n",
       " {'name': 'cater', 'age': 20},\n",
       " {'name': 'Homer', 'age': 39}]"
      ]
     },
     "execution_count": 5,
     "metadata": {},
     "output_type": "execute_result"
    }
   ],
   "source": [
    "items = [{'name': 'Homer', 'age': 39},\n",
    "         {'name': 'Bart', 'age': 10},\n",
    "         {\"name\": 'cater', 'age': 20}]\n",
    "items.sort(key=lambda item: item.get(\"age\"))\n",
    "items"
   ]
  },
  {
   "cell_type": "markdown",
   "id": "311f3083-1136-465d-9c73-b53516f362c8",
   "metadata": {},
   "source": [
    "sort 方法用于对原列表进行重新排序，指定 key 参数，key 是匿名函数，item 是列表中的字典元素，我们根据字典中的age进行排序，默认是按升序排列，指定 reverse=True 按降序排列："
   ]
  },
  {
   "cell_type": "code",
   "execution_count": 6,
   "id": "efaefb72-43c4-422a-9c7b-ff4d86b25e43",
   "metadata": {},
   "outputs": [
    {
     "data": {
      "text/plain": [
       "[{'name': 'Homer', 'age': 39},\n",
       " {'name': 'cater', 'age': 20},\n",
       " {'name': 'Bart', 'age': 10}]"
      ]
     },
     "execution_count": 6,
     "metadata": {},
     "output_type": "execute_result"
    }
   ],
   "source": [
    "items.sort(key=lambda item: item.get(\"age\"), reverse=True)\n",
    "items"
   ]
  },
  {
   "cell_type": "markdown",
   "id": "d40a2d6a-a904-4b42-9443-76d550e7c1a1",
   "metadata": {},
   "source": [
    "如果不希望改变原列表，而是生成一个新的有序列表对象，那么可以内置函数 sorted ，\n",
    "该函数返回新列表："
   ]
  },
  {
   "cell_type": "code",
   "execution_count": 7,
   "id": "00b8c677-d529-4278-8863-9c80d5c528be",
   "metadata": {},
   "outputs": [
    {
     "name": "stdout",
     "output_type": "stream",
     "text": [
      "[{'name': 'Homer', 'age': 39}, {'name': 'Bart', 'age': 10}, {'name': 'cater', 'age': 20}]\n",
      "[{'name': 'Bart', 'age': 10}, {'name': 'cater', 'age': 20}, {'name': 'Homer', 'age': 39}]\n"
     ]
    }
   ],
   "source": [
    "items = [{'name': 'Homer', 'age': 39},\n",
    "         {'name': 'Bart', 'age': 10},\n",
    "         {\"name\": 'cater', 'age': 20}]\n",
    "new_items = sorted(items, key=lambda item: item.get(\"age\"))\n",
    "print(items)\n",
    "print(new_items)"
   ]
  },
  {
   "cell_type": "markdown",
   "id": "8bb05b7d-0c5c-4688-b99e-9a956bbb4176",
   "metadata": {},
   "source": [
    "## 同时迭代两个列表"
   ]
  },
  {
   "cell_type": "code",
   "execution_count": 8,
   "id": "d68e6660-f72b-4a47-947c-b9551a9dde87",
   "metadata": {},
   "outputs": [
    {
     "name": "stdout",
     "output_type": "stream",
     "text": [
      "Packers vs. Ravens\n",
      "49ers vs. Patriots\n"
     ]
    }
   ],
   "source": [
    "nfc = [\"Packers\", \"49ers\"]\n",
    "afc = [\"Ravens\", \"Patriots\"]\n",
    "for teama, teamb in zip(nfc, afc):\n",
    "    print(f\"{teama} vs. {teamb}\")"
   ]
  },
  {
   "cell_type": "markdown",
   "id": "885dc3fe-c0aa-4766-8322-7a38baf3a143",
   "metadata": {},
   "source": [
    "## 带索引的列表迭代"
   ]
  },
  {
   "cell_type": "code",
   "execution_count": 9,
   "id": "9c15049b-781f-4451-b004-6960a0016ec2",
   "metadata": {},
   "outputs": [
    {
     "name": "stdout",
     "output_type": "stream",
     "text": [
      "0 Packers\n",
      "1 49ers\n",
      "2 Ravens\n",
      "3 Patriots\n"
     ]
    }
   ],
   "source": [
    "teams = [\"Packers\", \"49ers\", \"Ravens\", \"Patriots\"]\n",
    "for index, team in enumerate(teams):\n",
    "    print(index, team)"
   ]
  },
  {
   "cell_type": "markdown",
   "id": "51562482-a19d-4e62-b056-2ca9152a4bd5",
   "metadata": {},
   "source": [
    "enumerate 还可以指定元素的第一个元素从几开始，默认是0，也可以指定从1开始："
   ]
  },
  {
   "cell_type": "code",
   "execution_count": 10,
   "id": "eed444e7-0ab2-4dcc-bddd-da19cebbbd1f",
   "metadata": {},
   "outputs": [
    {
     "name": "stdout",
     "output_type": "stream",
     "text": [
      "1 Packers\n",
      "2 49ers\n",
      "3 Ravens\n",
      "4 Patriots\n"
     ]
    }
   ],
   "source": [
    "teams = [\"Packers\", \"49ers\", \"Ravens\", \"Patriots\"]\n",
    "for index, team in enumerate(teams, start=1):\n",
    "    print(index, team)"
   ]
  },
  {
   "cell_type": "markdown",
   "id": "0915ebb7-8ad8-42d1-a643-9f812d1e3b1f",
   "metadata": {},
   "source": [
    "## 初始化列表的值"
   ]
  },
  {
   "cell_type": "code",
   "execution_count": 11,
   "id": "ea2d6f7f-bfce-4cf5-8cf0-2976d64e9ac2",
   "metadata": {},
   "outputs": [
    {
     "data": {
      "text/plain": [
       "[0, 0, 0]"
      ]
     },
     "execution_count": 11,
     "metadata": {},
     "output_type": "execute_result"
    }
   ],
   "source": [
    "items = [0]*3\n",
    "items"
   ]
  },
  {
   "cell_type": "markdown",
   "id": "f86397b4-0907-4c8a-a421-8b9605190612",
   "metadata": {},
   "source": [
    "## 列表转换为字符串"
   ]
  },
  {
   "cell_type": "code",
   "execution_count": 12,
   "id": "7fb882f4-a2b6-49aa-a41f-4c059492a665",
   "metadata": {},
   "outputs": [
    {
     "data": {
      "text/plain": [
       "'Packers, 49ers, Ravens, Patriots'"
      ]
     },
     "execution_count": 12,
     "metadata": {},
     "output_type": "execute_result"
    }
   ],
   "source": [
    "teams = [\"Packers\", \"49ers\", \"Ravens\", \"Patriots\"]\n",
    "\", \".join(teams)"
   ]
  },
  {
   "cell_type": "markdown",
   "id": "b3745ee7-7244-4ac2-8ffe-89085aafee1a",
   "metadata": {},
   "source": [
    "## 获取列表的子集\n",
    "有时，你只需要列表中的部分元素，这里是一些获取列表子集的方法："
   ]
  },
  {
   "cell_type": "code",
   "execution_count": 13,
   "id": "5cd7d608-e78f-4832-9a06-56e9c27ed64b",
   "metadata": {},
   "outputs": [
    {
     "name": "stdout",
     "output_type": "stream",
     "text": [
      "[1, 2, 3]\n",
      "[2, 3, 4, 5]\n",
      "[4, 5, 6]\n",
      "[1, 3, 5]\n",
      "[2, 4, 6]\n"
     ]
    }
   ],
   "source": [
    "x = [1,2,3,4,5,6]\n",
    "#前3个\n",
    "print(x[:3])\n",
    "#中间4个\n",
    "print(x[1:5])\n",
    "#最后3个\n",
    "print(x[3:])\n",
    "#奇数项\n",
    "print(x[::2])\n",
    "#偶数项\n",
    "print(x[1::2])"
   ]
  },
  {
   "cell_type": "markdown",
   "id": "3e20c55e-9d59-41e7-9be3-6d301d3da570",
   "metadata": {},
   "source": [
    "## 获取两个列表的差"
   ]
  },
  {
   "cell_type": "code",
   "execution_count": 14,
   "id": "9c152ff0-a6c3-40f6-9490-f798cd8e8d9e",
   "metadata": {},
   "outputs": [
    {
     "data": {
      "text/plain": [
       "[9, 3, 7]"
      ]
     },
     "execution_count": 14,
     "metadata": {},
     "output_type": "execute_result"
    }
   ],
   "source": [
    "num_a = [1,3,5,7,9,1]\n",
    "num_b = [1,2,5]\n",
    "list(set(num_a) - set(num_b))"
   ]
  },
  {
   "cell_type": "markdown",
   "id": "b9f21cca-7ee6-49c6-8ed8-736d3c9212e1",
   "metadata": {},
   "source": [
    "## 拷贝一个列表"
   ]
  },
  {
   "cell_type": "markdown",
   "id": "3aa81961-e117-4052-94bf-89680d8b4d2d",
   "metadata": {},
   "source": [
    "第一种方法\n",
    "\n",
    "```python\n",
    "new_list = old_list[:]\n",
    "```\n",
    "\n",
    "第二种方法\n",
    "\n",
    "```python\n",
    "new_list = list(old_list)\n",
    "```\n",
    "\n",
    "第三种方法:\n",
    "\n",
    "```python\n",
    "import copy\n",
    "# 浅拷贝\n",
    "new_list = copy.copy(old_list)\n",
    "# 深拷贝\n",
    "new_list = copy.deepcopy(old_list)\n",
    "```"
   ]
  },
  {
   "cell_type": "markdown",
   "id": "31808086-57ed-4967-86b1-96cc39445cef",
   "metadata": {},
   "source": [
    "## 移除列表中的元素"
   ]
  },
  {
   "cell_type": "markdown",
   "id": "caf2cb52-6339-4aa9-a04a-6abdf53bf465",
   "metadata": {},
   "source": [
    "删除列表中的元素有三种方式。\n",
    "\n",
    "remove 移除某个元素，而且只能移除第一次出现的元素"
   ]
  },
  {
   "cell_type": "code",
   "execution_count": 15,
   "id": "9f8bac07-95fe-4db2-8a89-6398f98e9d9c",
   "metadata": {},
   "outputs": [
    {
     "data": {
      "text/plain": [
       "[0, 2, 3]"
      ]
     },
     "execution_count": 15,
     "metadata": {},
     "output_type": "execute_result"
    }
   ],
   "source": [
    "a = [0, 2, 2, 3]\n",
    "a.remove(2)\n",
    "a"
   ]
  },
  {
   "cell_type": "markdown",
   "id": "f5c5636e-7a14-4ae4-8141-1db83ee7d677",
   "metadata": {},
   "source": [
    "如果要移除的元素不在列表中，则抛出 ValueError 异常\n",
    "```python\n",
    ">>> a.remove(7)\n",
    "Traceback (most recent call last):\n",
    "  File \"<stdin>\", line 1, in <module>\n",
    "ValueError: list.remove(x): x not in list·\n",
    "```"
   ]
  },
  {
   "cell_type": "markdown",
   "id": "ff53a575-9383-4b21-946e-d40037ac7e61",
   "metadata": {},
   "source": [
    "del 根据指定的位置移除某元素"
   ]
  },
  {
   "cell_type": "code",
   "execution_count": 16,
   "id": "7cf4c299-c4ef-4fd4-b8e4-f13dc4da90eb",
   "metadata": {},
   "outputs": [
    {
     "data": {
      "text/plain": [
       "[4, 2, 1]"
      ]
     },
     "execution_count": 16,
     "metadata": {},
     "output_type": "execute_result"
    }
   ],
   "source": [
    "a = [4, 3, 2, 1]\n",
    "# 移除第二个元素\n",
    "del a[1]\n",
    "a"
   ]
  },
  {
   "cell_type": "markdown",
   "id": "792f7143-c3d4-4b8b-b6f9-d053b561afd7",
   "metadata": {},
   "source": [
    "当超出列表的下表索引时，抛出IndexError的异常：\n",
    "```python\n",
    "del a[7]\n",
    "Traceback (most recent call last):\n",
    "  File \"<stdin>\", line 1, in <module>\n",
    "IndexError: list assignment index out of range\n",
    "```"
   ]
  },
  {
   "cell_type": "markdown",
   "id": "627ac924-fdbd-4c5a-ae6f-1e61dd10039e",
   "metadata": {},
   "source": [
    "pop 与 del 类似，但是 pop 方法可以返回移除的元素："
   ]
  },
  {
   "cell_type": "code",
   "execution_count": 17,
   "id": "a2aff48a-abd8-4d76-87c8-4b7fad7b160f",
   "metadata": {},
   "outputs": [
    {
     "data": {
      "text/plain": [
       "3"
      ]
     },
     "execution_count": 17,
     "metadata": {},
     "output_type": "execute_result"
    }
   ],
   "source": [
    "a = [4, 3, 5]\n",
    "a.pop(1)"
   ]
  },
  {
   "cell_type": "code",
   "execution_count": 18,
   "id": "4f913705-c1df-45d9-8bfd-6b1f9a1b5499",
   "metadata": {},
   "outputs": [
    {
     "data": {
      "text/plain": [
       "[4, 5]"
      ]
     },
     "execution_count": 18,
     "metadata": {},
     "output_type": "execute_result"
    }
   ],
   "source": [
    "a"
   ]
  },
  {
   "cell_type": "markdown",
   "id": "a46a1fdd-236c-4ec8-84fe-279e709bb6b6",
   "metadata": {},
   "source": [
    "同样，当超出列表的下表索引时，抛出IndexError的异常：\n",
    "```python\n",
    "a.pop(7)\n",
    "Traceback (most recent call last):\n",
    "  File \"<stdin>\", line 1, in <module>\n",
    "IndexError: pop index out of range\n",
    "```"
   ]
  },
  {
   "cell_type": "markdown",
   "id": "f953d4fb-eb76-44df-a2cf-cb65a6236c04",
   "metadata": {},
   "source": [
    "## 连接两个列表"
   ]
  },
  {
   "cell_type": "code",
   "execution_count": 19,
   "id": "e47f5c91-c33d-4728-946e-ef28653e5315",
   "metadata": {},
   "outputs": [
    {
     "data": {
      "text/plain": [
       "[1, 2, 3, 4, 5, 6]"
      ]
     },
     "execution_count": 19,
     "metadata": {},
     "output_type": "execute_result"
    }
   ],
   "source": [
    "number_a = [1, 2, 3]\n",
    "number_b = [4, 5, 6]\n",
    "\n",
    "mergedlist = number_a + number_b\n",
    "mergedlist"
   ]
  },
  {
   "cell_type": "markdown",
   "id": "3f2f1e1d-c03d-43d0-89bf-d1e39c2acd9d",
   "metadata": {},
   "source": [
    "## 随机获取列表中的某个元素"
   ]
  },
  {
   "cell_type": "code",
   "execution_count": 20,
   "id": "b7c14a57-cba9-460e-983e-b5f5c8463cb1",
   "metadata": {},
   "outputs": [
    {
     "name": "stdout",
     "output_type": "stream",
     "text": [
      "78\n",
      "12\n",
      "12\n"
     ]
    }
   ],
   "source": [
    "import random\n",
    "items = [8, 23, 45, 12, 78]\n",
    "for i in range(3):\n",
    "    print(random.choice(items))"
   ]
  }
 ],
 "metadata": {
  "kernelspec": {
   "display_name": "Python 3 (ipykernel)",
   "language": "python",
   "name": "python3"
  },
  "language_info": {
   "codemirror_mode": {
    "name": "ipython",
    "version": 3
   },
   "file_extension": ".py",
   "mimetype": "text/x-python",
   "name": "python",
   "nbconvert_exporter": "python",
   "pygments_lexer": "ipython3",
   "version": "3.9.7"
  }
 },
 "nbformat": 4,
 "nbformat_minor": 5
}
