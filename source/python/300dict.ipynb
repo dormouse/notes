{
 "cells": [
  {
   "cell_type": "markdown",
   "id": "f94b2f7a-f755-49d2-a992-9a60432a6128",
   "metadata": {},
   "source": [
    "# Python Note 300 - Dict\n",
    "\n",
    "```\n",
    ":date: 2017-02-13\n",
    ":modified: 2017-02-13\n",
    ":slug: python-note-300-dict\n",
    ":tags: python, note, dict\n",
    ":category: Development\n",
    ":author: Dormouse Young\n",
    ":summary: Python note series 300 - dict\n",
    "```"
   ]
  },
  {
   "cell_type": "markdown",
   "id": "5792bf50-68e5-4ce2-8485-0ecf5a20f869",
   "metadata": {},
   "source": [
    "## 字典推导\n",
    "和列表推导类似，字典同样可以推导："
   ]
  },
  {
   "cell_type": "code",
   "execution_count": 1,
   "id": "bacf4031-5922-4635-bb19-5f28f28d3fc1",
   "metadata": {},
   "outputs": [
    {
     "name": "stdout",
     "output_type": "stream",
     "text": [
      "{'Packers': 0, '49ers': 1, 'Ravens': 2, 'Patriots': 3}\n"
     ]
    }
   ],
   "source": [
    "teams = [\"Packers\", \"49ers\", \"Ravens\", \"Patriots\"]\n",
    "print({key: value for value, key in enumerate(teams)})"
   ]
  },
  {
   "cell_type": "markdown",
   "id": "54c11a5a-68de-45bd-bdaf-7c0cd43cff0b",
   "metadata": {},
   "source": [
    "## 从字典中获取元素\n",
    "\n",
    "使用字典的 get 方法可以安全的获得字典的值，第二个参数是缺省值："
   ]
  },
  {
   "cell_type": "code",
   "execution_count": 2,
   "id": "0a9725e0-7935-4b22-aa40-a7be9f464775",
   "metadata": {},
   "outputs": [
    {
     "data": {
      "text/plain": [
       "False"
      ]
     },
     "execution_count": 2,
     "metadata": {},
     "output_type": "execute_result"
    }
   ],
   "source": [
    "data = {'user': 1, 'name': 'Max', 'three': 4}\n",
    "is_admin = data.get('admin', False)\n",
    "is_admin"
   ]
  },
  {
   "cell_type": "markdown",
   "id": "09d330b8-a11f-4805-b56c-2f197ec59662",
   "metadata": {},
   "source": [
    "## 在 Dictionary 中元素分组\n",
    "\n",
    "和上面类似，先创建 Persons："
   ]
  },
  {
   "cell_type": "code",
   "execution_count": 3,
   "id": "ef78b9b2-da63-4a1d-986c-856d9cd6b49d",
   "metadata": {},
   "outputs": [],
   "source": [
    "class Person(object):\n",
    "    def __init__(self, age):\n",
    "        self.age = age\n",
    "\n",
    "persons = [Person(age) for age in (78, 14, 78, 42, 14)]"
   ]
  },
  {
   "cell_type": "markdown",
   "id": "bccc7427-5767-41a8-8bd8-7c65c1c21fce",
   "metadata": {},
   "source": [
    "如果现在我们要按照年龄分组的话，一种方法是使用 in 操作符："
   ]
  },
  {
   "cell_type": "code",
   "execution_count": 4,
   "id": "2ea378ec-bf59-4d4f-8ca6-9935fbbfb9e8",
   "metadata": {},
   "outputs": [],
   "source": [
    "persons_by_age = {}\n",
    "\n",
    "for person in persons:\n",
    "    age = person.age\n",
    "    if age in persons_by_age:\n",
    "        persons_by_age[age].append(person)\n",
    "    else:\n",
    "        persons_by_age[age] = [person]\n",
    "\n",
    "assert len(persons_by_age[78]) == 2"
   ]
  },
  {
   "cell_type": "markdown",
   "id": "024743a4-085f-438a-b486-d13ec9a649c8",
   "metadata": {},
   "source": [
    "相比较之下，使用 collections 模块中 defaultdict 方法的途径可读性更好："
   ]
  },
  {
   "cell_type": "code",
   "execution_count": 5,
   "id": "8390c553-6795-4306-a242-45429ce766b2",
   "metadata": {},
   "outputs": [],
   "source": [
    "from collections import defaultdict\n",
    "persons_by_age = defaultdict(list)\n",
    "for person in persons:\n",
    "    persons_by_age[person.age].append(person)"
   ]
  },
  {
   "cell_type": "markdown",
   "id": "466e9938-dc2c-4e1e-9a95-7107a9ca50b1",
   "metadata": {},
   "source": [
    "defaultdict 将会利用接受的参数为每个不存在的 key 创建对应的值，这里我们传递的是 list，所以它将为每个 key 创建一个 list 类型的值。\n",
    "假如需要建立嵌套的defaultdict，d = defaultdict(defaultdict)行不通，正确的方法是d = defaultdict(lambda :defaultdict(int))。"
   ]
  },
  {
   "cell_type": "markdown",
   "id": "2a20a923-a290-4c9b-8c91-2ac901e8e07d",
   "metadata": {},
   "source": [
    "## list 转 dict\n",
    "\n",
    "将 `['1:a','2:b','3:c']` 转换为 `{'1′: 'a', '3′: 'c', '2′: 'b'}`："
   ]
  },
  {
   "cell_type": "code",
   "execution_count": 6,
   "id": "06df25db-5267-4e62-82f0-892c5747aa97",
   "metadata": {},
   "outputs": [
    {
     "data": {
      "text/plain": [
       "{'1': 'a', '2': 'b', '3': 'c'}"
      ]
     },
     "execution_count": 6,
     "metadata": {},
     "output_type": "execute_result"
    }
   ],
   "source": [
    "b = ['1:a','2:b','3:c']\n",
    "dict(item.split(':')[:2] for item in b)"
   ]
  },
  {
   "cell_type": "markdown",
   "id": "92c3ba74-2765-4612-bbb1-40b30de5ffeb",
   "metadata": {},
   "source": [
    "## dict 转 class\n",
    "\n",
    "方法如下："
   ]
  },
  {
   "cell_type": "code",
   "execution_count": 7,
   "id": "5b19c4b1-2cde-4021-acc0-0133a8126ea4",
   "metadata": {},
   "outputs": [
    {
     "name": "stdout",
     "output_type": "stream",
     "text": [
      "<__main__.Struct object at 0x7ff15c775310>\n",
      "<__main__.Struct object at 0x7ff15c775310>\n",
      "['xm', 'xb']\n",
      "2\n"
     ]
    }
   ],
   "source": [
    "class Struct:\n",
    "    def __init__(self, **entries):\n",
    "        for k, v in entries.items():\n",
    "            if isinstance(v, dict):\n",
    "                entries[k] = Struct(**v)\n",
    "                print(entries[k])\n",
    "        self.__dict__.update(entries)\n",
    "\n",
    "\n",
    "\n",
    "args = {'a': {'cola': ['xm', 'xb']},\n",
    "        'b': 2}\n",
    "s = Struct(**args)\n",
    "print(s.a)\n",
    "print(s.a.cola)\n",
    "print(s.b)"
   ]
  }
 ],
 "metadata": {
  "kernelspec": {
   "display_name": "Python 3 (ipykernel)",
   "language": "python",
   "name": "python3"
  },
  "language_info": {
   "codemirror_mode": {
    "name": "ipython",
    "version": 3
   },
   "file_extension": ".py",
   "mimetype": "text/x-python",
   "name": "python",
   "nbconvert_exporter": "python",
   "pygments_lexer": "ipython3",
   "version": "3.9.7"
  }
 },
 "nbformat": 4,
 "nbformat_minor": 5
}
