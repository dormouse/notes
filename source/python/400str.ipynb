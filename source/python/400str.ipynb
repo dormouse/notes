{
 "cells": [
  {
   "cell_type": "markdown",
   "id": "66f006cd-2d86-47ba-8cf9-a41815360617",
   "metadata": {
    "tags": []
   },
   "source": [
    "# Python Note 400 - String\n",
    "```\n",
    ":date: 2017-02-13\n",
    ":modified: 2022-05-31\n",
    ":slug: python-note-400-string\n",
    ":tags: python, note, string\n",
    ":category: Development\n",
    ":author: Dormouse Young\n",
    ":summary: Python note series 400 - string\n",
    "```"
   ]
  },
  {
   "cell_type": "markdown",
   "id": "f75953f4-dab2-43b4-99cc-efd1137bcdda",
   "metadata": {},
   "source": [
    "## 函数\n",
    "* capitalize() 首字符大写\n",
    "* center(width) 返回一个原字符串居中,并使用空格填充至长度 width 的新字串\n",
    "* count(str, beg=0, end=len(string)) 返回 str 在 string 里面出现的次数，如果 beg 或者 end 指定则返回指定范围内 str 出现的次数\n",
    "* decode(encoding='UTF-8', errors='strict') 以 encoding 指定的编码格式解码string ，如果出错默认报一个 ValueError 的异常 ，除非 errors 指定的是 'ignore' 或者 'replace'\n",
    "* encode(encoding='UTF-8', errors='strict') 以 encoding 指定的编码格式编码string，如果出错默认报一个 ValueError 的异常，除非 errors 指定的是 'ignore' 或者 'replace'\n",
    "* endswith(obj, beg=0, end=len(string)) 检查字符串是否以 obj 结束，如果beg 或者 end 指定则检查指定的范围内是否以 obj 结束 ，如果是，返回 True ,否则返回 False.\n",
    "* expandtabs(tabsize=8) 把字符串string中的tab符号转为空格,默认的空格数tabsize是 8.\n",
    "* find(str, beg=0, end=len(string)) 检测 str 是否包含在 string 中,如果 beg 和 end 指定范围，则检查是否包含在指定范围内 ，如果是返回开始的索引值，否则返回-1\n",
    "* index(str, beg=0, end=len(string)) 跟find()方法一样，只不过如果str不在 string中会报一个异常.\n",
    "* isalnum() 如果 string 至少有一个字符并且所有字符都是字母或数字则返回True,否则返回 False\n",
    "* isalpha() 如果 string 至少有一个字符并且所有字符都是字母则返回 True,否则返回 False\n",
    "* isdecimal() 如果 string 只包含十进制数字则返回True 否则返回 False.\n",
    "* isdigit() 如果 string 只包含数字则返回 True 否则返回 False.\n",
    "* islower() 如果 string 中包含至少一个区分大小写的字符，并且所有这些(区分大小写的)字符都 是小写，则返回True，否则返回 False\n",
    "* isnumeric() 如果 string 中只包含数字字符，则返回True，否则返回 False\n",
    "* isspace() 如果 string 中只包含空格，则返回True，否则返回 False.\n",
    "* istitle() 如果 string 是标题化的(见 title())则返回 True，否则返回 False\n",
    "* isupper() 如果 string 中包含至少一个区分大小写的字符，并且所有这些(区分大小写的)字符都 是大写，则返回True，否则返回 False\n",
    "* join(seq) Merges (concatenates)以 string 作为分隔符，将 seq 中所有的元素(的字符串表示)合 并为一个新的字符串\n",
    "* ljust(width) 返回一个原字符串左对齐,并使用空格填充至长度width 的新字符串\n",
    "* lower() 转换 string 中所有大写字符为小写\n",
    "* lstrip() 截掉 string 左边的空格.\n",
    "* string.partition(str) 有点像 find()和 split()的结合体,从 str 出现的第一个位置起,把字符 串string分 成一个3元素的元组(string_pre_str,str,strig_post_str),如果 string中不包含str则string_pre_str == string.\n",
    "* replace(str1, str2,num=string.count(str1)) 把 string中的str1替换成str2,如果num指定，则替换不超过 num 次.\n",
    "* rfind(str, beg=0,end=len(string)) 类似于 find()函数，不过是从右边开始查找.\n",
    "* rindex( str, beg=0,end=len(string)) 类似于 index()，不过是从右边开始.\n",
    "* rjust(width) 返回一个原字符串右对齐,并使用空格填充至长度width 的新字符串\n",
    "* rpartition(str) 类似于 partition()函数,不过是从右边开始查找.\n",
    "* rstrip() 删除 string 字符串末尾的空格.\n",
    "* split(str=\"\", num=string.count(str)) 以 str 为分隔符切片string，如果num有指定值，则仅分隔num个子字符串\n",
    "* splitlines(num=string.count('\\n')) 按照行分隔，返回一个包含各行作为元素的列表，如果num指定则仅切片 num 个行.\n",
    "* startswith(obj, beg=0,end=len(string)) 检查字符串是否是以 obj 开头，是则返回True，否则返回 False。如果beg 和 end 指定值 ，则在指定范围内检查.\n",
    "* strip([obj]) 在string 上执行 lstrip()和 rstrip().\n",
    "* swapcase() 翻转 string 中的大小写\n",
    "* title() 返回\"标题化\"的 string,就是说所有单词都是以大写开始，其余字母均为小写(见 istitle())\n",
    "* translate(str, del=\"\") 根据 str 给出的表(包含 256 个字符)转换 string 的字符,要过滤掉的字符放到 del 参数中\n",
    "* upper() 转换 string 中的小写字母为大写\n",
    "* zfill(width) 返回长度为width的字符串,原字符串 string 右对齐,前面填充0"
   ]
  },
  {
   "cell_type": "markdown",
   "id": "18de1b55-3d37-4374-9750-464c14652266",
   "metadata": {},
   "source": [
    "## 字符串的替换"
   ]
  },
  {
   "cell_type": "markdown",
   "id": "ae0225cf-fdd9-4aba-a6c4-32761cf7c229",
   "metadata": {},
   "source": [
    "### replace\n",
    "\n",
    "`replace` 是内置函数或者方法，其原型为：`s.replace(old, new, count=-1, /)` 。"
   ]
  },
  {
   "cell_type": "code",
   "execution_count": 1,
   "id": "07afdac4-7d0b-41ad-864e-2a1bfe3e3d22",
   "metadata": {},
   "outputs": [
    {
     "name": "stdout",
     "output_type": "stream",
     "text": [
      "one-two-one two one\n"
     ]
    }
   ],
   "source": [
    "# 替换前两个空格。\n",
    "s = 'one two one two one'\n",
    "print(s.replace(' ', '-', 2))"
   ]
  },
  {
   "cell_type": "code",
   "execution_count": 2,
   "id": "c9e62b73-e781-4045-8953-1a65e5ea5399",
   "metadata": {},
   "outputs": [
    {
     "data": {
      "text/plain": [
       "'one two one two one'"
      ]
     },
     "execution_count": 2,
     "metadata": {},
     "output_type": "execute_result"
    }
   ],
   "source": [
    "# 字符串本身不会改变\n",
    "s"
   ]
  },
  {
   "cell_type": "code",
   "execution_count": 3,
   "id": "3afd2e82-d3d9-4196-a623-8297bd62bdfd",
   "metadata": {},
   "outputs": [
    {
     "data": {
      "text/plain": [
       "'111 222 111 222 111'"
      ]
     },
     "execution_count": 3,
     "metadata": {},
     "output_type": "execute_result"
    }
   ],
   "source": [
    "# 链式调用\n",
    "s.replace('one', '111').replace('two', '222')"
   ]
  },
  {
   "cell_type": "markdown",
   "id": "49ffb957-064d-4d30-a185-a8229b877455",
   "metadata": {},
   "source": [
    "### translate\n",
    "\n",
    "`translate` 是内置函数或者方法，其原型为：`s.translate(table, /)` 。用于单个字的，一对一或者一对多的替换。"
   ]
  },
  {
   "cell_type": "code",
   "execution_count": 4,
   "id": "96b65675-36fd-4c39-b00c-668b11336f46",
   "metadata": {},
   "outputs": [
    {
     "data": {
      "text/plain": [
       "'ine fwi ine fwi ine'"
      ]
     },
     "execution_count": 4,
     "metadata": {},
     "output_type": "execute_result"
    }
   ],
   "source": [
    "# 一对一\n",
    "s = 'one two one two one'\n",
    "s.translate(str.maketrans({'o': 'i', 't': 'f'}))"
   ]
  },
  {
   "cell_type": "code",
   "execution_count": 5,
   "id": "457f03fa-c955-4c4c-aa3d-22b0a6279e38",
   "metadata": {},
   "outputs": [
    {
     "data": {
      "text/plain": [
       "'one  one '"
      ]
     },
     "execution_count": 5,
     "metadata": {},
     "output_type": "execute_result"
    }
   ],
   "source": [
    "# 一对多\n",
    "s = '一 二 一 二'\n",
    "s.translate(str.maketrans({'一': 'one', '二': None}))\n",
    "# XXXne wXXX XXXne wXXX XXXne"
   ]
  },
  {
   "cell_type": "code",
   "execution_count": 6,
   "id": "431289c1-d7b6-426a-a6c8-4cc680178cb2",
   "metadata": {},
   "outputs": [
    {
     "data": {
      "text/plain": [
       "'X tYX X tYX X'"
      ]
     },
     "execution_count": 6,
     "metadata": {},
     "output_type": "execute_result"
    }
   ],
   "source": [
    "# 字母表替换，第一个参数和第二参数一一对应，第三个参数是要删除的字母\n",
    "s = 'one two one two one'\n",
    "s.translate(str.maketrans('ow', 'XY', 'ne'))"
   ]
  },
  {
   "cell_type": "markdown",
   "id": "8bf1e415-fa21-4fee-80fe-55d72e356cf4",
   "metadata": {},
   "source": [
    "### 正则表达式\n",
    "\n",
    "更多内容参见：https://docs.python.org/3/library/re.html#re.sub"
   ]
  },
  {
   "cell_type": "code",
   "execution_count": 7,
   "id": "34e02f50-176d-4f9d-b0a9-18422d93a987",
   "metadata": {},
   "outputs": [
    {
     "data": {
      "text/plain": [
       "'aaa@my.com bbb@my.com ccc@zzz.com'"
      ]
     },
     "execution_count": 7,
     "metadata": {},
     "output_type": "execute_result"
    }
   ],
   "source": [
    "import re\n",
    "\n",
    "s = 'aaa@xxx.com bbb@yyy.com ccc@zzz.com'\n",
    "re.sub('@[a-z]*.com', '@my.com', s, 2)"
   ]
  },
  {
   "cell_type": "code",
   "execution_count": 8,
   "id": "19f32254-9156-4c67-92e9-590b40c0be8e",
   "metadata": {},
   "outputs": [
    {
     "data": {
      "text/plain": [
       "('aaa@my.com bbb@my.com ccc@my.com', 3)"
      ]
     },
     "execution_count": 8,
     "metadata": {},
     "output_type": "execute_result"
    }
   ],
   "source": [
    "# subn 返回一个无组，元组第一个元素是被替换的字符串，第二个是替换的数量\n",
    "s = 'aaa@xxx.com bbb@yyy.com ccc@zzz.com'\n",
    "re.subn('@[a-z]*.com', '@my.com', s)"
   ]
  }
 ],
 "metadata": {
  "kernelspec": {
   "display_name": "Python 3 (ipykernel)",
   "language": "python",
   "name": "python3"
  },
  "language_info": {
   "codemirror_mode": {
    "name": "ipython",
    "version": 3
   },
   "file_extension": ".py",
   "mimetype": "text/x-python",
   "name": "python",
   "nbconvert_exporter": "python",
   "pygments_lexer": "ipython3",
   "version": "3.9.7"
  }
 },
 "nbformat": 4,
 "nbformat_minor": 5
}
