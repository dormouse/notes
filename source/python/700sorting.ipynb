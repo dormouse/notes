{
 "cells": [
  {
   "cell_type": "markdown",
   "id": "90efc594-19b6-4f11-8bf8-7c4bd9b49c23",
   "metadata": {},
   "source": [
    "# Python Note 700 - Sorting\n",
    "\n",
    "```\n",
    ":date: 2017-02-13\n",
    ":modified: 2022-06-07\n",
    ":slug: python-note-700-sorting\n",
    ":tags: python, note, sorting\n",
    ":category: Development\n",
    ":author: Dormouse Young\n",
    ":summary: Python note series 700 - sorting\n",
    "```\n",
    "\n",
    "在 Python 中排序常用的有 list.sort() 和 sorted() 。\n",
    "\n",
    "## 基础用法\n",
    "\n",
    "Python 内置的 `sorted` 可以对列表进行排序。例如："
   ]
  },
  {
   "cell_type": "code",
   "execution_count": 1,
   "id": "10af7144-dea7-43fa-9371-cee3d11f1e07",
   "metadata": {},
   "outputs": [
    {
     "data": {
      "text/plain": [
       "[1, 2, 3, 4, 5]"
      ]
     },
     "execution_count": 1,
     "metadata": {},
     "output_type": "execute_result"
    }
   ],
   "source": [
    "sorted([5, 2, 3, 1, 4])"
   ]
  },
  {
   "cell_type": "markdown",
   "id": "b8e5057e-6ba2-4f64-99e6-79f0270ab32f",
   "metadata": {},
   "source": [
    "`sorted` 有一个 `reverse` 参数，默认为 `False` ，默认排序为升序。如果设置为 `True` ，则为降序："
   ]
  },
  {
   "cell_type": "code",
   "execution_count": 2,
   "id": "3fdfdb90-c968-4213-b3a6-8f3546722c9b",
   "metadata": {},
   "outputs": [
    {
     "data": {
      "text/plain": [
       "[5, 4, 3, 2, 1]"
      ]
     },
     "execution_count": 2,
     "metadata": {},
     "output_type": "execute_result"
    }
   ],
   "source": [
    "sorted([5, 2, 3, 1, 4], reverse=True)"
   ]
  },
  {
   "cell_type": "markdown",
   "id": "7ef266a1-e5eb-41e4-8503-ccb8bb5436d0",
   "metadata": {},
   "source": [
    "如果排序的对象是列表，那么还可以使用列表本身的 `sort` ："
   ]
  },
  {
   "cell_type": "code",
   "execution_count": 3,
   "id": "c622cb67-4f30-4455-849d-1800380be374",
   "metadata": {},
   "outputs": [
    {
     "data": {
      "text/plain": [
       "[1, 2, 3, 4, 5]"
      ]
     },
     "execution_count": 3,
     "metadata": {},
     "output_type": "execute_result"
    }
   ],
   "source": [
    "my_nums = [5, 2, 3, 1, 4]\n",
    "my_nums.sort()\n",
    "my_nums"
   ]
  },
  {
   "cell_type": "markdown",
   "id": "80fd9bd0-a26d-4b9d-a4c0-2bb8c3769193",
   "metadata": {},
   "source": [
    "`sort` 同样有 `reverse` 参数："
   ]
  },
  {
   "cell_type": "code",
   "execution_count": 4,
   "id": "4cb9310d-d613-417b-8e3f-23bb01cce1f4",
   "metadata": {},
   "outputs": [
    {
     "data": {
      "text/plain": [
       "[5, 4, 3, 2, 1]"
      ]
     },
     "execution_count": 4,
     "metadata": {},
     "output_type": "execute_result"
    }
   ],
   "source": [
    "my_nums = [5, 2, 3, 1, 4]\n",
    "my_nums.sort(reverse=True)\n",
    "my_nums"
   ]
  },
  {
   "cell_type": "markdown",
   "id": "adff9134-2d0f-4371-bab5-4ea32b0be4d4",
   "metadata": {},
   "source": [
    "从上面的例子可以看出：\n",
    "\n",
    "* `sort` 只能用于列表，而 `sorted` 不仅可以用于列表，还可以用于其他可迭代对象。\n",
    "* `sort` 会改变列表本身，而 `sorted` 不会改变可迭代对象本身，而是返回一个新的列表。\n",
    "\n",
    "那么什么是“可迭代对象”呢？\n",
    "要解释清楚不是三五句话可以讲完的，简单的说我们可以理解为可以循环取值的对像，例如 `string` 、`tuple` 、`dictionary` 、`sets` 、`list` 等等。\n",
    "我们来看看例子："
   ]
  },
  {
   "cell_type": "code",
   "execution_count": 5,
   "id": "4c98b54f-c132-407b-a83f-11ee303b10b8",
   "metadata": {},
   "outputs": [
    {
     "data": {
      "text/plain": [
       "['1', '2', '3', '4', '5']"
      ]
     },
     "execution_count": 5,
     "metadata": {},
     "output_type": "execute_result"
    }
   ],
   "source": [
    "my_string = '52314'\n",
    "sorted(my_string)"
   ]
  },
  {
   "cell_type": "code",
   "execution_count": 6,
   "id": "dcd749f0-b0fe-4f96-9898-8a2787c9031a",
   "metadata": {},
   "outputs": [
    {
     "data": {
      "text/plain": [
       "['a', 'b', 'c', 'd']"
      ]
     },
     "execution_count": 6,
     "metadata": {},
     "output_type": "execute_result"
    }
   ],
   "source": [
    "# 字典是对 key 进行排序\n",
    "my_dict = {'d': 5, 'b': 2, 'c':3, 'a': 4}\n",
    "sorted(my_dict)"
   ]
  },
  {
   "cell_type": "markdown",
   "id": "adeda073-3880-419f-a72a-eb368836ae97",
   "metadata": {},
   "source": [
    "## key 函数"
   ]
  },
  {
   "cell_type": "markdown",
   "id": "7a5cba63-130e-4cae-af01-a51cbcbc31ec",
   "metadata": {},
   "source": [
    "`list.sort()` 和 `sorted` 都有一个 key 函数，其作用是相同的。把函数作为参数调用，这个函数会在排序之前作用每一个需要排序的对像。\n",
    "例如上面例子中字典是对 key 进行了排序，那么如何根据 value 对 key 进行排序呢？"
   ]
  },
  {
   "cell_type": "code",
   "execution_count": 7,
   "id": "734bb8d8-5b5b-446c-a684-0e68ff44dfc4",
   "metadata": {},
   "outputs": [
    {
     "data": {
      "text/plain": [
       "['b', 'c', 'a', 'd']"
      ]
     },
     "execution_count": 7,
     "metadata": {},
     "output_type": "execute_result"
    }
   ],
   "source": [
    "my_dict = {'d': 5, 'b': 2, 'c':3, 'a': 4}\n",
    "sorted(my_dict, key=lambda x : my_dict[x])"
   ]
  },
  {
   "cell_type": "markdown",
   "id": "16ef9dff-9875-4d36-a25f-92bc9d071c7f",
   "metadata": {},
   "source": [
    "来自 Python 官方文档的更多例子："
   ]
  },
  {
   "cell_type": "code",
   "execution_count": 8,
   "id": "8aee05ea-e97e-45af-b60a-96db79c7cb67",
   "metadata": {},
   "outputs": [
    {
     "data": {
      "text/plain": [
       "[('dave', 'B', 10), ('jane', 'B', 12), ('john', 'A', 15)]"
      ]
     },
     "execution_count": 8,
     "metadata": {},
     "output_type": "execute_result"
    }
   ],
   "source": [
    "student_tuples = [\n",
    "    ('john', 'A', 15),\n",
    "    ('jane', 'B', 12),\n",
    "    ('dave', 'B', 10),\n",
    "]\n",
    "sorted(student_tuples, key=lambda student: student[2])   # 根据年龄排序\n",
    "[('dave', 'B', 10), ('jane', 'B', 12), ('john', 'A', 15)]"
   ]
  },
  {
   "cell_type": "code",
   "execution_count": 9,
   "id": "87e0b97d-1d76-40c0-a35d-e733f56ccb61",
   "metadata": {},
   "outputs": [
    {
     "data": {
      "text/plain": [
       "[('dave', 'B', 10), ('jane', 'B', 12), ('john', 'A', 15)]"
      ]
     },
     "execution_count": 9,
     "metadata": {},
     "output_type": "execute_result"
    }
   ],
   "source": [
    "class Student:\n",
    "    def __init__(self, name, grade, age):\n",
    "        self.name = name\n",
    "        self.grade = grade\n",
    "        self.age = age\n",
    "    def __repr__(self):\n",
    "        return repr((self.name, self.grade, self.age))\n",
    "\n",
    "student_objects = [\n",
    "    Student('john', 'A', 15),\n",
    "    Student('jane', 'B', 12),\n",
    "    Student('dave', 'B', 10),\n",
    "]\n",
    "sorted(student_objects, key=lambda student: student.age)   # 根据年龄排序"
   ]
  },
  {
   "cell_type": "markdown",
   "id": "6326be35-11ed-4f76-9277-e0e8985b1129",
   "metadata": {},
   "source": [
    "## operator 模块函数\n",
    "\n",
    "operatro 模块中的 `itemgetter()` 、 `attrgetter()` 和 `methodcaller()` 函数可以简化和加速上述的 key 函数的使用。\n",
    "例如："
   ]
  },
  {
   "cell_type": "code",
   "execution_count": 10,
   "id": "b070c3dc-dfa1-4d3e-8205-7db106627e8b",
   "metadata": {},
   "outputs": [
    {
     "data": {
      "text/plain": [
       "[('dave', 'B', 10), ('jane', 'B', 12), ('john', 'A', 15)]"
      ]
     },
     "execution_count": 10,
     "metadata": {},
     "output_type": "execute_result"
    }
   ],
   "source": [
    "from operator import itemgetter, attrgetter\n",
    "sorted(student_tuples, key=itemgetter(2))"
   ]
  },
  {
   "cell_type": "code",
   "execution_count": 11,
   "id": "98437f85-0273-4fa5-a590-bbf2845d27da",
   "metadata": {},
   "outputs": [
    {
     "data": {
      "text/plain": [
       "[('dave', 'B', 10), ('jane', 'B', 12), ('john', 'A', 15)]"
      ]
     },
     "execution_count": 11,
     "metadata": {},
     "output_type": "execute_result"
    }
   ],
   "source": [
    "sorted(student_objects, key=attrgetter('age'))"
   ]
  },
  {
   "cell_type": "markdown",
   "id": "95739d9a-cfde-4d97-9c76-6c54822acfee",
   "metadata": {},
   "source": [
    "## 复杂排序\n",
    "下面的例子展示如何进行多个条件值反序："
   ]
  },
  {
   "cell_type": "code",
   "execution_count": 12,
   "id": "e9c5a24e-e345-4da8-8729-72bb23aca6b6",
   "metadata": {},
   "outputs": [
    {
     "data": {
      "text/plain": [
       "[('john', 'A', 15), ('dave', 'B', 10), ('jane', 'B', 12)]"
      ]
     },
     "execution_count": 12,
     "metadata": {},
     "output_type": "execute_result"
    }
   ],
   "source": [
    "sorted(student_tuples, key=itemgetter(1,2))"
   ]
  },
  {
   "cell_type": "code",
   "execution_count": 13,
   "id": "6048e9ff-b0be-4c81-86b1-78c8365820d5",
   "metadata": {},
   "outputs": [
    {
     "data": {
      "text/plain": [
       "[('john', 'A', 15), ('dave', 'B', 10), ('jane', 'B', 12)]"
      ]
     },
     "execution_count": 13,
     "metadata": {},
     "output_type": "execute_result"
    }
   ],
   "source": [
    "sorted(student_objects, key=attrgetter('grade', 'age'))"
   ]
  },
  {
   "cell_type": "markdown",
   "id": "52b23c76-14df-47c5-afe6-517c06c4e386",
   "metadata": {},
   "source": [
    "上述例子都是升序的，那么如果既有升序又有降序呢？\n",
    "我们还是来看官方的示例："
   ]
  },
  {
   "cell_type": "code",
   "execution_count": 14,
   "id": "b9084008-e004-43b6-808e-ed60c2674c2e",
   "metadata": {},
   "outputs": [
    {
     "data": {
      "text/plain": [
       "[('dave', 'B', 10), ('jane', 'B', 12), ('john', 'A', 15)]"
      ]
     },
     "execution_count": 14,
     "metadata": {},
     "output_type": "execute_result"
    }
   ],
   "source": [
    "s = sorted(student_objects, key=attrgetter('age'))     # 先根据第二条件值年龄排序\n",
    "sorted(s, key=attrgetter('grade'), reverse=True)       # 然后根据第一条件值排序，使用降序"
   ]
  },
  {
   "cell_type": "markdown",
   "id": "6b339492-3c81-48d7-bdfe-1b587292fc57",
   "metadata": {},
   "source": [
    "上述内容可以抽象为一个函数："
   ]
  },
  {
   "cell_type": "code",
   "execution_count": 15,
   "id": "db8b25cd-7def-4c55-89b0-ba2479318744",
   "metadata": {},
   "outputs": [
    {
     "data": {
      "text/plain": [
       "[('dave', 'B', 10), ('jane', 'B', 12), ('john', 'A', 15)]"
      ]
     },
     "execution_count": 15,
     "metadata": {},
     "output_type": "execute_result"
    }
   ],
   "source": [
    "def multisort(xs, specs):\n",
    "    for key, reverse in reversed(specs):\n",
    "        xs.sort(key=attrgetter(key), reverse=reverse)\n",
    "    return xs\n",
    "\n",
    "multisort(list(student_objects), (('grade', True), ('age', False)))"
   ]
  },
  {
   "cell_type": "markdown",
   "id": "59f3037d-dc62-4aa9-8544-6b7804b0ad9b",
   "metadata": {},
   "source": [
    "## 函数的变化"
   ]
  },
  {
   "cell_type": "markdown",
   "id": "6a2feb17-1cf0-45dc-b272-a81ddf699b3b",
   "metadata": {},
   "source": [
    "python 3 与 python 2 的函数定义是不同的，去掉了 `cmp` 参数。\n",
    "来看一下定义，下面是 Python 2.7.6 中的定义：\n",
    "\n",
    "```python\n",
    ">>> help(list.sort)\n",
    "Help on method_descriptor:\n",
    "\n",
    "sort(...)\n",
    "    L.sort(cmp=None, key=None, reverse=False) -- stable sort *IN PLACE*;\n",
    "    cmp(x, y) -> -1, 0, 1\n",
    "\n",
    ">>> help(sorted)\n",
    "Help on built-in function sorted in module __builtin__:\n",
    "\n",
    "sorted(...)\n",
    "    sorted(iterable, cmp=None, key=None, reverse=False) --> new sorted list\n",
    "\n",
    "sorted(iterable, cmp=None, key=None, reverse=False) --> new sorted list\n",
    "```\n",
    "\n",
    "下面是 Python 3.9.12 中的定义：\n",
    "\n",
    "```python\n",
    ">>> help(list.sort)\n",
    "\n",
    "Help on method_descriptor:\n",
    "\n",
    "sort(self, /, *, key=None, reverse=False)\n",
    "    Sort the list in ascending order and return None.\n",
    "    \n",
    "    The sort is in-place (i.e. the list itself is modified) and stable (i.e. the\n",
    "    order of two equal elements is maintained).\n",
    "    \n",
    "    If a key function is given, apply it once to each list item and sort them,\n",
    "    ascending or descending, according to their function values.\n",
    "    \n",
    "    The reverse flag can be set to sort in descending order.\n",
    "\n",
    ">>> help(sorted)\n",
    "\n",
    "Help on built-in function sorted in module builtins:\n",
    "\n",
    "sorted(iterable, /, *, key=None, reverse=False)\n",
    "    Return a new list containing all items from the iterable in ascending order.\n",
    "    \n",
    "    A custom key function can be supplied to customize the sort order, and the\n",
    "    reverse flag can be set to request the result in descending order.\n",
    "```"
   ]
  }
 ],
 "metadata": {
  "kernelspec": {
   "display_name": "Python 3 (ipykernel)",
   "language": "python",
   "name": "python3"
  },
  "language_info": {
   "codemirror_mode": {
    "name": "ipython",
    "version": 3
   },
   "file_extension": ".py",
   "mimetype": "text/x-python",
   "name": "python",
   "nbconvert_exporter": "python",
   "pygments_lexer": "ipython3",
   "version": "3.9.7"
  }
 },
 "nbformat": 4,
 "nbformat_minor": 5
}
