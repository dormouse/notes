{
 "cells": [
  {
   "cell_type": "markdown",
   "id": "8d5c37b1-2ff6-427c-8a18-dcab2bb6027e",
   "metadata": {},
   "source": [
    "# Python Note 100 - File\n",
    "\n",
    "```\n",
    ":date: 2017-02-13\n",
    ":modified: 2024-03-04\n",
    ":slug: python-note-100-file\n",
    ":tags: python, note, file\n",
    ":category: Development\n",
    ":author: Dormouse Young\n",
    ":summary: Python note series 100 - file\n",
    "```"
   ]
  },
  {
   "cell_type": "code",
   "execution_count": 1,
   "id": "5df743bf-8eb4-44d9-b6f9-4dba85eebf87",
   "metadata": {},
   "outputs": [],
   "source": [
    "import os\n",
    "import stat\n",
    "from collections import Counter\n",
    "from datetime import datetime\n",
    "from pathlib import Path"
   ]
  },
  {
   "cell_type": "markdown",
   "id": "fd639f3c-61cd-4d00-beac-4046b85f0d36",
   "metadata": {},
   "source": [
    "## 创建文件"
   ]
  },
  {
   "cell_type": "code",
   "execution_count": 2,
   "id": "7a3a01b1-c88d-4c06-b652-4e749066cc3f",
   "metadata": {},
   "outputs": [],
   "source": [
    "my_file = Path('/tmp/first/firstone/tmp.txt')\n",
    "\n",
    "# my_file.touch()\n",
    "# touch 方法用于创建空文件，目录必须存在，否则无法创建\n",
    "# ---------------------------------------------------------------------------\n",
    "# FileNotFoundError                         Traceback (most recent call last)\n",
    "# Cell In[9], line 2\n",
    "#       1 my_file = Path('/tmp/first/firstone/tmp.txt')\n",
    "# ----> 2 my_file.touch()\n",
    "# ...."
   ]
  },
  {
   "cell_type": "code",
   "execution_count": 3,
   "id": "ff976980-40aa-485c-87ac-5d521ebba1f2",
   "metadata": {},
   "outputs": [
    {
     "data": {
      "text/plain": [
       "True"
      ]
     },
     "execution_count": 3,
     "metadata": {},
     "output_type": "execute_result"
    }
   ],
   "source": [
    "my_path = Path('/tmp/first/firstone/')\n",
    "my_path.mkdir(exist_ok=True,parents=True)\n",
    "my_file.touch()\n",
    "my_file.exists()"
   ]
  },
  {
   "cell_type": "markdown",
   "id": "8bcea08f-f547-4b33-8691-fc1fabca0cb9",
   "metadata": {},
   "source": [
    "## 文件名的拆解"
   ]
  },
  {
   "cell_type": "code",
   "execution_count": 4,
   "id": "652b494c-c324-43ca-9f94-645dd4d4a193",
   "metadata": {},
   "outputs": [
    {
     "data": {
      "text/plain": [
       "'tmp.txt'"
      ]
     },
     "execution_count": 4,
     "metadata": {},
     "output_type": "execute_result"
    }
   ],
   "source": [
    "my_file.name                          # 获取文件名"
   ]
  },
  {
   "cell_type": "code",
   "execution_count": 5,
   "id": "eca2a8f1-78ea-42a3-aeaf-a763f2df10e2",
   "metadata": {},
   "outputs": [
    {
     "data": {
      "text/plain": [
       "'tmp'"
      ]
     },
     "execution_count": 5,
     "metadata": {},
     "output_type": "execute_result"
    }
   ],
   "source": [
    "my_file.stem                          # 获取文件名除后缀的部分"
   ]
  },
  {
   "cell_type": "code",
   "execution_count": 6,
   "id": "b5621d47-7c82-4f9d-aac9-14c96966abe1",
   "metadata": {},
   "outputs": [
    {
     "data": {
      "text/plain": [
       "'tmp_file.tar'"
      ]
     },
     "execution_count": 6,
     "metadata": {},
     "output_type": "execute_result"
    }
   ],
   "source": [
    "Path('tmp_file.tar.gz').stem  # 获取文件名除后缀的部分"
   ]
  },
  {
   "cell_type": "code",
   "execution_count": 7,
   "id": "f6c6ad52-f940-40cb-9079-42b72643ff57",
   "metadata": {},
   "outputs": [
    {
     "data": {
      "text/plain": [
       "'.txt'"
      ]
     },
     "execution_count": 7,
     "metadata": {},
     "output_type": "execute_result"
    }
   ],
   "source": [
    "my_file.suffix                        # 文件后缀"
   ]
  },
  {
   "cell_type": "code",
   "execution_count": 8,
   "id": "275461d6-4a51-42db-b510-72200437d237",
   "metadata": {},
   "outputs": [
    {
     "data": {
      "text/plain": [
       "['.txt']"
      ]
     },
     "execution_count": 8,
     "metadata": {},
     "output_type": "execute_result"
    }
   ],
   "source": [
    "my_file.suffixes                 # 文件的后缀们..."
   ]
  },
  {
   "cell_type": "code",
   "execution_count": 9,
   "id": "b9188a3f-e3d9-46b5-ad60-66413a6ef6a7",
   "metadata": {},
   "outputs": [
    {
     "data": {
      "text/plain": [
       "'.gz'"
      ]
     },
     "execution_count": 9,
     "metadata": {},
     "output_type": "execute_result"
    }
   ],
   "source": [
    "Path('tmp_file.tar.gz').suffix  # 文件后缀"
   ]
  },
  {
   "cell_type": "code",
   "execution_count": 10,
   "id": "6420ecbd-3a19-46ae-a3ac-0406a4ee6007",
   "metadata": {},
   "outputs": [
    {
     "data": {
      "text/plain": [
       "['.tar', '.gz']"
      ]
     },
     "execution_count": 10,
     "metadata": {},
     "output_type": "execute_result"
    }
   ],
   "source": [
    "Path('tmp_file.tar.gz').suffixes # 文件的后缀们..."
   ]
  },
  {
   "cell_type": "code",
   "execution_count": 11,
   "id": "c3dc2478-c231-4fb5-907b-797057117ba2",
   "metadata": {},
   "outputs": [
    {
     "data": {
      "text/plain": [
       "PosixPath('/tmp/first/firstone')"
      ]
     },
     "execution_count": 11,
     "metadata": {},
     "output_type": "execute_result"
    }
   ],
   "source": [
    "my_file.parent                        # 相当于dirnanme"
   ]
  },
  {
   "cell_type": "code",
   "execution_count": 12,
   "id": "5d53edab-9ef3-4834-9b7d-82de268af275",
   "metadata": {},
   "outputs": [
    {
     "data": {
      "text/plain": [
       "[PosixPath('/tmp/first/firstone'),\n",
       " PosixPath('/tmp/first'),\n",
       " PosixPath('/tmp'),\n",
       " PosixPath('/')]"
      ]
     },
     "execution_count": 12,
     "metadata": {},
     "output_type": "execute_result"
    }
   ],
   "source": [
    "# p.parents                       # 返回一个iter, 包含所有父目录\n",
    "list(my_file.parents)"
   ]
  },
  {
   "cell_type": "code",
   "execution_count": 13,
   "id": "c729ca74-dec3-46b9-b543-62b8649e9cde",
   "metadata": {},
   "outputs": [
    {
     "data": {
      "text/plain": [
       "('/', 'tmp', 'first', 'firstone', 'tmp.txt')"
      ]
     },
     "execution_count": 13,
     "metadata": {},
     "output_type": "execute_result"
    }
   ],
   "source": [
    "my_file.parts                     # 将路径通过分隔符分割成一个元组"
   ]
  },
  {
   "cell_type": "markdown",
   "id": "6fd339af-fca7-447d-a0cd-a302a222b962",
   "metadata": {},
   "source": [
    "```python\n",
    ">>> desk = Path('C:/Users/Administrator/Desktop/')\n",
    ">>> desk.parent\n",
    "WindowsPath('C:/Users/Administrator')\n",
    "\n",
    ">>> desk.parent.parent\n",
    "WindowsPath('C:/Users')\n",
    "\n",
    ">>> list(desk.parents)\n",
    "[WindowsPath('C:/Users/Administrator'),\n",
    " WindowsPath('C:/Users'),\n",
    " WindowsPath('C:/')]\n",
    "```"
   ]
  },
  {
   "cell_type": "markdown",
   "id": "fa2ad047-bc18-4a67-8bd7-cbb8f3aeb0e4",
   "metadata": {},
   "source": [
    "## 文件名替换"
   ]
  },
  {
   "cell_type": "code",
   "execution_count": 14,
   "id": "f5cf7465-9110-4fdf-a735-263e8e45ce7e",
   "metadata": {},
   "outputs": [
    {
     "data": {
      "text/plain": [
       "PosixPath('/tmp/first/firstone/python.txt')"
      ]
     },
     "execution_count": 14,
     "metadata": {},
     "output_type": "execute_result"
    }
   ],
   "source": [
    "# with_name(name)替换路径最后一部分并返回一个新路径\n",
    "my_file.with_name('python.txt')"
   ]
  },
  {
   "cell_type": "code",
   "execution_count": 15,
   "id": "52f0a59f-073e-4306-86b7-411c64cdc6dd",
   "metadata": {},
   "outputs": [
    {
     "data": {
      "text/plain": [
       "PosixPath('/tmp/first/firstone/tmp.txt')"
      ]
     },
     "execution_count": 15,
     "metadata": {},
     "output_type": "execute_result"
    }
   ],
   "source": [
    "# with_suffix(suffix)替换扩展名，返回新的路径，扩展名存在则不变\n",
    "my_file.with_suffix('.txt')"
   ]
  },
  {
   "cell_type": "markdown",
   "id": "70d5aefb-21df-44a5-aa02-fed7dafb59ee",
   "metadata": {},
   "source": [
    "## 文件信息"
   ]
  },
  {
   "cell_type": "code",
   "execution_count": 16,
   "id": "4b37d14e-cd18-4b4d-af4d-214f30cbc54f",
   "metadata": {},
   "outputs": [
    {
     "data": {
      "text/plain": [
       "os.stat_result(st_mode=33204, st_ino=30540110, st_dev=2050, st_nlink=1, st_uid=1000, st_gid=1000, st_size=0, st_atime=1721026452, st_mtime=1721026452, st_ctime=1721026452)"
      ]
     },
     "execution_count": 16,
     "metadata": {},
     "output_type": "execute_result"
    }
   ],
   "source": [
    "my_file.stat()                        # 获取详细信息"
   ]
  },
  {
   "cell_type": "code",
   "execution_count": 17,
   "id": "e22ce9cb-1135-4f45-af5b-d73932c4664b",
   "metadata": {},
   "outputs": [
    {
     "data": {
      "text/plain": [
       "0"
      ]
     },
     "execution_count": 17,
     "metadata": {},
     "output_type": "execute_result"
    }
   ],
   "source": [
    "my_file.stat().st_size                # 文件大小"
   ]
  },
  {
   "cell_type": "code",
   "execution_count": 18,
   "id": "d16a05ad-76e5-431f-95ea-1780c79b31b9",
   "metadata": {},
   "outputs": [
    {
     "data": {
      "text/plain": [
       "1721026452.1530297"
      ]
     },
     "execution_count": 18,
     "metadata": {},
     "output_type": "execute_result"
    }
   ],
   "source": [
    "my_file.stat().st_ctime               # 创建时间"
   ]
  },
  {
   "cell_type": "code",
   "execution_count": 19,
   "id": "d60f7ba9-864f-433b-8231-aee8570344fa",
   "metadata": {},
   "outputs": [
    {
     "data": {
      "text/plain": [
       "1721026452.1530297"
      ]
     },
     "execution_count": 19,
     "metadata": {},
     "output_type": "execute_result"
    }
   ],
   "source": [
    "my_file.stat().st_mtime               # 修改时间"
   ]
  },
  {
   "cell_type": "code",
   "execution_count": 20,
   "id": "625f3e5a-52fb-4920-b392-a77ea4b8f0a0",
   "metadata": {},
   "outputs": [
    {
     "data": {
      "text/plain": [
       "'0o664'"
      ]
     },
     "execution_count": 20,
     "metadata": {},
     "output_type": "execute_result"
    }
   ],
   "source": [
    "# 以下为老方法\n",
    "\n",
    "my_file_str = str(my_file)\n",
    "oct(stat.S_IMODE(os.lstat(my_file_str).st_mode))"
   ]
  },
  {
   "cell_type": "code",
   "execution_count": 21,
   "id": "7cb2d9fa-9fa7-4ada-afbb-758604416d5c",
   "metadata": {},
   "outputs": [
    {
     "data": {
      "text/plain": [
       "'0o100664'"
      ]
     },
     "execution_count": 21,
     "metadata": {},
     "output_type": "execute_result"
    }
   ],
   "source": [
    "oct(os.stat(my_file_str)[stat.ST_MODE])"
   ]
  },
  {
   "cell_type": "code",
   "execution_count": 22,
   "id": "08ea3cc2-8a68-4e04-a35d-8b6d2b7a31d5",
   "metadata": {},
   "outputs": [
    {
     "data": {
      "text/plain": [
       "'0o664'"
      ]
     },
     "execution_count": 22,
     "metadata": {},
     "output_type": "execute_result"
    }
   ],
   "source": [
    "oct(os.stat(my_file_str).st_mode & 0o777)"
   ]
  },
  {
   "cell_type": "raw",
   "id": "5e12eb63-36de-4e15-a6c2-7646187a9951",
   "metadata": {},
   "source": [
    "常用常数\n",
    "\n",
    "S_IRWXU 00700   mask for file owner permissions\n",
    "S_IRUSR 00400   owner has read permission\n",
    "S_IWUSR 00200   owner has write permission\n",
    "S_IXUSR 00100   owner has execute permission\n",
    "S_IRWXG 00070   mask for group permissions\n",
    "S_IRGRP 00040   group has read permission\n",
    "S_IWGRP 00020   group has write permission\n",
    "S_IXGRP 00010   group has execute permission\n",
    "S_IRWXO 00007   mask for permissions for others (not in group)\n",
    "S_IROTH 00004   others have read permission\n",
    "S_IWOTH 00002   others have write permission\n",
    "S_IXOTH 00001   others have execute permission\n"
   ]
  },
  {
   "cell_type": "markdown",
   "id": "240f2d15-00d6-4683-b563-dd5cc5edbf9e",
   "metadata": {},
   "source": [
    "## 读写文件"
   ]
  },
  {
   "cell_type": "markdown",
   "id": "5e11b601-947a-4760-b9e9-f8da7257acbe",
   "metadata": {},
   "source": [
    "### 写入文件"
   ]
  },
  {
   "cell_type": "code",
   "execution_count": 23,
   "id": "523903b8-7d69-4b97-985b-b96bef73f16b",
   "metadata": {},
   "outputs": [
    {
     "data": {
      "text/plain": [
       "70"
      ]
     },
     "execution_count": 23,
     "metadata": {},
     "output_type": "execute_result"
    }
   ],
   "source": [
    "todo_string=\"\"\"# TODO LIST\n",
    "## Today\n",
    "\n",
    "* Read book\n",
    "* Buy milk\n",
    "\n",
    "## Tomorrow\n",
    "\n",
    "* Hike out\n",
    "\"\"\"\n",
    "todo_file_path = Path('/tmp/todo.md')\n",
    "todo_file_path.write_text(todo_string)"
   ]
  },
  {
   "cell_type": "markdown",
   "id": "100abcf5-04bd-427e-9a21-c302fe25b818",
   "metadata": {},
   "source": [
    "### 读取文件"
   ]
  },
  {
   "cell_type": "code",
   "execution_count": 24,
   "id": "bad31131-a0a6-4b8f-9a38-bb565e22f814",
   "metadata": {},
   "outputs": [
    {
     "data": {
      "text/plain": [
       "['* Read book', '* Buy milk', '* Hike out']"
      ]
     },
     "execution_count": 24,
     "metadata": {},
     "output_type": "execute_result"
    }
   ],
   "source": [
    "content = todo_file_path.read_text(encoding=\"utf-8\")\n",
    "[line for line in content.splitlines() if line.startswith(\"*\")]"
   ]
  },
  {
   "cell_type": "markdown",
   "id": "f000350d-aefa-4161-a7fe-7ba6194bfcbe",
   "metadata": {},
   "source": [
    "## 复制文件"
   ]
  },
  {
   "cell_type": "code",
   "execution_count": 25,
   "id": "b81db5ba-3efa-4916-a274-bdcc692416db",
   "metadata": {},
   "outputs": [
    {
     "data": {
      "text/plain": [
       "[]"
      ]
     },
     "execution_count": 25,
     "metadata": {},
     "output_type": "execute_result"
    }
   ],
   "source": [
    "# Pathlib 没有现成的复制，只有用读取和写入替代\n",
    "\n",
    "# 可以考虑使用老的 shutil ，下文有示例\n",
    "\n",
    "my_file = Path('/tmp/first/firstone/tmp.txt')\n",
    "des_file = my_file.with_name('python.txt')\n",
    "des_file.write_bytes(my_file.read_bytes())\n",
    "[line for line in des_file.read_bytes().splitlines()]"
   ]
  },
  {
   "cell_type": "markdown",
   "id": "aed133bd-84c2-407b-8cca-4b6c44eeee0b",
   "metadata": {},
   "source": [
    "## 移动文件（包含重命名文件）"
   ]
  },
  {
   "cell_type": "code",
   "execution_count": 26,
   "id": "38dd7066-66a9-4159-b15a-9680c93efd15",
   "metadata": {},
   "outputs": [
    {
     "name": "stdout",
     "output_type": "stream",
     "text": [
      "File /tmp/first/first_tmp.txt exists already.\n"
     ]
    }
   ],
   "source": [
    "source = Path('/tmp/first/firstone/tmp.txt')\n",
    "destination = Path('/tmp/first/first_tmp.txt')\n",
    "\n",
    "if not destination.exists():\n",
    "    source.replace(destination)\n",
    "\n",
    "# 为了避免 race condition ,可以采用以下方式\n",
    "try:\n",
    "    with destination.open(mode=\"xb\") as file:\n",
    "        file.write(source.read_bytes())\n",
    "except FileExistsError:\n",
    "    print(f\"File {destination} exists already.\")\n",
    "else:\n",
    "    source.unlink()"
   ]
  },
  {
   "cell_type": "markdown",
   "id": "ee980127-74c3-4d17-aa42-af4c23c85b4b",
   "metadata": {},
   "source": [
    "## 文件操作专题"
   ]
  },
  {
   "cell_type": "markdown",
   "id": "71190f3a-ed3c-4f8d-8376-0b79302573d7",
   "metadata": {},
   "source": [
    "### 遍历文件"
   ]
  },
  {
   "cell_type": "code",
   "execution_count": 27,
   "id": "d11ba302-0b37-4955-90c3-2e426b674838",
   "metadata": {},
   "outputs": [
    {
     "data": {
      "text/plain": [
       "Counter({'.txt': 2, '': 1, '.py': 1})"
      ]
     },
     "execution_count": 27,
     "metadata": {},
     "output_type": "execute_result"
    }
   ],
   "source": [
    "paths = [\n",
    "    '/tmp/iterfile/oneone.txt',\n",
    "    '/tmp/iterfile/onetwo.txt',\n",
    "    '/tmp/iterfile/twoone.py',\n",
    "    '/tmp/iterfile/sub/subone.py',\n",
    "]\n",
    "for item in paths:\n",
    "    my_file = Path(item)\n",
    "    my_file.parent.mkdir(exist_ok=True,parents=True)\n",
    "    if not my_file.exists():\n",
    "        my_file.touch()\n",
    "Counter(path.suffix for path in Path('/tmp/iterfile/').iterdir())\n",
    "# 这里注意子文件夹里的文件是不涉及的。子文件夹没有扩张名，也会计数。"
   ]
  },
  {
   "cell_type": "code",
   "execution_count": 28,
   "id": "3538739c-b56a-4d93-a834-52718d4ab77e",
   "metadata": {},
   "outputs": [
    {
     "data": {
      "text/plain": [
       "Counter({PosixPath('/tmp/iterfile/oneone.txt'): 1,\n",
       "         PosixPath('/tmp/iterfile/onetwo.txt'): 1,\n",
       "         PosixPath('/tmp/iterfile/sub'): 1,\n",
       "         PosixPath('/tmp/iterfile/twoone.py'): 1})"
      ]
     },
     "execution_count": 28,
     "metadata": {},
     "output_type": "execute_result"
    }
   ],
   "source": [
    "Counter( Path('/tmp/iterfile/').iterdir())"
   ]
  },
  {
   "cell_type": "code",
   "execution_count": 29,
   "id": "ffd7bcd3-e848-409e-94ed-1f20334474fd",
   "metadata": {},
   "outputs": [
    {
     "data": {
      "text/plain": [
       "Counter({'.txt': 2, '.py': 1})"
      ]
     },
     "execution_count": 29,
     "metadata": {},
     "output_type": "execute_result"
    }
   ],
   "source": [
    "# 用 glob 可以排除子目录\n",
    "Counter(path.suffix for path in Path('/tmp/iterfile/').glob('*.*'))"
   ]
  },
  {
   "cell_type": "code",
   "execution_count": 30,
   "id": "9aa214ae-24e6-4970-9e90-36ba63268bf2",
   "metadata": {},
   "outputs": [
    {
     "data": {
      "text/plain": [
       "Counter({'.txt': 2, '.py': 2})"
      ]
     },
     "execution_count": 30,
     "metadata": {},
     "output_type": "execute_result"
    }
   ],
   "source": [
    "# 用 rglob 可以递归子目录\n",
    "Counter(path.suffix for path in Path('/tmp/iterfile/').rglob('*.*'))"
   ]
  },
  {
   "cell_type": "markdown",
   "id": "77577861-f74b-4d22-9d66-42fe5b2ca105",
   "metadata": {},
   "source": [
    "### 显示树形目录结构"
   ]
  },
  {
   "cell_type": "code",
   "execution_count": 31,
   "id": "0f1d4f6e-c4f6-43ca-98f7-a77c764d3ed7",
   "metadata": {},
   "outputs": [
    {
     "name": "stdout",
     "output_type": "stream",
     "text": [
      "+ /tmp/iterfile\n",
      "    + oneone.txt\n",
      "    + onetwo.txt\n",
      "    + sub\n",
      "        + subone.py\n",
      "    + twoone.py\n"
     ]
    }
   ],
   "source": [
    "def tree(directory):\n",
    "    print(f\"+ {directory}\")\n",
    "    for path in sorted(directory.rglob(\"*\")):\n",
    "        depth = len(path.relative_to(directory).parts)\n",
    "        spacer = \"    \" * depth\n",
    "        print(f\"{spacer}+ {path.name}\")\n",
    "tree( Path('/tmp/iterfile/'))"
   ]
  },
  {
   "cell_type": "markdown",
   "id": "739dbd30-5e52-43bd-937e-63bfc150a6d1",
   "metadata": {},
   "source": [
    "### 查找最新修改的文件"
   ]
  },
  {
   "cell_type": "code",
   "execution_count": 32,
   "id": "7b1ded69-6050-4e8e-bc9a-4df935928fc6",
   "metadata": {},
   "outputs": [
    {
     "data": {
      "text/plain": [
       "(datetime.datetime(2024, 7, 15, 14, 54, 12, 373026),\n",
       " PosixPath('/tmp/iterfile/twoone.py'))"
      ]
     },
     "execution_count": 32,
     "metadata": {},
     "output_type": "execute_result"
    }
   ],
   "source": [
    "my_dir = Path('/tmp/iterfile/')\n",
    "time, file_path = max((f.stat().st_mtime, f) for f in my_dir.iterdir())\n",
    "datetime.fromtimestamp(time), file_path"
   ]
  },
  {
   "cell_type": "markdown",
   "id": "963c953c-25b3-4c47-8bb1-07a61a3b3a9f",
   "metadata": {
    "tags": [],
    "toc-hr-collapsed": true
   },
   "source": [
    "## 以前的老方法\n",
    "\n",
    "### 打开文件\n",
    "\n",
    "    with open(\"/tmp/foo.txt\") as file:\n",
    "        data = file.read()\n",
    "\n",
    "    with open('examples/favorite-people.txt', encoding='utf-8') as a_file:\n",
    "        for a_line in a_file:\n",
    "            line_number += 1\n",
    "            print('{:>4} {}'.format(line_number, a_line.rstrip()))\n",
    "\n",
    "使用字符串的 format() 方法可以打印出行号和行自身。格式说明符 {:>4} 的意思是\n",
    "“使用最多四个空格使之右对齐，然后打印此参数。”变量 a_line 是包括回车符等在\n",
    "内的完整的一行。字符串方法rstrip()可以去掉尾随的空白符，包括回车符。\n",
    "\n",
    "### 写入文件\n",
    "\n",
    "\n",
    "    with open(csvfile, 'w') as f:\n",
    "        f.writelines(linelist)\n",
    "    f.close()\n",
    "\n",
    "### 关于 open 模式"
   ]
  },
  {
   "cell_type": "markdown",
   "id": "91aa890d-f0be-4d6b-b94b-88cfaa108f04",
   "metadata": {},
   "source": [
    "open 的模式如下表：\n",
    "\n",
    "|命令| 说明 |\n",
    "|----|------|\n",
    "|r   |以读方式打开|\n",
    "|w   |以写方式打开|\n",
    "|a   |以追加模式打开 (从 EOF 开始, 必要时创建新文件)|\n",
    "|r+  |以读写模式打开|\n",
    "|w+  |以读写模式打开 (参见 w )|\n",
    "|a+  |以读写模式打开 (参见 a )|\n",
    "|rb  |以二进制读模式打开|\n",
    "|wb  |以二进制写模式打开 (参见 w )|\n",
    "|ab  |以二进制追加模式打开 (参见 a )|\n",
    "|rb+ |以二进制读写模式打开 (参见 r+ )|\n",
    "|wb+ |以二进制读写模式打开 (参见 w+ )|\n",
    "|ab+ |以二进制读写模式打开 (参见 a+ )|\n"
   ]
  },
  {
   "cell_type": "markdown",
   "id": "ef4679ef-acbe-46bb-8b66-3abfdf537aef",
   "metadata": {},
   "source": [
    "### shutil 操作\n",
    "\n",
    "复制文件：\n",
    "\n",
    "* shutil.copyfile(\"oldfile\",\"newfile\") oldfile 和 newfile 都只能是文件。\n",
    "* shutil.copy(\"oldfile\",\"newfile\") oldfile 只能是文件夹， newfile 可以是文件，\n",
    "  也可以是目标目录\n",
    "\n",
    "复制文件夹：\n",
    "\n",
    "* shutil.copytree(\"olddir\",\"newdir\") olddir和newdir都只能是目录，且newdir必须不存在\n",
    "\n",
    "移动文件（目录）：\n",
    "\n",
    "* shutil.move(\"oldpos\",\"newpos\")\n",
    "\n",
    "删除目录：\n",
    "\n",
    "* shutil.rmtree(\"dir\")    空目录、有内容的目录都可以删"
   ]
  },
  {
   "cell_type": "markdown",
   "id": "277cea91-4160-4ce1-b52b-a130133f6bb5",
   "metadata": {},
   "source": [
    "### 相关函数\n",
    "\n",
    "\n",
    "* fp.read([size]) #size为读取的长度，以byte为单位\n",
    "* fp.readline([size]) #读一行，如果定义了size，有可能返回的只是一行的一部分\n",
    "* fp.readlines([size]) #把文件每一行作为一个list的一个成员，并返回这个list。其实它的内部是通过循环调用readline()来实现的。如果提供size参数，size是表示读取内容的总长，也就是说可能只读到文件的一部分。\n",
    "* fp.write(str) #把str写到文件中，write()并不会在str后加上一个换行符\n",
    "* fp.writelines(seq) #把seq的内容全部写到文件中(多行一次性写入)。这个函数也只是忠实地写入，不会在每行后面加上任何东西。\n",
    "* fp.close() #关闭文件。python会在一个文件不用后自动关闭文件，不过这一功能没有保证，最好还是养成自己关闭的习惯。  如果一个文件在关闭后还对其进行操作会产生ValueError\n",
    "* fp.flush() #把缓冲区的内容写入硬盘\n",
    "* fp.fileno() #返回一个长整型的”文件标签“\n",
    "* fp.isatty() #文件是否是一个终端设备文件（unix系统中的）\n",
    "* fp.tell() #返回文件操作标记的当前位置，以文件的开头为原点\n",
    "* fp.next() #返回下一行，并将文件操作标记位移到下一行。把一个file用于for … in file这样的语句时，就是调用next()函数来实现遍历的。\n",
    "* fp.seek(offset[,whence]) #将文件打操作标记移到offset的位置。这个offset一般是相对于文件的开头来计算的，一般为正数。但如果提供了whence参数就不一定了，whence可以为0表示从头开始计算，1表示以当前位置为原点计算。2表示以文件末尾为原点进行计算。需要注意，如果文件以a或a+的模式打开，每次进行写操作时，文件操作标记会自动返回到文件末尾。\n",
    "* fp.truncate([size]) #把文件裁成规定的大小，默认的是裁到当前文件操作标记的位置。如果size比文件的大小还要大，依据系统的不同可能是不改变文件，也可能是用0把文件补到相应的大小，也可能是以一些随机的内容加上去。"
   ]
  },
  {
   "cell_type": "markdown",
   "id": "b74f1248-2656-4f95-a442-cb739686b400",
   "metadata": {},
   "source": [
    "### os 和 os.path 模块\n",
    "\n",
    "* os.mkdir(\"file\")：创建目录\n",
    "* os.rmdir(\"dir\")：只能删除空目录\n",
    "* os.listdir(dirname)：列出dirname下的目录和文件\n",
    "* os.getcwd()：获得当前工作目录\n",
    "* os.curdir：返回当前目录（'.')\n",
    "* os.chdir(dirname)：改变工作目录到dirname\n",
    "* os.remove(\"file\")：删除文件\n",
    "* os.rename(\"oldname\",\"newname\")：重命名文件（目录），文件或目录都是使用这条命令\n",
    "* os.path.isdir(name)：判断name是不是一个目录，name不是目录就返回false\n",
    "* os.path.isfile(name)：判断name是不是一个文件，不存在name也返回false\n",
    "* os.path.exists(name)：判断是否存在文件或目录name\n",
    "* os.path.getsize(name)：获得文件大小，如果name是目录返回0L\n",
    "* os.path.abspath(name)：获得绝对路径\n",
    "* os.path.normpath(path)：规范path字符串形式\n",
    "* os.path.split(name)：分割文件名与目录（事实上，如果你完全使用目录，它也\n",
    "  会将最后一个目录作为文件名而分离，同时它不会判断文件或目录是否存在）\n",
    "* os.path.splitext()：分离文件名与扩展名，返回一个tuple：(\"aaa\",\".txt\")\n",
    "* os.path.join(path,name)：连接目录与文件名或目录\n",
    "* os.path.basename(path)：返回文件名\n",
    "* os.path.dirname(path)：返回文件路径"
   ]
  },
  {
   "cell_type": "markdown",
   "id": "c76f4b9e-0e3c-4f10-83ed-1942842a0907",
   "metadata": {},
   "source": [
    "### 获得同一后缀名的文件\n",
    "\n",
    "\n",
    "    import glob\n",
    "    for filename in glob.glob(\"*.xls\"):\n",
    "         print filename"
   ]
  }
 ],
 "metadata": {
  "kernelspec": {
   "display_name": "Python 3 (ipykernel)",
   "language": "python",
   "name": "python3"
  },
  "language_info": {
   "codemirror_mode": {
    "name": "ipython",
    "version": 3
   },
   "file_extension": ".py",
   "mimetype": "text/x-python",
   "name": "python",
   "nbconvert_exporter": "python",
   "pygments_lexer": "ipython3",
   "version": "3.10.9"
  },
  "toc-autonumbering": true
 },
 "nbformat": 4,
 "nbformat_minor": 5
}
