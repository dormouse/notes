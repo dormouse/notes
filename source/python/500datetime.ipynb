{
 "cells": [
  {
   "cell_type": "markdown",
   "metadata": {},
   "source": [
    "# Python Note 500 - Datetime"
   ]
  },
  {
   "cell_type": "markdown",
   "metadata": {},
   "source": [
    "```\n",
    ":date: 2017-02-13\n",
    ":modified: 2022-06-14\n",
    ":slug: python-note-500-datetime\n",
    ":tags: python, note, datetime\n",
    ":category: Development\n",
    ":author: Dormouse Young\n",
    ":summary: Python note series 500 - datetime\n",
    "```\n"
   ]
  },
  {
   "cell_type": "code",
   "execution_count": 1,
   "metadata": {},
   "outputs": [],
   "source": [
    "import datetime\n",
    "import locale\n",
    "import time"
   ]
  },
  {
   "cell_type": "markdown",
   "metadata": {},
   "source": [
    "## 获取当前时间\n",
    "\n",
    "Python 标准库中的 datetime 模块提供了各种对日期和时间的处理方法。"
   ]
  },
  {
   "cell_type": "code",
   "execution_count": 2,
   "metadata": {},
   "outputs": [
    {
     "data": {
      "text/plain": [
       "datetime.datetime(2022, 6, 14, 14, 52, 38, 957696)"
      ]
     },
     "execution_count": 2,
     "metadata": {},
     "output_type": "execute_result"
    }
   ],
   "source": [
    "datetime.datetime.now()"
   ]
  },
  {
   "cell_type": "markdown",
   "metadata": {},
   "source": [
    "## 时间与字符串互相转换"
   ]
  },
  {
   "cell_type": "code",
   "execution_count": 3,
   "metadata": {},
   "outputs": [
    {
     "name": "stdout",
     "output_type": "stream",
     "text": [
      "2022-06-14 14:52:39\n",
      "2017-05-19 10:50:42\n"
     ]
    }
   ],
   "source": [
    "now = datetime.datetime.now()\n",
    "print(now.strftime(\"%Y-%m-%d %H:%M:%S\"))\n",
    "str = 'Fri, 19 May 2017 10:50:42'\n",
    "print(datetime.datetime.strptime(str, '%a, %d %b %Y %H:%M:%S'))"
   ]
  },
  {
   "cell_type": "markdown",
   "metadata": {},
   "source": [
    "## 修改时间"
   ]
  },
  {
   "cell_type": "code",
   "execution_count": 4,
   "metadata": {},
   "outputs": [
    {
     "name": "stdout",
     "output_type": "stream",
     "text": [
      "2022-06-14 14:52:39.471768\n",
      "2022-06-14 00:00:00.471768\n"
     ]
    }
   ],
   "source": [
    "now = datetime.datetime.now()\n",
    "print(now)\n",
    "print(now.replace(hour=0,minute=0,second=0))"
   ]
  },
  {
   "cell_type": "code",
   "execution_count": 5,
   "metadata": {},
   "outputs": [
    {
     "data": {
      "text/plain": [
       "datetime.datetime(2022, 6, 13, 14, 52, 39, 471768)"
      ]
     },
     "execution_count": 5,
     "metadata": {},
     "output_type": "execute_result"
    }
   ],
   "source": [
    "now - datetime.timedelta(days=1)"
   ]
  },
  {
   "cell_type": "markdown",
   "metadata": {},
   "source": [
    "## mktime"
   ]
  },
  {
   "cell_type": "code",
   "execution_count": 6,
   "metadata": {},
   "outputs": [
    {
     "name": "stdout",
     "output_type": "stream",
     "text": [
      "Help on built-in function mktime in module time:\n",
      "\n",
      "mktime(...)\n",
      "    mktime(tuple) -> floating point number\n",
      "    \n",
      "    Convert a time tuple in local time to seconds since the Epoch.\n",
      "    Note that mktime(gmtime(0)) will not generally return zero for most\n",
      "    time zones; instead the returned value will either be equal to that\n",
      "    of the timezone or altzone attributes on the time module.\n",
      "\n"
     ]
    }
   ],
   "source": [
    "help(time.mktime)"
   ]
  },
  {
   "cell_type": "code",
   "execution_count": 7,
   "metadata": {},
   "outputs": [
    {
     "name": "stdout",
     "output_type": "stream",
     "text": [
      "1655186798.0\n"
     ]
    }
   ],
   "source": [
    "t = (2022, 6, 14, 14, 6, 38, 1, 48, 0)\n",
    "secs = time.mktime(t)\n",
    "print(secs)"
   ]
  },
  {
   "cell_type": "code",
   "execution_count": 8,
   "metadata": {},
   "outputs": [
    {
     "data": {
      "text/plain": [
       "time.struct_time(tm_year=2022, tm_mon=6, tm_mday=14, tm_hour=14, tm_min=6, tm_sec=38, tm_wday=1, tm_yday=165, tm_isdst=0)"
      ]
     },
     "execution_count": 8,
     "metadata": {},
     "output_type": "execute_result"
    }
   ],
   "source": [
    "time.localtime(secs)"
   ]
  },
  {
   "cell_type": "code",
   "execution_count": 9,
   "metadata": {},
   "outputs": [
    {
     "data": {
      "text/plain": [
       "'Tue Jun 14 14:06:38 2022'"
      ]
     },
     "execution_count": 9,
     "metadata": {},
     "output_type": "execute_result"
    }
   ],
   "source": [
    "time.asctime(time.localtime(secs))"
   ]
  },
  {
   "cell_type": "markdown",
   "metadata": {},
   "source": [
    "## 转义符说明：\n",
    "\n",
    "|转义符|说明|\n",
    "|---|--|\n",
    "|%a|本地简化星期名称|\n",
    "|%A| 本地完整星期名称|\n",
    "|%b| 本地简化的月份名称|\n",
    "|%B| 本地完整的月份名称|\n",
    "|%c| 本地相应的日期表示和时间表示|\n",
    "|%d| 月内中的一天（0-31）|\n",
    "|%H| 24小时制小时数（0-23）|\n",
    "|%I| 12小时制小时数（01-12）|\n",
    "|%j| 年内的一天（001-366）|\n",
    "|%m| 月份（01-12）|\n",
    "|%M| 分钟数（00-59）|\n",
    "|%p| 本地A.M.或P.M.的等价符|\n",
    "|%S| 秒（00-59）|\n",
    "|%U| 一年中的星期数（00-53）星期天为星期的开始|\n",
    "|%w| 星期（0-6），星期天为星期的开始|\n",
    "|%W| 一年中的星期数（00-53）星期一为星期的开始|\n",
    "|%x| 本地相应的日期表示|\n",
    "|%X| 本地相应的时间表示|\n",
    "|%y| 两位数的年份表示（00-99）|\n",
    "|%Y| 四位数的年份表示（000-9999）|\n",
    "|%Z| 当前时区的名称|\n",
    "|%%| %号本身|"
   ]
  },
  {
   "cell_type": "markdown",
   "metadata": {},
   "source": [
    "\n",
    "## Locale 的问题\n",
    "\n",
    "在使用 strftime 和 strptime 时要注意 locale ，不同的 locale 打出来的是不一样的。同理，在使用 strptime 的时候也是如此，否则就会出错：\n"
   ]
  },
  {
   "cell_type": "code",
   "execution_count": 10,
   "metadata": {},
   "outputs": [
    {
     "data": {
      "text/plain": [
       "'zh_CN.UTF-8'"
      ]
     },
     "execution_count": 10,
     "metadata": {},
     "output_type": "execute_result"
    }
   ],
   "source": [
    "now = datetime.datetime.now()\n",
    "format_str = '%a, %d %b %Y %H:%M:%S'\n",
    "locale.setlocale(locale.LC_ALL, ('zh_CN', 'UTF-8'))"
   ]
  },
  {
   "cell_type": "code",
   "execution_count": 11,
   "metadata": {},
   "outputs": [
    {
     "data": {
      "text/plain": [
       "'二, 14 6月 2022 14:52:41'"
      ]
     },
     "execution_count": 11,
     "metadata": {},
     "output_type": "execute_result"
    }
   ],
   "source": [
    "\n",
    "now.strftime(format_str)"
   ]
  },
  {
   "cell_type": "code",
   "execution_count": 12,
   "metadata": {},
   "outputs": [
    {
     "data": {
      "text/plain": [
       "'en_US.UTF-8'"
      ]
     },
     "execution_count": 12,
     "metadata": {},
     "output_type": "execute_result"
    }
   ],
   "source": [
    "locale.setlocale(locale.LC_ALL, ('en_US', 'UTF-8'))"
   ]
  },
  {
   "cell_type": "code",
   "execution_count": 13,
   "metadata": {},
   "outputs": [
    {
     "data": {
      "text/plain": [
       "'Tue, 14 Jun 2022 14:52:41'"
      ]
     },
     "execution_count": 13,
     "metadata": {},
     "output_type": "execute_result"
    }
   ],
   "source": [
    "now.strftime(format_str)"
   ]
  },
  {
   "cell_type": "code",
   "execution_count": 14,
   "metadata": {},
   "outputs": [
    {
     "data": {
      "text/plain": [
       "datetime.datetime(2017, 5, 19, 14, 25, 18)"
      ]
     },
     "execution_count": 14,
     "metadata": {},
     "output_type": "execute_result"
    }
   ],
   "source": [
    "datetime.datetime.strptime('Fri, 19 May 2017 14:25:18', format_str)"
   ]
  },
  {
   "cell_type": "code",
   "execution_count": 15,
   "metadata": {},
   "outputs": [
    {
     "data": {
      "text/plain": [
       "'zh_CN.UTF-8'"
      ]
     },
     "execution_count": 15,
     "metadata": {},
     "output_type": "execute_result"
    }
   ],
   "source": [
    "locale.setlocale(locale.LC_ALL, ('zh_CN', 'UTF-8'))"
   ]
  },
  {
   "cell_type": "code",
   "execution_count": 16,
   "metadata": {},
   "outputs": [],
   "source": [
    "# datetime.datetime.strptime('Fri, 19 May 2017 14:25:18', format_str)\n",
    "# 这句出错信息如下：\n",
    "# ValueError: time data 'Fri, 19 May 2017 14:25:18' does not match format '%a, %d %b %Y %H:%M:%S'"
   ]
  },
  {
   "cell_type": "markdown",
   "metadata": {},
   "source": [
    "## 时区转换"
   ]
  },
  {
   "cell_type": "code",
   "execution_count": 17,
   "metadata": {},
   "outputs": [],
   "source": [
    "from pytz import timezone"
   ]
  },
  {
   "cell_type": "code",
   "execution_count": 18,
   "metadata": {},
   "outputs": [
    {
     "data": {
      "text/plain": [
       "datetime.datetime(2022, 6, 14, 6, 52, 43, 36732)"
      ]
     },
     "execution_count": 18,
     "metadata": {},
     "output_type": "execute_result"
    }
   ],
   "source": [
    "# 首先使用 datetime 中提供的 utcnow() 方法获取到当前UTC时间\n",
    "utc_now = datetime.datetime.utcnow()\n",
    "utc_now"
   ]
  },
  {
   "cell_type": "code",
   "execution_count": 19,
   "metadata": {},
   "outputs": [
    {
     "name": "stdout",
     "output_type": "stream",
     "text": [
      "None\n"
     ]
    }
   ],
   "source": [
    "# 此时 tzinfo 为 None\n",
    "print(utc_now.tzinfo)"
   ]
  },
  {
   "cell_type": "code",
   "execution_count": 20,
   "metadata": {},
   "outputs": [
    {
     "data": {
      "text/plain": [
       "<DstTzInfo 'Asia/Shanghai' LMT+8:06:00 STD>"
      ]
     },
     "execution_count": 20,
     "metadata": {},
     "output_type": "execute_result"
    }
   ],
   "source": [
    "tzchina = timezone('Asia/Shanghai')\n",
    "tzchina"
   ]
  },
  {
   "cell_type": "code",
   "execution_count": 21,
   "metadata": {},
   "outputs": [
    {
     "data": {
      "text/plain": [
       "datetime.datetime(2022, 6, 14, 14, 52, 43, 36732, tzinfo=<DstTzInfo 'Asia/Shanghai' CST+8:00:00 STD>)"
      ]
     },
     "execution_count": 21,
     "metadata": {},
     "output_type": "execute_result"
    }
   ],
   "source": [
    "utc = timezone('UTC')\n",
    "utc_now.replace(tzinfo=utc).astimezone(tzchina)"
   ]
  },
  {
   "cell_type": "markdown",
   "metadata": {},
   "source": [
    "在 Django 中转换时区："
   ]
  },
  {
   "cell_type": "markdown",
   "metadata": {},
   "source": [
    "```\n",
    "In [1]: from django.utils.timezone import utc\n",
    "\n",
    "In [2]: from django.utils.timezone import localtime\n",
    "\n",
    "In [3]: from datetime import datetime\n",
    "\n",
    "In [4]: now = datetime.utcnow().replace(tzinfo=utc)\n",
    "\n",
    "In [5]: now\n",
    "Out[5]: datetime.datetime(2015, 5, 30, 3, 16, 57, 362481, tzinfo=<UTC>)\n",
    "\n",
    "In [6]: localtime(now)\n",
    "Out[7]: datetime.datetime(2015, 5, 30, 11, 16, 57, 362481, tzinfo=<DstTzInfo 'Asia/Shanghai' CST+8:00:00 STD>)\n",
    "```"
   ]
  },
  {
   "cell_type": "markdown",
   "metadata": {},
   "source": [
    "\n",
    "## 程序暂停\n",
    "\n",
    "函数原型： time.sleep(secs) ，secs 参数代表暂停的秒数。示例：\n"
   ]
  },
  {
   "cell_type": "code",
   "execution_count": 22,
   "metadata": {},
   "outputs": [],
   "source": [
    "import random\n",
    "import time\n",
    "random.seed()\n",
    "time.sleep(random.random()*2)"
   ]
  }
 ],
 "metadata": {
  "kernelspec": {
   "display_name": "Python 3.10.4 ('notes')",
   "language": "python",
   "name": "python3"
  },
  "language_info": {
   "codemirror_mode": {
    "name": "ipython",
    "version": 3
   },
   "file_extension": ".py",
   "mimetype": "text/x-python",
   "name": "python",
   "nbconvert_exporter": "python",
   "pygments_lexer": "ipython3",
   "version": "3.10.4"
  },
  "orig_nbformat": 4,
  "vscode": {
   "interpreter": {
    "hash": "2398e6ef6408f439c957fcfe4090ca0077f1f9b6c39ec9111e142691121cfab7"
   }
  }
 },
 "nbformat": 4,
 "nbformat_minor": 2
}
