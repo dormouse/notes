{
 "cells": [
  {
   "cell_type": "markdown",
   "id": "afc24775-ce3d-4352-8742-6dc6a53671a7",
   "metadata": {},
   "source": [
    "# Pandas 式样"
   ]
  },
  {
   "cell_type": "markdown",
   "id": "b40725b9-becc-4621-b0ab-1d556eb18e0f",
   "metadata": {},
   "source": [
    "本文中主要介绍如何使用 Pandas 的式样来展示 DataFrame 。主要是通过两个方法来实现：\n",
    "\n",
    "1. `Styler.applymap` ：逐个元素，返回带有CSS属性-值对的单个字符串\n",
    "1. `Styler.apply` ：列、表、行的方式，返回具有相同形状的Series或者DataFrame，其中每个值都是带有CSS属性值对的字符串。该方法在作用的时候，通过参数axis来传递，axis=0表示按列作用，axis=1表示按行作用。\n",
    "\n",
    "更多内容详见：https://pandas.pydata.org/pandas-docs/stable/user_guide/style.html\n"
   ]
  },
  {
   "cell_type": "markdown",
   "id": "d8f49668-29f4-4673-8f5a-2bff57c20c2d",
   "metadata": {},
   "source": [
    "## 准备数据"
   ]
  },
  {
   "cell_type": "code",
   "execution_count": 1,
   "id": "a98125cb-cbea-4857-a3c4-801cdc5cf0a9",
   "metadata": {},
   "outputs": [
    {
     "data": {
      "text/html": [
       "<div>\n",
       "<style scoped>\n",
       "    .dataframe tbody tr th:only-of-type {\n",
       "        vertical-align: middle;\n",
       "    }\n",
       "\n",
       "    .dataframe tbody tr th {\n",
       "        vertical-align: top;\n",
       "    }\n",
       "\n",
       "    .dataframe thead th {\n",
       "        text-align: right;\n",
       "    }\n",
       "</style>\n",
       "<table border=\"1\" class=\"dataframe\">\n",
       "  <thead>\n",
       "    <tr style=\"text-align: right;\">\n",
       "      <th></th>\n",
       "      <th>A</th>\n",
       "      <th>B</th>\n",
       "      <th>C</th>\n",
       "      <th>D</th>\n",
       "    </tr>\n",
       "  </thead>\n",
       "  <tbody>\n",
       "    <tr>\n",
       "      <th>0</th>\n",
       "      <td>1.0</td>\n",
       "      <td>0.400157</td>\n",
       "      <td>0.978738</td>\n",
       "      <td>2.240893</td>\n",
       "    </tr>\n",
       "    <tr>\n",
       "      <th>1</th>\n",
       "      <td>2.0</td>\n",
       "      <td>-0.977278</td>\n",
       "      <td>0.950088</td>\n",
       "      <td>-0.151357</td>\n",
       "    </tr>\n",
       "    <tr>\n",
       "      <th>2</th>\n",
       "      <td>3.0</td>\n",
       "      <td>0.410599</td>\n",
       "      <td>0.144044</td>\n",
       "      <td>1.454274</td>\n",
       "    </tr>\n",
       "    <tr>\n",
       "      <th>3</th>\n",
       "      <td>4.0</td>\n",
       "      <td>0.121675</td>\n",
       "      <td>0.443863</td>\n",
       "      <td>0.333674</td>\n",
       "    </tr>\n",
       "    <tr>\n",
       "      <th>4</th>\n",
       "      <td>5.0</td>\n",
       "      <td>-0.205158</td>\n",
       "      <td>0.313068</td>\n",
       "      <td>-0.854096</td>\n",
       "    </tr>\n",
       "    <tr>\n",
       "      <th>5</th>\n",
       "      <td>6.0</td>\n",
       "      <td>0.653619</td>\n",
       "      <td>0.864436</td>\n",
       "      <td>-0.742165</td>\n",
       "    </tr>\n",
       "  </tbody>\n",
       "</table>\n",
       "</div>"
      ],
      "text/plain": [
       "     A         B         C         D\n",
       "0  1.0  0.400157  0.978738  2.240893\n",
       "1  2.0 -0.977278  0.950088 -0.151357\n",
       "2  3.0  0.410599  0.144044  1.454274\n",
       "3  4.0  0.121675  0.443863  0.333674\n",
       "4  5.0 -0.205158  0.313068 -0.854096\n",
       "5  6.0  0.653619  0.864436 -0.742165"
      ]
     },
     "execution_count": 1,
     "metadata": {},
     "output_type": "execute_result"
    }
   ],
   "source": [
    "import pandas as pd\n",
    "import numpy as np\n",
    "\n",
    "# 设置随机种子，保证每次运行结果相同\n",
    "np.random.seed(0)\n",
    "\n",
    "# 模拟数据\n",
    "df = pd.DataFrame(np.random.randn(6,4), columns=list(\"ABCD\"))\n",
    "\n",
    "# numpy中的linspace(start,stop,setp)：表示按照步长取数，包含头尾的数据\n",
    "df.A = np.linspace(1, 6, 6)\n",
    "df"
   ]
  },
  {
   "cell_type": "code",
   "execution_count": 2,
   "id": "35da37c0-cbd1-44a0-98fb-a9f620c81f17",
   "metadata": {},
   "outputs": [
    {
     "data": {
      "text/html": [
       "<div>\n",
       "<style scoped>\n",
       "    .dataframe tbody tr th:only-of-type {\n",
       "        vertical-align: middle;\n",
       "    }\n",
       "\n",
       "    .dataframe tbody tr th {\n",
       "        vertical-align: top;\n",
       "    }\n",
       "\n",
       "    .dataframe thead th {\n",
       "        text-align: right;\n",
       "    }\n",
       "</style>\n",
       "<table border=\"1\" class=\"dataframe\">\n",
       "  <thead>\n",
       "    <tr style=\"text-align: right;\">\n",
       "      <th></th>\n",
       "      <th>A</th>\n",
       "      <th>B</th>\n",
       "      <th>C</th>\n",
       "      <th>D</th>\n",
       "    </tr>\n",
       "  </thead>\n",
       "  <tbody>\n",
       "    <tr>\n",
       "      <th>0</th>\n",
       "      <td>1.0</td>\n",
       "      <td>0.400157</td>\n",
       "      <td>NaN</td>\n",
       "      <td>2.240893</td>\n",
       "    </tr>\n",
       "    <tr>\n",
       "      <th>1</th>\n",
       "      <td>2.0</td>\n",
       "      <td>-0.977278</td>\n",
       "      <td>0.950088</td>\n",
       "      <td>-0.151357</td>\n",
       "    </tr>\n",
       "    <tr>\n",
       "      <th>2</th>\n",
       "      <td>3.0</td>\n",
       "      <td>0.410599</td>\n",
       "      <td>0.144044</td>\n",
       "      <td>1.454274</td>\n",
       "    </tr>\n",
       "    <tr>\n",
       "      <th>3</th>\n",
       "      <td>4.0</td>\n",
       "      <td>NaN</td>\n",
       "      <td>0.443863</td>\n",
       "      <td>0.333674</td>\n",
       "    </tr>\n",
       "    <tr>\n",
       "      <th>4</th>\n",
       "      <td>5.0</td>\n",
       "      <td>-0.205158</td>\n",
       "      <td>0.313068</td>\n",
       "      <td>-0.854096</td>\n",
       "    </tr>\n",
       "    <tr>\n",
       "      <th>5</th>\n",
       "      <td>6.0</td>\n",
       "      <td>0.653619</td>\n",
       "      <td>0.864436</td>\n",
       "      <td>NaN</td>\n",
       "    </tr>\n",
       "  </tbody>\n",
       "</table>\n",
       "</div>"
      ],
      "text/plain": [
       "     A         B         C         D\n",
       "0  1.0  0.400157       NaN  2.240893\n",
       "1  2.0 -0.977278  0.950088 -0.151357\n",
       "2  3.0  0.410599  0.144044  1.454274\n",
       "3  4.0       NaN  0.443863  0.333674\n",
       "4  5.0 -0.205158  0.313068 -0.854096\n",
       "5  6.0  0.653619  0.864436       NaN"
      ]
     },
     "execution_count": 2,
     "metadata": {},
     "output_type": "execute_result"
    }
   ],
   "source": [
    "df.iloc[3,1] = np.nan\n",
    "df.iloc[0,2] = np.nan\n",
    "df.iloc[5,3] = np.nan\n",
    "df"
   ]
  },
  {
   "cell_type": "markdown",
   "id": "a177f785-88f9-408e-9b07-02bbe0ab33e6",
   "metadata": {},
   "source": [
    "## 查看和隐藏样式"
   ]
  },
  {
   "cell_type": "markdown",
   "id": "ad9592a4-0f5d-4125-b83b-d4e1dd161725",
   "metadata": {},
   "source": [
    "### 查看DataFrame的样式设置"
   ]
  },
  {
   "cell_type": "code",
   "execution_count": 3,
   "id": "4831c236-d180-465d-aa07-bc0730f70623",
   "metadata": {},
   "outputs": [
    {
     "data": {
      "text/html": [
       "<style type=\"text/css\">\n",
       "</style>\n",
       "<table id=\"T_d234a\">\n",
       "  <thead>\n",
       "    <tr>\n",
       "      <th class=\"blank level0\" >&nbsp;</th>\n",
       "      <th id=\"T_d234a_level0_col0\" class=\"col_heading level0 col0\" >A</th>\n",
       "      <th id=\"T_d234a_level0_col1\" class=\"col_heading level0 col1\" >B</th>\n",
       "      <th id=\"T_d234a_level0_col2\" class=\"col_heading level0 col2\" >C</th>\n",
       "      <th id=\"T_d234a_level0_col3\" class=\"col_heading level0 col3\" >D</th>\n",
       "    </tr>\n",
       "  </thead>\n",
       "  <tbody>\n",
       "    <tr>\n",
       "      <th id=\"T_d234a_level0_row0\" class=\"row_heading level0 row0\" >0</th>\n",
       "      <td id=\"T_d234a_row0_col0\" class=\"data row0 col0\" >1.000000</td>\n",
       "      <td id=\"T_d234a_row0_col1\" class=\"data row0 col1\" >0.400157</td>\n",
       "      <td id=\"T_d234a_row0_col2\" class=\"data row0 col2\" >nan</td>\n",
       "      <td id=\"T_d234a_row0_col3\" class=\"data row0 col3\" >2.240893</td>\n",
       "    </tr>\n",
       "    <tr>\n",
       "      <th id=\"T_d234a_level0_row1\" class=\"row_heading level0 row1\" >1</th>\n",
       "      <td id=\"T_d234a_row1_col0\" class=\"data row1 col0\" >2.000000</td>\n",
       "      <td id=\"T_d234a_row1_col1\" class=\"data row1 col1\" >-0.977278</td>\n",
       "      <td id=\"T_d234a_row1_col2\" class=\"data row1 col2\" >0.950088</td>\n",
       "      <td id=\"T_d234a_row1_col3\" class=\"data row1 col3\" >-0.151357</td>\n",
       "    </tr>\n",
       "    <tr>\n",
       "      <th id=\"T_d234a_level0_row2\" class=\"row_heading level0 row2\" >2</th>\n",
       "      <td id=\"T_d234a_row2_col0\" class=\"data row2 col0\" >3.000000</td>\n",
       "      <td id=\"T_d234a_row2_col1\" class=\"data row2 col1\" >0.410599</td>\n",
       "      <td id=\"T_d234a_row2_col2\" class=\"data row2 col2\" >0.144044</td>\n",
       "      <td id=\"T_d234a_row2_col3\" class=\"data row2 col3\" >1.454274</td>\n",
       "    </tr>\n",
       "    <tr>\n",
       "      <th id=\"T_d234a_level0_row3\" class=\"row_heading level0 row3\" >3</th>\n",
       "      <td id=\"T_d234a_row3_col0\" class=\"data row3 col0\" >4.000000</td>\n",
       "      <td id=\"T_d234a_row3_col1\" class=\"data row3 col1\" >nan</td>\n",
       "      <td id=\"T_d234a_row3_col2\" class=\"data row3 col2\" >0.443863</td>\n",
       "      <td id=\"T_d234a_row3_col3\" class=\"data row3 col3\" >0.333674</td>\n",
       "    </tr>\n",
       "    <tr>\n",
       "      <th id=\"T_d234a_level0_row4\" class=\"row_heading level0 row4\" >4</th>\n",
       "      <td id=\"T_d234a_row4_col0\" class=\"data row4 col0\" >5.000000</td>\n",
       "      <td id=\"T_d234a_row4_col1\" class=\"data row4 col1\" >-0.205158</td>\n",
       "      <td id=\"T_d234a_row4_col2\" class=\"data row4 col2\" >0.313068</td>\n",
       "      <td id=\"T_d234a_row4_col3\" class=\"data row4 col3\" >-0.854096</td>\n",
       "    </tr>\n",
       "    <tr>\n",
       "      <th id=\"T_d234a_level0_row5\" class=\"row_heading level0 row5\" >5</th>\n",
       "      <td id=\"T_d234a_row5_col0\" class=\"data row5 col0\" >6.000000</td>\n",
       "      <td id=\"T_d234a_row5_col1\" class=\"data row5 col1\" >0.653619</td>\n",
       "      <td id=\"T_d234a_row5_col2\" class=\"data row5 col2\" >0.864436</td>\n",
       "      <td id=\"T_d234a_row5_col3\" class=\"data row5 col3\" >nan</td>\n",
       "    </tr>\n",
       "  </tbody>\n",
       "</table>\n"
      ],
      "text/plain": [
       "<pandas.io.formats.style.Styler at 0x7faed7d9f8b0>"
      ]
     },
     "execution_count": 3,
     "metadata": {},
     "output_type": "execute_result"
    }
   ],
   "source": [
    "df.style"
   ]
  },
  {
   "cell_type": "code",
   "execution_count": 4,
   "id": "7039f243-c5f4-4a92-86a6-f59283ed83ea",
   "metadata": {},
   "outputs": [
    {
     "data": {
      "text/plain": [
       "pandas.io.formats.style.Styler"
      ]
     },
     "execution_count": 4,
     "metadata": {},
     "output_type": "execute_result"
    }
   ],
   "source": [
    "type(df.style)"
   ]
  },
  {
   "cell_type": "code",
   "execution_count": 5,
   "id": "4fcedc9f-c017-4e33-8b91-9417a490e9e0",
   "metadata": {},
   "outputs": [
    {
     "data": {
      "text/plain": [
       "['<style type=\"text/css\">',\n",
       " '</style>',\n",
       " '<table id=\"T_0cc61\">',\n",
       " '  <thead>',\n",
       " '    <tr>',\n",
       " '      <th class=\"blank level0\" >&nbsp;</th>',\n",
       " '      <th id=\"T_0cc61_level0_col0\" class=\"col_heading level0 col0\" >A</th>',\n",
       " '      <th id=\"T_0cc61_level0_col1\" class=\"col_heading level0 col1\" >B</th>',\n",
       " '      <th id=\"T_0cc61_level0_col2\" class=\"col_heading level0 col2\" >C</th>',\n",
       " '      <th id=\"T_0cc61_level0_col3\" class=\"col_heading level0 col3\" >D</th>',\n",
       " '    </tr>',\n",
       " '  </thead>',\n",
       " '  <tbody>',\n",
       " '    <tr>',\n",
       " '      <th id=\"T_0cc61_level0_row0\" class=\"row_heading level0 row0\" >0</th>']"
      ]
     },
     "execution_count": 5,
     "metadata": {},
     "output_type": "execute_result"
    }
   ],
   "source": [
    "# 我们可以通过render方法来查看数据框样式的具体值\n",
    "df.style.to_html().split('\\n')[:15]"
   ]
  },
  {
   "cell_type": "markdown",
   "id": "7ea6de6d-376e-4c59-987d-d0f4d87e537b",
   "metadata": {},
   "source": [
    "### 隐藏索引"
   ]
  },
  {
   "cell_type": "code",
   "execution_count": 6,
   "id": "ef532a90-aa39-4815-ad9a-657fc3dee4dd",
   "metadata": {},
   "outputs": [
    {
     "data": {
      "text/html": [
       "<style type=\"text/css\">\n",
       "</style>\n",
       "<table id=\"T_7974a\">\n",
       "  <thead>\n",
       "    <tr>\n",
       "      <th id=\"T_7974a_level0_col0\" class=\"col_heading level0 col0\" >A</th>\n",
       "      <th id=\"T_7974a_level0_col1\" class=\"col_heading level0 col1\" >B</th>\n",
       "      <th id=\"T_7974a_level0_col2\" class=\"col_heading level0 col2\" >C</th>\n",
       "      <th id=\"T_7974a_level0_col3\" class=\"col_heading level0 col3\" >D</th>\n",
       "    </tr>\n",
       "  </thead>\n",
       "  <tbody>\n",
       "    <tr>\n",
       "      <td id=\"T_7974a_row0_col0\" class=\"data row0 col0\" >1.000000</td>\n",
       "      <td id=\"T_7974a_row0_col1\" class=\"data row0 col1\" >0.400157</td>\n",
       "      <td id=\"T_7974a_row0_col2\" class=\"data row0 col2\" >nan</td>\n",
       "      <td id=\"T_7974a_row0_col3\" class=\"data row0 col3\" >2.240893</td>\n",
       "    </tr>\n",
       "    <tr>\n",
       "      <td id=\"T_7974a_row1_col0\" class=\"data row1 col0\" >2.000000</td>\n",
       "      <td id=\"T_7974a_row1_col1\" class=\"data row1 col1\" >-0.977278</td>\n",
       "      <td id=\"T_7974a_row1_col2\" class=\"data row1 col2\" >0.950088</td>\n",
       "      <td id=\"T_7974a_row1_col3\" class=\"data row1 col3\" >-0.151357</td>\n",
       "    </tr>\n",
       "    <tr>\n",
       "      <td id=\"T_7974a_row2_col0\" class=\"data row2 col0\" >3.000000</td>\n",
       "      <td id=\"T_7974a_row2_col1\" class=\"data row2 col1\" >0.410599</td>\n",
       "      <td id=\"T_7974a_row2_col2\" class=\"data row2 col2\" >0.144044</td>\n",
       "      <td id=\"T_7974a_row2_col3\" class=\"data row2 col3\" >1.454274</td>\n",
       "    </tr>\n",
       "    <tr>\n",
       "      <td id=\"T_7974a_row3_col0\" class=\"data row3 col0\" >4.000000</td>\n",
       "      <td id=\"T_7974a_row3_col1\" class=\"data row3 col1\" >nan</td>\n",
       "      <td id=\"T_7974a_row3_col2\" class=\"data row3 col2\" >0.443863</td>\n",
       "      <td id=\"T_7974a_row3_col3\" class=\"data row3 col3\" >0.333674</td>\n",
       "    </tr>\n",
       "    <tr>\n",
       "      <td id=\"T_7974a_row4_col0\" class=\"data row4 col0\" >5.000000</td>\n",
       "      <td id=\"T_7974a_row4_col1\" class=\"data row4 col1\" >-0.205158</td>\n",
       "      <td id=\"T_7974a_row4_col2\" class=\"data row4 col2\" >0.313068</td>\n",
       "      <td id=\"T_7974a_row4_col3\" class=\"data row4 col3\" >-0.854096</td>\n",
       "    </tr>\n",
       "    <tr>\n",
       "      <td id=\"T_7974a_row5_col0\" class=\"data row5 col0\" >6.000000</td>\n",
       "      <td id=\"T_7974a_row5_col1\" class=\"data row5 col1\" >0.653619</td>\n",
       "      <td id=\"T_7974a_row5_col2\" class=\"data row5 col2\" >0.864436</td>\n",
       "      <td id=\"T_7974a_row5_col3\" class=\"data row5 col3\" >nan</td>\n",
       "    </tr>\n",
       "  </tbody>\n",
       "</table>\n"
      ],
      "text/plain": [
       "<pandas.io.formats.style.Styler at 0x7faedac3deb0>"
      ]
     },
     "execution_count": 6,
     "metadata": {},
     "output_type": "execute_result"
    }
   ],
   "source": [
    "# 隐藏index\n",
    "df.style.hide(axis='index')"
   ]
  },
  {
   "cell_type": "markdown",
   "id": "97b19d45-1d95-4e7f-a553-b331476956cd",
   "metadata": {},
   "source": [
    "### 隐藏指定的列"
   ]
  },
  {
   "cell_type": "code",
   "execution_count": 7,
   "id": "1c391f61-fc37-4bcf-985a-ad6d6281a975",
   "metadata": {},
   "outputs": [
    {
     "data": {
      "text/html": [
       "<style type=\"text/css\">\n",
       "</style>\n",
       "<table id=\"T_8ca7d\">\n",
       "  <thead>\n",
       "    <tr>\n",
       "      <th class=\"blank level0\" >&nbsp;</th>\n",
       "      <th id=\"T_8ca7d_level0_col1\" class=\"col_heading level0 col1\" >B</th>\n",
       "      <th id=\"T_8ca7d_level0_col3\" class=\"col_heading level0 col3\" >D</th>\n",
       "    </tr>\n",
       "  </thead>\n",
       "  <tbody>\n",
       "    <tr>\n",
       "      <th id=\"T_8ca7d_level0_row0\" class=\"row_heading level0 row0\" >0</th>\n",
       "      <td id=\"T_8ca7d_row0_col1\" class=\"data row0 col1\" >0.400157</td>\n",
       "      <td id=\"T_8ca7d_row0_col3\" class=\"data row0 col3\" >2.240893</td>\n",
       "    </tr>\n",
       "    <tr>\n",
       "      <th id=\"T_8ca7d_level0_row1\" class=\"row_heading level0 row1\" >1</th>\n",
       "      <td id=\"T_8ca7d_row1_col1\" class=\"data row1 col1\" >-0.977278</td>\n",
       "      <td id=\"T_8ca7d_row1_col3\" class=\"data row1 col3\" >-0.151357</td>\n",
       "    </tr>\n",
       "    <tr>\n",
       "      <th id=\"T_8ca7d_level0_row2\" class=\"row_heading level0 row2\" >2</th>\n",
       "      <td id=\"T_8ca7d_row2_col1\" class=\"data row2 col1\" >0.410599</td>\n",
       "      <td id=\"T_8ca7d_row2_col3\" class=\"data row2 col3\" >1.454274</td>\n",
       "    </tr>\n",
       "    <tr>\n",
       "      <th id=\"T_8ca7d_level0_row3\" class=\"row_heading level0 row3\" >3</th>\n",
       "      <td id=\"T_8ca7d_row3_col1\" class=\"data row3 col1\" >nan</td>\n",
       "      <td id=\"T_8ca7d_row3_col3\" class=\"data row3 col3\" >0.333674</td>\n",
       "    </tr>\n",
       "    <tr>\n",
       "      <th id=\"T_8ca7d_level0_row4\" class=\"row_heading level0 row4\" >4</th>\n",
       "      <td id=\"T_8ca7d_row4_col1\" class=\"data row4 col1\" >-0.205158</td>\n",
       "      <td id=\"T_8ca7d_row4_col3\" class=\"data row4 col3\" >-0.854096</td>\n",
       "    </tr>\n",
       "    <tr>\n",
       "      <th id=\"T_8ca7d_level0_row5\" class=\"row_heading level0 row5\" >5</th>\n",
       "      <td id=\"T_8ca7d_row5_col1\" class=\"data row5 col1\" >0.653619</td>\n",
       "      <td id=\"T_8ca7d_row5_col3\" class=\"data row5 col3\" >nan</td>\n",
       "    </tr>\n",
       "  </tbody>\n",
       "</table>\n"
      ],
      "text/plain": [
       "<pandas.io.formats.style.Styler at 0x7faedac3d3d0>"
      ]
     },
     "execution_count": 7,
     "metadata": {},
     "output_type": "execute_result"
    }
   ],
   "source": [
    "# 隐藏 A C 两列，使用的是 subset 参数\n",
    "df.style.hide(axis='columns', subset = list('AC'))"
   ]
  },
  {
   "cell_type": "code",
   "execution_count": 8,
   "id": "216dc323-97ca-4470-b17f-466dcab8c415",
   "metadata": {},
   "outputs": [
    {
     "data": {
      "text/html": [
       "<style type=\"text/css\">\n",
       "#T_02bad_row0_col0, #T_02bad_row0_col1, #T_02bad_row0_col2, #T_02bad_row0_col3, #T_02bad_row1_col0, #T_02bad_row1_col2, #T_02bad_row2_col0, #T_02bad_row2_col1, #T_02bad_row2_col2, #T_02bad_row2_col3, #T_02bad_row3_col0, #T_02bad_row3_col1, #T_02bad_row3_col2, #T_02bad_row3_col3, #T_02bad_row4_col0, #T_02bad_row4_col2, #T_02bad_row5_col0, #T_02bad_row5_col1, #T_02bad_row5_col2, #T_02bad_row5_col3 {\n",
       "  color: blue;\n",
       "}\n",
       "#T_02bad_row1_col1, #T_02bad_row1_col3, #T_02bad_row4_col1, #T_02bad_row4_col3 {\n",
       "  color: red;\n",
       "}\n",
       "</style>\n",
       "<table id=\"T_02bad\">\n",
       "  <thead>\n",
       "    <tr>\n",
       "      <th class=\"blank level0\" >&nbsp;</th>\n",
       "      <th id=\"T_02bad_level0_col0\" class=\"col_heading level0 col0\" >A</th>\n",
       "      <th id=\"T_02bad_level0_col1\" class=\"col_heading level0 col1\" >B</th>\n",
       "      <th id=\"T_02bad_level0_col2\" class=\"col_heading level0 col2\" >C</th>\n",
       "      <th id=\"T_02bad_level0_col3\" class=\"col_heading level0 col3\" >D</th>\n",
       "    </tr>\n",
       "  </thead>\n",
       "  <tbody>\n",
       "    <tr>\n",
       "      <th id=\"T_02bad_level0_row0\" class=\"row_heading level0 row0\" >0</th>\n",
       "      <td id=\"T_02bad_row0_col0\" class=\"data row0 col0\" >1.000000</td>\n",
       "      <td id=\"T_02bad_row0_col1\" class=\"data row0 col1\" >0.400157</td>\n",
       "      <td id=\"T_02bad_row0_col2\" class=\"data row0 col2\" >nan</td>\n",
       "      <td id=\"T_02bad_row0_col3\" class=\"data row0 col3\" >2.240893</td>\n",
       "    </tr>\n",
       "    <tr>\n",
       "      <th id=\"T_02bad_level0_row1\" class=\"row_heading level0 row1\" >1</th>\n",
       "      <td id=\"T_02bad_row1_col0\" class=\"data row1 col0\" >2.000000</td>\n",
       "      <td id=\"T_02bad_row1_col1\" class=\"data row1 col1\" >-0.977278</td>\n",
       "      <td id=\"T_02bad_row1_col2\" class=\"data row1 col2\" >0.950088</td>\n",
       "      <td id=\"T_02bad_row1_col3\" class=\"data row1 col3\" >-0.151357</td>\n",
       "    </tr>\n",
       "    <tr>\n",
       "      <th id=\"T_02bad_level0_row2\" class=\"row_heading level0 row2\" >2</th>\n",
       "      <td id=\"T_02bad_row2_col0\" class=\"data row2 col0\" >3.000000</td>\n",
       "      <td id=\"T_02bad_row2_col1\" class=\"data row2 col1\" >0.410599</td>\n",
       "      <td id=\"T_02bad_row2_col2\" class=\"data row2 col2\" >0.144044</td>\n",
       "      <td id=\"T_02bad_row2_col3\" class=\"data row2 col3\" >1.454274</td>\n",
       "    </tr>\n",
       "    <tr>\n",
       "      <th id=\"T_02bad_level0_row3\" class=\"row_heading level0 row3\" >3</th>\n",
       "      <td id=\"T_02bad_row3_col0\" class=\"data row3 col0\" >4.000000</td>\n",
       "      <td id=\"T_02bad_row3_col1\" class=\"data row3 col1\" >nan</td>\n",
       "      <td id=\"T_02bad_row3_col2\" class=\"data row3 col2\" >0.443863</td>\n",
       "      <td id=\"T_02bad_row3_col3\" class=\"data row3 col3\" >0.333674</td>\n",
       "    </tr>\n",
       "    <tr>\n",
       "      <th id=\"T_02bad_level0_row4\" class=\"row_heading level0 row4\" >4</th>\n",
       "      <td id=\"T_02bad_row4_col0\" class=\"data row4 col0\" >5.000000</td>\n",
       "      <td id=\"T_02bad_row4_col1\" class=\"data row4 col1\" >-0.205158</td>\n",
       "      <td id=\"T_02bad_row4_col2\" class=\"data row4 col2\" >0.313068</td>\n",
       "      <td id=\"T_02bad_row4_col3\" class=\"data row4 col3\" >-0.854096</td>\n",
       "    </tr>\n",
       "    <tr>\n",
       "      <th id=\"T_02bad_level0_row5\" class=\"row_heading level0 row5\" >5</th>\n",
       "      <td id=\"T_02bad_row5_col0\" class=\"data row5 col0\" >6.000000</td>\n",
       "      <td id=\"T_02bad_row5_col1\" class=\"data row5 col1\" >0.653619</td>\n",
       "      <td id=\"T_02bad_row5_col2\" class=\"data row5 col2\" >0.864436</td>\n",
       "      <td id=\"T_02bad_row5_col3\" class=\"data row5 col3\" >nan</td>\n",
       "    </tr>\n",
       "  </tbody>\n",
       "</table>\n"
      ],
      "text/plain": [
       "<pandas.io.formats.style.Styler at 0x7faedac58b80>"
      ]
     },
     "execution_count": 8,
     "metadata": {},
     "output_type": "execute_result"
    }
   ],
   "source": [
    "def color_change(val):\n",
    "    color = 'red' if val < 0 else 'blue'\n",
    "    return 'color: %s' % color\n",
    "\n",
    "# 使用applymap并调用写好的函数\n",
    "df.style.applymap(color_change)"
   ]
  },
  {
   "cell_type": "markdown",
   "id": "69d8ecbd-6f5d-4cff-812c-8926f179f2f1",
   "metadata": {},
   "source": [
    "## 高亮显示数据"
   ]
  },
  {
   "cell_type": "markdown",
   "id": "4cdb6a6c-ed03-403e-8e61-b2c7c26a6786",
   "metadata": {},
   "source": [
    "### 自定义高亮函数"
   ]
  },
  {
   "cell_type": "code",
   "execution_count": 9,
   "id": "4d0ba8f8-6462-4c79-9b1c-60a725ea33e3",
   "metadata": {},
   "outputs": [
    {
     "data": {
      "text/html": [
       "<style type=\"text/css\">\n",
       "#T_c67f3_row0_col0, #T_c67f3_row1_col1, #T_c67f3_row2_col2, #T_c67f3_row4_col3 {\n",
       "  background-color: yellow;\n",
       "}\n",
       "</style>\n",
       "<table id=\"T_c67f3\">\n",
       "  <thead>\n",
       "    <tr>\n",
       "      <th class=\"blank level0\" >&nbsp;</th>\n",
       "      <th id=\"T_c67f3_level0_col0\" class=\"col_heading level0 col0\" >A</th>\n",
       "      <th id=\"T_c67f3_level0_col1\" class=\"col_heading level0 col1\" >B</th>\n",
       "      <th id=\"T_c67f3_level0_col2\" class=\"col_heading level0 col2\" >C</th>\n",
       "      <th id=\"T_c67f3_level0_col3\" class=\"col_heading level0 col3\" >D</th>\n",
       "    </tr>\n",
       "  </thead>\n",
       "  <tbody>\n",
       "    <tr>\n",
       "      <th id=\"T_c67f3_level0_row0\" class=\"row_heading level0 row0\" >0</th>\n",
       "      <td id=\"T_c67f3_row0_col0\" class=\"data row0 col0\" >1.000000</td>\n",
       "      <td id=\"T_c67f3_row0_col1\" class=\"data row0 col1\" >0.400157</td>\n",
       "      <td id=\"T_c67f3_row0_col2\" class=\"data row0 col2\" >nan</td>\n",
       "      <td id=\"T_c67f3_row0_col3\" class=\"data row0 col3\" >2.240893</td>\n",
       "    </tr>\n",
       "    <tr>\n",
       "      <th id=\"T_c67f3_level0_row1\" class=\"row_heading level0 row1\" >1</th>\n",
       "      <td id=\"T_c67f3_row1_col0\" class=\"data row1 col0\" >2.000000</td>\n",
       "      <td id=\"T_c67f3_row1_col1\" class=\"data row1 col1\" >-0.977278</td>\n",
       "      <td id=\"T_c67f3_row1_col2\" class=\"data row1 col2\" >0.950088</td>\n",
       "      <td id=\"T_c67f3_row1_col3\" class=\"data row1 col3\" >-0.151357</td>\n",
       "    </tr>\n",
       "    <tr>\n",
       "      <th id=\"T_c67f3_level0_row2\" class=\"row_heading level0 row2\" >2</th>\n",
       "      <td id=\"T_c67f3_row2_col0\" class=\"data row2 col0\" >3.000000</td>\n",
       "      <td id=\"T_c67f3_row2_col1\" class=\"data row2 col1\" >0.410599</td>\n",
       "      <td id=\"T_c67f3_row2_col2\" class=\"data row2 col2\" >0.144044</td>\n",
       "      <td id=\"T_c67f3_row2_col3\" class=\"data row2 col3\" >1.454274</td>\n",
       "    </tr>\n",
       "    <tr>\n",
       "      <th id=\"T_c67f3_level0_row3\" class=\"row_heading level0 row3\" >3</th>\n",
       "      <td id=\"T_c67f3_row3_col0\" class=\"data row3 col0\" >4.000000</td>\n",
       "      <td id=\"T_c67f3_row3_col1\" class=\"data row3 col1\" >nan</td>\n",
       "      <td id=\"T_c67f3_row3_col2\" class=\"data row3 col2\" >0.443863</td>\n",
       "      <td id=\"T_c67f3_row3_col3\" class=\"data row3 col3\" >0.333674</td>\n",
       "    </tr>\n",
       "    <tr>\n",
       "      <th id=\"T_c67f3_level0_row4\" class=\"row_heading level0 row4\" >4</th>\n",
       "      <td id=\"T_c67f3_row4_col0\" class=\"data row4 col0\" >5.000000</td>\n",
       "      <td id=\"T_c67f3_row4_col1\" class=\"data row4 col1\" >-0.205158</td>\n",
       "      <td id=\"T_c67f3_row4_col2\" class=\"data row4 col2\" >0.313068</td>\n",
       "      <td id=\"T_c67f3_row4_col3\" class=\"data row4 col3\" >-0.854096</td>\n",
       "    </tr>\n",
       "    <tr>\n",
       "      <th id=\"T_c67f3_level0_row5\" class=\"row_heading level0 row5\" >5</th>\n",
       "      <td id=\"T_c67f3_row5_col0\" class=\"data row5 col0\" >6.000000</td>\n",
       "      <td id=\"T_c67f3_row5_col1\" class=\"data row5 col1\" >0.653619</td>\n",
       "      <td id=\"T_c67f3_row5_col2\" class=\"data row5 col2\" >0.864436</td>\n",
       "      <td id=\"T_c67f3_row5_col3\" class=\"data row5 col3\" >nan</td>\n",
       "    </tr>\n",
       "  </tbody>\n",
       "</table>\n"
      ],
      "text/plain": [
       "<pandas.io.formats.style.Styler at 0x7faedac58b50>"
      ]
     },
     "execution_count": 9,
     "metadata": {},
     "output_type": "execute_result"
    }
   ],
   "source": [
    "# 可以高亮显示最大、最小和缺失值。\n",
    "# 手写一个简单的高亮函数：\n",
    "\n",
    "def highlight_min(x):\n",
    "    is_min = x == x.min()\n",
    "    return [\"background-color: yellow\" if v else '' for v in is_min]\n",
    "df.style.apply(highlight_min)"
   ]
  },
  {
   "cell_type": "markdown",
   "id": "fc2f7505-9d42-4e70-8537-2b4893a0285f",
   "metadata": {},
   "source": [
    "### 使用默认高亮函数"
   ]
  },
  {
   "cell_type": "markdown",
   "id": "46fb1204-423a-4a8d-a6a1-ed85d10274b4",
   "metadata": {},
   "source": [
    "Pandas中已经默认写好了内置的3个高亮函数：\n",
    "\n",
    "- highlight_max(): 最大\n",
    "- highlight_min(): 最小\n",
    "- highlight_null(): 空值\n",
    "- highlight_between(): 界于\n",
    "\n",
    "同时我们还可以搭配参数axis来显示行或者列"
   ]
  },
  {
   "cell_type": "code",
   "execution_count": 10,
   "id": "08f129c0-3497-493d-856b-329145f55cb7",
   "metadata": {},
   "outputs": [
    {
     "data": {
      "text/html": [
       "<style type=\"text/css\">\n",
       "#T_714b7_row0_col3, #T_714b7_row1_col2, #T_714b7_row5_col0, #T_714b7_row5_col1 {\n",
       "  background-color: yellow;\n",
       "}\n",
       "</style>\n",
       "<table id=\"T_714b7\">\n",
       "  <thead>\n",
       "    <tr>\n",
       "      <th class=\"blank level0\" >&nbsp;</th>\n",
       "      <th id=\"T_714b7_level0_col0\" class=\"col_heading level0 col0\" >A</th>\n",
       "      <th id=\"T_714b7_level0_col1\" class=\"col_heading level0 col1\" >B</th>\n",
       "      <th id=\"T_714b7_level0_col2\" class=\"col_heading level0 col2\" >C</th>\n",
       "      <th id=\"T_714b7_level0_col3\" class=\"col_heading level0 col3\" >D</th>\n",
       "    </tr>\n",
       "  </thead>\n",
       "  <tbody>\n",
       "    <tr>\n",
       "      <th id=\"T_714b7_level0_row0\" class=\"row_heading level0 row0\" >0</th>\n",
       "      <td id=\"T_714b7_row0_col0\" class=\"data row0 col0\" >1.000000</td>\n",
       "      <td id=\"T_714b7_row0_col1\" class=\"data row0 col1\" >0.400157</td>\n",
       "      <td id=\"T_714b7_row0_col2\" class=\"data row0 col2\" >nan</td>\n",
       "      <td id=\"T_714b7_row0_col3\" class=\"data row0 col3\" >2.240893</td>\n",
       "    </tr>\n",
       "    <tr>\n",
       "      <th id=\"T_714b7_level0_row1\" class=\"row_heading level0 row1\" >1</th>\n",
       "      <td id=\"T_714b7_row1_col0\" class=\"data row1 col0\" >2.000000</td>\n",
       "      <td id=\"T_714b7_row1_col1\" class=\"data row1 col1\" >-0.977278</td>\n",
       "      <td id=\"T_714b7_row1_col2\" class=\"data row1 col2\" >0.950088</td>\n",
       "      <td id=\"T_714b7_row1_col3\" class=\"data row1 col3\" >-0.151357</td>\n",
       "    </tr>\n",
       "    <tr>\n",
       "      <th id=\"T_714b7_level0_row2\" class=\"row_heading level0 row2\" >2</th>\n",
       "      <td id=\"T_714b7_row2_col0\" class=\"data row2 col0\" >3.000000</td>\n",
       "      <td id=\"T_714b7_row2_col1\" class=\"data row2 col1\" >0.410599</td>\n",
       "      <td id=\"T_714b7_row2_col2\" class=\"data row2 col2\" >0.144044</td>\n",
       "      <td id=\"T_714b7_row2_col3\" class=\"data row2 col3\" >1.454274</td>\n",
       "    </tr>\n",
       "    <tr>\n",
       "      <th id=\"T_714b7_level0_row3\" class=\"row_heading level0 row3\" >3</th>\n",
       "      <td id=\"T_714b7_row3_col0\" class=\"data row3 col0\" >4.000000</td>\n",
       "      <td id=\"T_714b7_row3_col1\" class=\"data row3 col1\" >nan</td>\n",
       "      <td id=\"T_714b7_row3_col2\" class=\"data row3 col2\" >0.443863</td>\n",
       "      <td id=\"T_714b7_row3_col3\" class=\"data row3 col3\" >0.333674</td>\n",
       "    </tr>\n",
       "    <tr>\n",
       "      <th id=\"T_714b7_level0_row4\" class=\"row_heading level0 row4\" >4</th>\n",
       "      <td id=\"T_714b7_row4_col0\" class=\"data row4 col0\" >5.000000</td>\n",
       "      <td id=\"T_714b7_row4_col1\" class=\"data row4 col1\" >-0.205158</td>\n",
       "      <td id=\"T_714b7_row4_col2\" class=\"data row4 col2\" >0.313068</td>\n",
       "      <td id=\"T_714b7_row4_col3\" class=\"data row4 col3\" >-0.854096</td>\n",
       "    </tr>\n",
       "    <tr>\n",
       "      <th id=\"T_714b7_level0_row5\" class=\"row_heading level0 row5\" >5</th>\n",
       "      <td id=\"T_714b7_row5_col0\" class=\"data row5 col0\" >6.000000</td>\n",
       "      <td id=\"T_714b7_row5_col1\" class=\"data row5 col1\" >0.653619</td>\n",
       "      <td id=\"T_714b7_row5_col2\" class=\"data row5 col2\" >0.864436</td>\n",
       "      <td id=\"T_714b7_row5_col3\" class=\"data row5 col3\" >nan</td>\n",
       "    </tr>\n",
       "  </tbody>\n",
       "</table>\n"
      ],
      "text/plain": [
       "<pandas.io.formats.style.Styler at 0x7faedac3d0d0>"
      ]
     },
     "execution_count": 10,
     "metadata": {},
     "output_type": "execute_result"
    }
   ],
   "source": [
    "df.style.highlight_max()"
   ]
  },
  {
   "cell_type": "code",
   "execution_count": 11,
   "id": "1a7759ad-da6a-43ec-be31-3ce1fd27546d",
   "metadata": {},
   "outputs": [
    {
     "data": {
      "text/html": [
       "<style type=\"text/css\">\n",
       "#T_9c92e_row0_col3, #T_9c92e_row1_col0, #T_9c92e_row2_col0, #T_9c92e_row3_col0, #T_9c92e_row4_col0, #T_9c92e_row5_col0 {\n",
       "  background-color: green;\n",
       "}\n",
       "</style>\n",
       "<table id=\"T_9c92e\">\n",
       "  <thead>\n",
       "    <tr>\n",
       "      <th class=\"blank level0\" >&nbsp;</th>\n",
       "      <th id=\"T_9c92e_level0_col0\" class=\"col_heading level0 col0\" >A</th>\n",
       "      <th id=\"T_9c92e_level0_col1\" class=\"col_heading level0 col1\" >B</th>\n",
       "      <th id=\"T_9c92e_level0_col2\" class=\"col_heading level0 col2\" >C</th>\n",
       "      <th id=\"T_9c92e_level0_col3\" class=\"col_heading level0 col3\" >D</th>\n",
       "    </tr>\n",
       "  </thead>\n",
       "  <tbody>\n",
       "    <tr>\n",
       "      <th id=\"T_9c92e_level0_row0\" class=\"row_heading level0 row0\" >0</th>\n",
       "      <td id=\"T_9c92e_row0_col0\" class=\"data row0 col0\" >1.000000</td>\n",
       "      <td id=\"T_9c92e_row0_col1\" class=\"data row0 col1\" >0.400157</td>\n",
       "      <td id=\"T_9c92e_row0_col2\" class=\"data row0 col2\" >nan</td>\n",
       "      <td id=\"T_9c92e_row0_col3\" class=\"data row0 col3\" >2.240893</td>\n",
       "    </tr>\n",
       "    <tr>\n",
       "      <th id=\"T_9c92e_level0_row1\" class=\"row_heading level0 row1\" >1</th>\n",
       "      <td id=\"T_9c92e_row1_col0\" class=\"data row1 col0\" >2.000000</td>\n",
       "      <td id=\"T_9c92e_row1_col1\" class=\"data row1 col1\" >-0.977278</td>\n",
       "      <td id=\"T_9c92e_row1_col2\" class=\"data row1 col2\" >0.950088</td>\n",
       "      <td id=\"T_9c92e_row1_col3\" class=\"data row1 col3\" >-0.151357</td>\n",
       "    </tr>\n",
       "    <tr>\n",
       "      <th id=\"T_9c92e_level0_row2\" class=\"row_heading level0 row2\" >2</th>\n",
       "      <td id=\"T_9c92e_row2_col0\" class=\"data row2 col0\" >3.000000</td>\n",
       "      <td id=\"T_9c92e_row2_col1\" class=\"data row2 col1\" >0.410599</td>\n",
       "      <td id=\"T_9c92e_row2_col2\" class=\"data row2 col2\" >0.144044</td>\n",
       "      <td id=\"T_9c92e_row2_col3\" class=\"data row2 col3\" >1.454274</td>\n",
       "    </tr>\n",
       "    <tr>\n",
       "      <th id=\"T_9c92e_level0_row3\" class=\"row_heading level0 row3\" >3</th>\n",
       "      <td id=\"T_9c92e_row3_col0\" class=\"data row3 col0\" >4.000000</td>\n",
       "      <td id=\"T_9c92e_row3_col1\" class=\"data row3 col1\" >nan</td>\n",
       "      <td id=\"T_9c92e_row3_col2\" class=\"data row3 col2\" >0.443863</td>\n",
       "      <td id=\"T_9c92e_row3_col3\" class=\"data row3 col3\" >0.333674</td>\n",
       "    </tr>\n",
       "    <tr>\n",
       "      <th id=\"T_9c92e_level0_row4\" class=\"row_heading level0 row4\" >4</th>\n",
       "      <td id=\"T_9c92e_row4_col0\" class=\"data row4 col0\" >5.000000</td>\n",
       "      <td id=\"T_9c92e_row4_col1\" class=\"data row4 col1\" >-0.205158</td>\n",
       "      <td id=\"T_9c92e_row4_col2\" class=\"data row4 col2\" >0.313068</td>\n",
       "      <td id=\"T_9c92e_row4_col3\" class=\"data row4 col3\" >-0.854096</td>\n",
       "    </tr>\n",
       "    <tr>\n",
       "      <th id=\"T_9c92e_level0_row5\" class=\"row_heading level0 row5\" >5</th>\n",
       "      <td id=\"T_9c92e_row5_col0\" class=\"data row5 col0\" >6.000000</td>\n",
       "      <td id=\"T_9c92e_row5_col1\" class=\"data row5 col1\" >0.653619</td>\n",
       "      <td id=\"T_9c92e_row5_col2\" class=\"data row5 col2\" >0.864436</td>\n",
       "      <td id=\"T_9c92e_row5_col3\" class=\"data row5 col3\" >nan</td>\n",
       "    </tr>\n",
       "  </tbody>\n",
       "</table>\n"
      ],
      "text/plain": [
       "<pandas.io.formats.style.Styler at 0x7faedac3d2b0>"
      ]
     },
     "execution_count": 11,
     "metadata": {},
     "output_type": "execute_result"
    }
   ],
   "source": [
    "# 高亮ACD行中每一行的最大值，颜色为绿色\n",
    "df.style.highlight_max(\n",
    "    subset=list('ACD'),\n",
    "    color='green',\n",
    "    axis=1\n",
    ")"
   ]
  },
  {
   "cell_type": "code",
   "execution_count": 12,
   "id": "d0373488-5229-4a5b-8756-fbca4e4f7ed8",
   "metadata": {},
   "outputs": [
    {
     "data": {
      "text/html": [
       "<style type=\"text/css\">\n",
       "#T_5ad17_row0_col0, #T_5ad17_row0_col1, #T_5ad17_row1_col2, #T_5ad17_row2_col1, #T_5ad17_row2_col2, #T_5ad17_row3_col2, #T_5ad17_row3_col3, #T_5ad17_row4_col2, #T_5ad17_row5_col1, #T_5ad17_row5_col2 {\n",
       "  background-color: yellow;\n",
       "}\n",
       "</style>\n",
       "<table id=\"T_5ad17\">\n",
       "  <thead>\n",
       "    <tr>\n",
       "      <th class=\"blank level0\" >&nbsp;</th>\n",
       "      <th id=\"T_5ad17_level0_col0\" class=\"col_heading level0 col0\" >A</th>\n",
       "      <th id=\"T_5ad17_level0_col1\" class=\"col_heading level0 col1\" >B</th>\n",
       "      <th id=\"T_5ad17_level0_col2\" class=\"col_heading level0 col2\" >C</th>\n",
       "      <th id=\"T_5ad17_level0_col3\" class=\"col_heading level0 col3\" >D</th>\n",
       "    </tr>\n",
       "  </thead>\n",
       "  <tbody>\n",
       "    <tr>\n",
       "      <th id=\"T_5ad17_level0_row0\" class=\"row_heading level0 row0\" >0</th>\n",
       "      <td id=\"T_5ad17_row0_col0\" class=\"data row0 col0\" >1.000000</td>\n",
       "      <td id=\"T_5ad17_row0_col1\" class=\"data row0 col1\" >0.400157</td>\n",
       "      <td id=\"T_5ad17_row0_col2\" class=\"data row0 col2\" >nan</td>\n",
       "      <td id=\"T_5ad17_row0_col3\" class=\"data row0 col3\" >2.240893</td>\n",
       "    </tr>\n",
       "    <tr>\n",
       "      <th id=\"T_5ad17_level0_row1\" class=\"row_heading level0 row1\" >1</th>\n",
       "      <td id=\"T_5ad17_row1_col0\" class=\"data row1 col0\" >2.000000</td>\n",
       "      <td id=\"T_5ad17_row1_col1\" class=\"data row1 col1\" >-0.977278</td>\n",
       "      <td id=\"T_5ad17_row1_col2\" class=\"data row1 col2\" >0.950088</td>\n",
       "      <td id=\"T_5ad17_row1_col3\" class=\"data row1 col3\" >-0.151357</td>\n",
       "    </tr>\n",
       "    <tr>\n",
       "      <th id=\"T_5ad17_level0_row2\" class=\"row_heading level0 row2\" >2</th>\n",
       "      <td id=\"T_5ad17_row2_col0\" class=\"data row2 col0\" >3.000000</td>\n",
       "      <td id=\"T_5ad17_row2_col1\" class=\"data row2 col1\" >0.410599</td>\n",
       "      <td id=\"T_5ad17_row2_col2\" class=\"data row2 col2\" >0.144044</td>\n",
       "      <td id=\"T_5ad17_row2_col3\" class=\"data row2 col3\" >1.454274</td>\n",
       "    </tr>\n",
       "    <tr>\n",
       "      <th id=\"T_5ad17_level0_row3\" class=\"row_heading level0 row3\" >3</th>\n",
       "      <td id=\"T_5ad17_row3_col0\" class=\"data row3 col0\" >4.000000</td>\n",
       "      <td id=\"T_5ad17_row3_col1\" class=\"data row3 col1\" >nan</td>\n",
       "      <td id=\"T_5ad17_row3_col2\" class=\"data row3 col2\" >0.443863</td>\n",
       "      <td id=\"T_5ad17_row3_col3\" class=\"data row3 col3\" >0.333674</td>\n",
       "    </tr>\n",
       "    <tr>\n",
       "      <th id=\"T_5ad17_level0_row4\" class=\"row_heading level0 row4\" >4</th>\n",
       "      <td id=\"T_5ad17_row4_col0\" class=\"data row4 col0\" >5.000000</td>\n",
       "      <td id=\"T_5ad17_row4_col1\" class=\"data row4 col1\" >-0.205158</td>\n",
       "      <td id=\"T_5ad17_row4_col2\" class=\"data row4 col2\" >0.313068</td>\n",
       "      <td id=\"T_5ad17_row4_col3\" class=\"data row4 col3\" >-0.854096</td>\n",
       "    </tr>\n",
       "    <tr>\n",
       "      <th id=\"T_5ad17_level0_row5\" class=\"row_heading level0 row5\" >5</th>\n",
       "      <td id=\"T_5ad17_row5_col0\" class=\"data row5 col0\" >6.000000</td>\n",
       "      <td id=\"T_5ad17_row5_col1\" class=\"data row5 col1\" >0.653619</td>\n",
       "      <td id=\"T_5ad17_row5_col2\" class=\"data row5 col2\" >0.864436</td>\n",
       "      <td id=\"T_5ad17_row5_col3\" class=\"data row5 col3\" >nan</td>\n",
       "    </tr>\n",
       "  </tbody>\n",
       "</table>\n"
      ],
      "text/plain": [
       "<pandas.io.formats.style.Styler at 0x7faed94da190>"
      ]
     },
     "execution_count": 12,
     "metadata": {},
     "output_type": "execute_result"
    }
   ],
   "source": [
    "df.style.highlight_between(left=0.1, right=1.0)"
   ]
  },
  {
   "cell_type": "code",
   "execution_count": 13,
   "id": "542d636f-2a7b-4798-8882-bff1086c3830",
   "metadata": {},
   "outputs": [
    {
     "data": {
      "text/html": [
       "<style type=\"text/css\">\n",
       "#T_753ea_row0_col2, #T_753ea_row3_col1, #T_753ea_row5_col3 {\n",
       "  background-color: red;\n",
       "}\n",
       "</style>\n",
       "<table id=\"T_753ea\">\n",
       "  <thead>\n",
       "    <tr>\n",
       "      <th class=\"blank level0\" >&nbsp;</th>\n",
       "      <th id=\"T_753ea_level0_col0\" class=\"col_heading level0 col0\" >A</th>\n",
       "      <th id=\"T_753ea_level0_col1\" class=\"col_heading level0 col1\" >B</th>\n",
       "      <th id=\"T_753ea_level0_col2\" class=\"col_heading level0 col2\" >C</th>\n",
       "      <th id=\"T_753ea_level0_col3\" class=\"col_heading level0 col3\" >D</th>\n",
       "    </tr>\n",
       "  </thead>\n",
       "  <tbody>\n",
       "    <tr>\n",
       "      <th id=\"T_753ea_level0_row0\" class=\"row_heading level0 row0\" >0</th>\n",
       "      <td id=\"T_753ea_row0_col0\" class=\"data row0 col0\" >1.000000</td>\n",
       "      <td id=\"T_753ea_row0_col1\" class=\"data row0 col1\" >0.400157</td>\n",
       "      <td id=\"T_753ea_row0_col2\" class=\"data row0 col2\" >nan</td>\n",
       "      <td id=\"T_753ea_row0_col3\" class=\"data row0 col3\" >2.240893</td>\n",
       "    </tr>\n",
       "    <tr>\n",
       "      <th id=\"T_753ea_level0_row1\" class=\"row_heading level0 row1\" >1</th>\n",
       "      <td id=\"T_753ea_row1_col0\" class=\"data row1 col0\" >2.000000</td>\n",
       "      <td id=\"T_753ea_row1_col1\" class=\"data row1 col1\" >-0.977278</td>\n",
       "      <td id=\"T_753ea_row1_col2\" class=\"data row1 col2\" >0.950088</td>\n",
       "      <td id=\"T_753ea_row1_col3\" class=\"data row1 col3\" >-0.151357</td>\n",
       "    </tr>\n",
       "    <tr>\n",
       "      <th id=\"T_753ea_level0_row2\" class=\"row_heading level0 row2\" >2</th>\n",
       "      <td id=\"T_753ea_row2_col0\" class=\"data row2 col0\" >3.000000</td>\n",
       "      <td id=\"T_753ea_row2_col1\" class=\"data row2 col1\" >0.410599</td>\n",
       "      <td id=\"T_753ea_row2_col2\" class=\"data row2 col2\" >0.144044</td>\n",
       "      <td id=\"T_753ea_row2_col3\" class=\"data row2 col3\" >1.454274</td>\n",
       "    </tr>\n",
       "    <tr>\n",
       "      <th id=\"T_753ea_level0_row3\" class=\"row_heading level0 row3\" >3</th>\n",
       "      <td id=\"T_753ea_row3_col0\" class=\"data row3 col0\" >4.000000</td>\n",
       "      <td id=\"T_753ea_row3_col1\" class=\"data row3 col1\" >nan</td>\n",
       "      <td id=\"T_753ea_row3_col2\" class=\"data row3 col2\" >0.443863</td>\n",
       "      <td id=\"T_753ea_row3_col3\" class=\"data row3 col3\" >0.333674</td>\n",
       "    </tr>\n",
       "    <tr>\n",
       "      <th id=\"T_753ea_level0_row4\" class=\"row_heading level0 row4\" >4</th>\n",
       "      <td id=\"T_753ea_row4_col0\" class=\"data row4 col0\" >5.000000</td>\n",
       "      <td id=\"T_753ea_row4_col1\" class=\"data row4 col1\" >-0.205158</td>\n",
       "      <td id=\"T_753ea_row4_col2\" class=\"data row4 col2\" >0.313068</td>\n",
       "      <td id=\"T_753ea_row4_col3\" class=\"data row4 col3\" >-0.854096</td>\n",
       "    </tr>\n",
       "    <tr>\n",
       "      <th id=\"T_753ea_level0_row5\" class=\"row_heading level0 row5\" >5</th>\n",
       "      <td id=\"T_753ea_row5_col0\" class=\"data row5 col0\" >6.000000</td>\n",
       "      <td id=\"T_753ea_row5_col1\" class=\"data row5 col1\" >0.653619</td>\n",
       "      <td id=\"T_753ea_row5_col2\" class=\"data row5 col2\" >0.864436</td>\n",
       "      <td id=\"T_753ea_row5_col3\" class=\"data row5 col3\" >nan</td>\n",
       "    </tr>\n",
       "  </tbody>\n",
       "</table>\n"
      ],
      "text/plain": [
       "<pandas.io.formats.style.Styler at 0x7faed7d9f8e0>"
      ]
     },
     "execution_count": 13,
     "metadata": {},
     "output_type": "execute_result"
    }
   ],
   "source": [
    "df.style.highlight_null()"
   ]
  },
  {
   "cell_type": "markdown",
   "id": "00e0f43f-5d82-4a18-8f96-27772371f274",
   "metadata": {},
   "source": [
    "### 链式调用"
   ]
  },
  {
   "cell_type": "code",
   "execution_count": 14,
   "id": "6a7fea90-67c5-4f0d-ad65-26428ac8c083",
   "metadata": {},
   "outputs": [
    {
     "data": {
      "text/html": [
       "<style type=\"text/css\">\n",
       "#T_bf3c8_row0_col0, #T_bf3c8_row2_col2 {\n",
       "  color: blue;\n",
       "  background-color: yellow;\n",
       "}\n",
       "#T_bf3c8_row0_col1, #T_bf3c8_row0_col2, #T_bf3c8_row0_col3, #T_bf3c8_row1_col0, #T_bf3c8_row1_col2, #T_bf3c8_row2_col0, #T_bf3c8_row2_col1, #T_bf3c8_row2_col3, #T_bf3c8_row3_col0, #T_bf3c8_row3_col1, #T_bf3c8_row3_col2, #T_bf3c8_row3_col3, #T_bf3c8_row4_col0, #T_bf3c8_row4_col2, #T_bf3c8_row5_col0, #T_bf3c8_row5_col1, #T_bf3c8_row5_col2, #T_bf3c8_row5_col3 {\n",
       "  color: blue;\n",
       "}\n",
       "#T_bf3c8_row1_col1, #T_bf3c8_row4_col3 {\n",
       "  color: red;\n",
       "  background-color: yellow;\n",
       "}\n",
       "#T_bf3c8_row1_col3, #T_bf3c8_row4_col1 {\n",
       "  color: red;\n",
       "}\n",
       "</style>\n",
       "<table id=\"T_bf3c8\">\n",
       "  <thead>\n",
       "    <tr>\n",
       "      <th class=\"blank level0\" >&nbsp;</th>\n",
       "      <th id=\"T_bf3c8_level0_col0\" class=\"col_heading level0 col0\" >A</th>\n",
       "      <th id=\"T_bf3c8_level0_col1\" class=\"col_heading level0 col1\" >B</th>\n",
       "      <th id=\"T_bf3c8_level0_col2\" class=\"col_heading level0 col2\" >C</th>\n",
       "      <th id=\"T_bf3c8_level0_col3\" class=\"col_heading level0 col3\" >D</th>\n",
       "    </tr>\n",
       "  </thead>\n",
       "  <tbody>\n",
       "    <tr>\n",
       "      <th id=\"T_bf3c8_level0_row0\" class=\"row_heading level0 row0\" >0</th>\n",
       "      <td id=\"T_bf3c8_row0_col0\" class=\"data row0 col0\" >1.000000</td>\n",
       "      <td id=\"T_bf3c8_row0_col1\" class=\"data row0 col1\" >0.400157</td>\n",
       "      <td id=\"T_bf3c8_row0_col2\" class=\"data row0 col2\" >nan</td>\n",
       "      <td id=\"T_bf3c8_row0_col3\" class=\"data row0 col3\" >2.240893</td>\n",
       "    </tr>\n",
       "    <tr>\n",
       "      <th id=\"T_bf3c8_level0_row1\" class=\"row_heading level0 row1\" >1</th>\n",
       "      <td id=\"T_bf3c8_row1_col0\" class=\"data row1 col0\" >2.000000</td>\n",
       "      <td id=\"T_bf3c8_row1_col1\" class=\"data row1 col1\" >-0.977278</td>\n",
       "      <td id=\"T_bf3c8_row1_col2\" class=\"data row1 col2\" >0.950088</td>\n",
       "      <td id=\"T_bf3c8_row1_col3\" class=\"data row1 col3\" >-0.151357</td>\n",
       "    </tr>\n",
       "    <tr>\n",
       "      <th id=\"T_bf3c8_level0_row2\" class=\"row_heading level0 row2\" >2</th>\n",
       "      <td id=\"T_bf3c8_row2_col0\" class=\"data row2 col0\" >3.000000</td>\n",
       "      <td id=\"T_bf3c8_row2_col1\" class=\"data row2 col1\" >0.410599</td>\n",
       "      <td id=\"T_bf3c8_row2_col2\" class=\"data row2 col2\" >0.144044</td>\n",
       "      <td id=\"T_bf3c8_row2_col3\" class=\"data row2 col3\" >1.454274</td>\n",
       "    </tr>\n",
       "    <tr>\n",
       "      <th id=\"T_bf3c8_level0_row3\" class=\"row_heading level0 row3\" >3</th>\n",
       "      <td id=\"T_bf3c8_row3_col0\" class=\"data row3 col0\" >4.000000</td>\n",
       "      <td id=\"T_bf3c8_row3_col1\" class=\"data row3 col1\" >nan</td>\n",
       "      <td id=\"T_bf3c8_row3_col2\" class=\"data row3 col2\" >0.443863</td>\n",
       "      <td id=\"T_bf3c8_row3_col3\" class=\"data row3 col3\" >0.333674</td>\n",
       "    </tr>\n",
       "    <tr>\n",
       "      <th id=\"T_bf3c8_level0_row4\" class=\"row_heading level0 row4\" >4</th>\n",
       "      <td id=\"T_bf3c8_row4_col0\" class=\"data row4 col0\" >5.000000</td>\n",
       "      <td id=\"T_bf3c8_row4_col1\" class=\"data row4 col1\" >-0.205158</td>\n",
       "      <td id=\"T_bf3c8_row4_col2\" class=\"data row4 col2\" >0.313068</td>\n",
       "      <td id=\"T_bf3c8_row4_col3\" class=\"data row4 col3\" >-0.854096</td>\n",
       "    </tr>\n",
       "    <tr>\n",
       "      <th id=\"T_bf3c8_level0_row5\" class=\"row_heading level0 row5\" >5</th>\n",
       "      <td id=\"T_bf3c8_row5_col0\" class=\"data row5 col0\" >6.000000</td>\n",
       "      <td id=\"T_bf3c8_row5_col1\" class=\"data row5 col1\" >0.653619</td>\n",
       "      <td id=\"T_bf3c8_row5_col2\" class=\"data row5 col2\" >0.864436</td>\n",
       "      <td id=\"T_bf3c8_row5_col3\" class=\"data row5 col3\" >nan</td>\n",
       "    </tr>\n",
       "  </tbody>\n",
       "</table>\n"
      ],
      "text/plain": [
       "<pandas.io.formats.style.Styler at 0x7faedac58190>"
      ]
     },
     "execution_count": 14,
     "metadata": {},
     "output_type": "execute_result"
    }
   ],
   "source": [
    "df.style.\\\n",
    "applymap(color_change).\\\n",
    "apply(highlight_min)"
   ]
  }
 ],
 "metadata": {
  "kernelspec": {
   "display_name": "Python 3 (ipykernel)",
   "language": "python",
   "name": "python3"
  },
  "language_info": {
   "codemirror_mode": {
    "name": "ipython",
    "version": 3
   },
   "file_extension": ".py",
   "mimetype": "text/x-python",
   "name": "python",
   "nbconvert_exporter": "python",
   "pygments_lexer": "ipython3",
   "version": "3.9.12"
  },
  "toc-autonumbering": true,
  "toc-showmarkdowntxt": false
 },
 "nbformat": 4,
 "nbformat_minor": 5
}
