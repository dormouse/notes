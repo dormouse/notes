{
 "cells": [
  {
   "cell_type": "markdown",
   "id": "b40725b9-becc-4621-b0ab-1d556eb18e0f",
   "metadata": {},
   "source": [
    "本文中主要介绍的是如何来美化Pandas的DataFrame的数据。主要是通过Pandas中的两个方法来实现：\n",
    "\n",
    "    Styler.applymap：逐个元素，返回带有CSS属性-值对的单个字符串\n",
    "    Styler.apply：列、表、行的方式，返回具有相同形状的Series或者DataFrame，其中每个值都是带有CSS属性值对的字符串。该方法在作用的时候，通过参数axis来传递，axis=0表示按列作用，axis=1表示按行作用。\n",
    "\n",
    "官网学习地址：\n",
    "\n",
    "    https://pandas.pydata.org/pandas-docs/version/1.1.5/user_guide/style.html#Export-to-Excel\n",
    "    https://pandas.pydata.org/pandas-docs/stable/user_guide/style.html\n"
   ]
  },
  {
   "cell_type": "markdown",
   "id": "d8f49668-29f4-4673-8f5a-2bff57c20c2d",
   "metadata": {},
   "source": [
    "## 准备数据"
   ]
  },
  {
   "cell_type": "code",
   "execution_count": 1,
   "id": "a98125cb-cbea-4857-a3c4-801cdc5cf0a9",
   "metadata": {},
   "outputs": [
    {
     "data": {
      "text/html": [
       "<div>\n",
       "<style scoped>\n",
       "    .dataframe tbody tr th:only-of-type {\n",
       "        vertical-align: middle;\n",
       "    }\n",
       "\n",
       "    .dataframe tbody tr th {\n",
       "        vertical-align: top;\n",
       "    }\n",
       "\n",
       "    .dataframe thead th {\n",
       "        text-align: right;\n",
       "    }\n",
       "</style>\n",
       "<table border=\"1\" class=\"dataframe\">\n",
       "  <thead>\n",
       "    <tr style=\"text-align: right;\">\n",
       "      <th></th>\n",
       "      <th>A</th>\n",
       "      <th>B</th>\n",
       "      <th>C</th>\n",
       "      <th>D</th>\n",
       "    </tr>\n",
       "  </thead>\n",
       "  <tbody>\n",
       "    <tr>\n",
       "      <th>0</th>\n",
       "      <td>1.0</td>\n",
       "      <td>0.195865</td>\n",
       "      <td>0.357537</td>\n",
       "      <td>-2.343262</td>\n",
       "    </tr>\n",
       "    <tr>\n",
       "      <th>1</th>\n",
       "      <td>2.0</td>\n",
       "      <td>0.559696</td>\n",
       "      <td>0.939469</td>\n",
       "      <td>-0.978481</td>\n",
       "    </tr>\n",
       "    <tr>\n",
       "      <th>2</th>\n",
       "      <td>3.0</td>\n",
       "      <td>0.406414</td>\n",
       "      <td>0.323461</td>\n",
       "      <td>-0.493411</td>\n",
       "    </tr>\n",
       "    <tr>\n",
       "      <th>3</th>\n",
       "      <td>4.0</td>\n",
       "      <td>-0.842368</td>\n",
       "      <td>-1.279503</td>\n",
       "      <td>0.245715</td>\n",
       "    </tr>\n",
       "    <tr>\n",
       "      <th>4</th>\n",
       "      <td>5.0</td>\n",
       "      <td>1.567633</td>\n",
       "      <td>1.051109</td>\n",
       "      <td>0.406368</td>\n",
       "    </tr>\n",
       "    <tr>\n",
       "      <th>5</th>\n",
       "      <td>6.0</td>\n",
       "      <td>-3.189703</td>\n",
       "      <td>1.120132</td>\n",
       "      <td>1.332778</td>\n",
       "    </tr>\n",
       "  </tbody>\n",
       "</table>\n",
       "</div>"
      ],
      "text/plain": [
       "     A         B         C         D\n",
       "0  1.0  0.195865  0.357537 -2.343262\n",
       "1  2.0  0.559696  0.939469 -0.978481\n",
       "2  3.0  0.406414  0.323461 -0.493411\n",
       "3  4.0 -0.842368 -1.279503  0.245715\n",
       "4  5.0  1.567633  1.051109  0.406368\n",
       "5  6.0 -3.189703  1.120132  1.332778"
      ]
     },
     "execution_count": 1,
     "metadata": {},
     "output_type": "execute_result"
    }
   ],
   "source": [
    "import pandas as pd\n",
    "import numpy as np\n",
    "\n",
    "# 设置随机种子，保证每次运行结果相同\n",
    "np.random.seed(20)\n",
    "\n",
    "# 模拟数据\n",
    "df = pd.DataFrame(np.random.randn(6,4), columns=list(\"ABCD\"))\n",
    "\n",
    "# numpy中的linspace(start,stop,setp)：表示按照步长取数，包含头尾的数据\n",
    "df.A = np.linspace(1, 6, 6)\n",
    "df"
   ]
  },
  {
   "cell_type": "code",
   "execution_count": 2,
   "id": "35da37c0-cbd1-44a0-98fb-a9f620c81f17",
   "metadata": {},
   "outputs": [
    {
     "data": {
      "text/html": [
       "<div>\n",
       "<style scoped>\n",
       "    .dataframe tbody tr th:only-of-type {\n",
       "        vertical-align: middle;\n",
       "    }\n",
       "\n",
       "    .dataframe tbody tr th {\n",
       "        vertical-align: top;\n",
       "    }\n",
       "\n",
       "    .dataframe thead th {\n",
       "        text-align: right;\n",
       "    }\n",
       "</style>\n",
       "<table border=\"1\" class=\"dataframe\">\n",
       "  <thead>\n",
       "    <tr style=\"text-align: right;\">\n",
       "      <th></th>\n",
       "      <th>A</th>\n",
       "      <th>B</th>\n",
       "      <th>C</th>\n",
       "      <th>D</th>\n",
       "    </tr>\n",
       "  </thead>\n",
       "  <tbody>\n",
       "    <tr>\n",
       "      <th>0</th>\n",
       "      <td>1.0</td>\n",
       "      <td>0.195865</td>\n",
       "      <td>NaN</td>\n",
       "      <td>-2.343262</td>\n",
       "    </tr>\n",
       "    <tr>\n",
       "      <th>1</th>\n",
       "      <td>2.0</td>\n",
       "      <td>0.559696</td>\n",
       "      <td>0.939469</td>\n",
       "      <td>-0.978481</td>\n",
       "    </tr>\n",
       "    <tr>\n",
       "      <th>2</th>\n",
       "      <td>3.0</td>\n",
       "      <td>0.406414</td>\n",
       "      <td>0.323461</td>\n",
       "      <td>-0.493411</td>\n",
       "    </tr>\n",
       "    <tr>\n",
       "      <th>3</th>\n",
       "      <td>4.0</td>\n",
       "      <td>NaN</td>\n",
       "      <td>-1.279503</td>\n",
       "      <td>0.245715</td>\n",
       "    </tr>\n",
       "    <tr>\n",
       "      <th>4</th>\n",
       "      <td>5.0</td>\n",
       "      <td>1.567633</td>\n",
       "      <td>1.051109</td>\n",
       "      <td>0.406368</td>\n",
       "    </tr>\n",
       "    <tr>\n",
       "      <th>5</th>\n",
       "      <td>6.0</td>\n",
       "      <td>-3.189703</td>\n",
       "      <td>1.120132</td>\n",
       "      <td>NaN</td>\n",
       "    </tr>\n",
       "  </tbody>\n",
       "</table>\n",
       "</div>"
      ],
      "text/plain": [
       "     A         B         C         D\n",
       "0  1.0  0.195865       NaN -2.343262\n",
       "1  2.0  0.559696  0.939469 -0.978481\n",
       "2  3.0  0.406414  0.323461 -0.493411\n",
       "3  4.0       NaN -1.279503  0.245715\n",
       "4  5.0  1.567633  1.051109  0.406368\n",
       "5  6.0 -3.189703  1.120132       NaN"
      ]
     },
     "execution_count": 2,
     "metadata": {},
     "output_type": "execute_result"
    }
   ],
   "source": [
    "df.iloc[3,1] = np.nan\n",
    "df.iloc[0,2] = np.nan\n",
    "df.iloc[5,3] = np.nan\n",
    "df"
   ]
  },
  {
   "cell_type": "markdown",
   "id": "a177f785-88f9-408e-9b07-02bbe0ab33e6",
   "metadata": {},
   "source": [
    "## 查看和隐藏样式"
   ]
  },
  {
   "cell_type": "code",
   "execution_count": 3,
   "id": "054af7c3-47dc-4185-a62c-3c642485d34b",
   "metadata": {},
   "outputs": [
    {
     "data": {
      "text/html": [
       "<style type=\"text/css\">\n",
       "</style>\n",
       "<table id=\"T_3ee0c_\">\n",
       "  <thead>\n",
       "    <tr>\n",
       "      <th class=\"blank level0\" >&nbsp;</th>\n",
       "      <th class=\"col_heading level0 col0\" >A</th>\n",
       "      <th class=\"col_heading level0 col1\" >B</th>\n",
       "      <th class=\"col_heading level0 col2\" >C</th>\n",
       "      <th class=\"col_heading level0 col3\" >D</th>\n",
       "    </tr>\n",
       "  </thead>\n",
       "  <tbody>\n",
       "    <tr>\n",
       "      <th id=\"T_3ee0c_level0_row0\" class=\"row_heading level0 row0\" >0</th>\n",
       "      <td id=\"T_3ee0c_row0_col0\" class=\"data row0 col0\" >1.000000</td>\n",
       "      <td id=\"T_3ee0c_row0_col1\" class=\"data row0 col1\" >0.195865</td>\n",
       "      <td id=\"T_3ee0c_row0_col2\" class=\"data row0 col2\" >nan</td>\n",
       "      <td id=\"T_3ee0c_row0_col3\" class=\"data row0 col3\" >-2.343262</td>\n",
       "    </tr>\n",
       "    <tr>\n",
       "      <th id=\"T_3ee0c_level0_row1\" class=\"row_heading level0 row1\" >1</th>\n",
       "      <td id=\"T_3ee0c_row1_col0\" class=\"data row1 col0\" >2.000000</td>\n",
       "      <td id=\"T_3ee0c_row1_col1\" class=\"data row1 col1\" >0.559696</td>\n",
       "      <td id=\"T_3ee0c_row1_col2\" class=\"data row1 col2\" >0.939469</td>\n",
       "      <td id=\"T_3ee0c_row1_col3\" class=\"data row1 col3\" >-0.978481</td>\n",
       "    </tr>\n",
       "    <tr>\n",
       "      <th id=\"T_3ee0c_level0_row2\" class=\"row_heading level0 row2\" >2</th>\n",
       "      <td id=\"T_3ee0c_row2_col0\" class=\"data row2 col0\" >3.000000</td>\n",
       "      <td id=\"T_3ee0c_row2_col1\" class=\"data row2 col1\" >0.406414</td>\n",
       "      <td id=\"T_3ee0c_row2_col2\" class=\"data row2 col2\" >0.323461</td>\n",
       "      <td id=\"T_3ee0c_row2_col3\" class=\"data row2 col3\" >-0.493411</td>\n",
       "    </tr>\n",
       "    <tr>\n",
       "      <th id=\"T_3ee0c_level0_row3\" class=\"row_heading level0 row3\" >3</th>\n",
       "      <td id=\"T_3ee0c_row3_col0\" class=\"data row3 col0\" >4.000000</td>\n",
       "      <td id=\"T_3ee0c_row3_col1\" class=\"data row3 col1\" >nan</td>\n",
       "      <td id=\"T_3ee0c_row3_col2\" class=\"data row3 col2\" >-1.279503</td>\n",
       "      <td id=\"T_3ee0c_row3_col3\" class=\"data row3 col3\" >0.245715</td>\n",
       "    </tr>\n",
       "    <tr>\n",
       "      <th id=\"T_3ee0c_level0_row4\" class=\"row_heading level0 row4\" >4</th>\n",
       "      <td id=\"T_3ee0c_row4_col0\" class=\"data row4 col0\" >5.000000</td>\n",
       "      <td id=\"T_3ee0c_row4_col1\" class=\"data row4 col1\" >1.567633</td>\n",
       "      <td id=\"T_3ee0c_row4_col2\" class=\"data row4 col2\" >1.051109</td>\n",
       "      <td id=\"T_3ee0c_row4_col3\" class=\"data row4 col3\" >0.406368</td>\n",
       "    </tr>\n",
       "    <tr>\n",
       "      <th id=\"T_3ee0c_level0_row5\" class=\"row_heading level0 row5\" >5</th>\n",
       "      <td id=\"T_3ee0c_row5_col0\" class=\"data row5 col0\" >6.000000</td>\n",
       "      <td id=\"T_3ee0c_row5_col1\" class=\"data row5 col1\" >-3.189703</td>\n",
       "      <td id=\"T_3ee0c_row5_col2\" class=\"data row5 col2\" >1.120132</td>\n",
       "      <td id=\"T_3ee0c_row5_col3\" class=\"data row5 col3\" >nan</td>\n",
       "    </tr>\n",
       "  </tbody>\n",
       "</table>\n"
      ],
      "text/plain": [
       "<pandas.io.formats.style.Styler at 0x7f26802757c0>"
      ]
     },
     "execution_count": 3,
     "metadata": {},
     "output_type": "execute_result"
    }
   ],
   "source": [
    "# 查看DataFrame的样式设置\n",
    "df.style"
   ]
  },
  {
   "cell_type": "code",
   "execution_count": 4,
   "id": "7039f243-c5f4-4a92-86a6-f59283ed83ea",
   "metadata": {},
   "outputs": [
    {
     "data": {
      "text/plain": [
       "pandas.io.formats.style.Styler"
      ]
     },
     "execution_count": 4,
     "metadata": {},
     "output_type": "execute_result"
    }
   ],
   "source": [
    "type(df.style)"
   ]
  },
  {
   "cell_type": "code",
   "execution_count": 5,
   "id": "957292ea-56ed-4676-9415-602512c1391e",
   "metadata": {},
   "outputs": [
    {
     "data": {
      "text/plain": [
       "['<style type=\"text/css\">',\n",
       " '</style>',\n",
       " '<table id=\"T_6dc05_\">',\n",
       " '  <thead>',\n",
       " '    <tr>',\n",
       " '      <th class=\"blank level0\" >&nbsp;</th>',\n",
       " '      <th class=\"col_heading level0 col0\" >A</th>',\n",
       " '      <th class=\"col_heading level0 col1\" >B</th>',\n",
       " '      <th class=\"col_heading level0 col2\" >C</th>',\n",
       " '      <th class=\"col_heading level0 col3\" >D</th>',\n",
       " '    </tr>',\n",
       " '  </thead>',\n",
       " '  <tbody>',\n",
       " '    <tr>',\n",
       " '      <th id=\"T_6dc05_level0_row0\" class=\"row_heading level0 row0\" >0</th>']"
      ]
     },
     "execution_count": 5,
     "metadata": {},
     "output_type": "execute_result"
    }
   ],
   "source": [
    "# 我们可以通过render方法来查看数据框样式的具体值\n",
    "df.style.render().split('\\n')[:15]"
   ]
  },
  {
   "cell_type": "markdown",
   "id": "7ea6de6d-376e-4c59-987d-d0f4d87e537b",
   "metadata": {},
   "source": [
    "### 隐藏索引"
   ]
  },
  {
   "cell_type": "code",
   "execution_count": 6,
   "id": "ef532a90-aa39-4815-ad9a-657fc3dee4dd",
   "metadata": {},
   "outputs": [
    {
     "data": {
      "text/html": [
       "<style type=\"text/css\">\n",
       "</style>\n",
       "<table id=\"T_958aa_\">\n",
       "  <thead>\n",
       "    <tr>\n",
       "      <th class=\"col_heading level0 col0\" >A</th>\n",
       "      <th class=\"col_heading level0 col1\" >B</th>\n",
       "      <th class=\"col_heading level0 col2\" >C</th>\n",
       "      <th class=\"col_heading level0 col3\" >D</th>\n",
       "    </tr>\n",
       "  </thead>\n",
       "  <tbody>\n",
       "    <tr>\n",
       "      <td id=\"T_958aa_row0_col0\" class=\"data row0 col0\" >1.000000</td>\n",
       "      <td id=\"T_958aa_row0_col1\" class=\"data row0 col1\" >0.195865</td>\n",
       "      <td id=\"T_958aa_row0_col2\" class=\"data row0 col2\" >nan</td>\n",
       "      <td id=\"T_958aa_row0_col3\" class=\"data row0 col3\" >-2.343262</td>\n",
       "    </tr>\n",
       "    <tr>\n",
       "      <td id=\"T_958aa_row1_col0\" class=\"data row1 col0\" >2.000000</td>\n",
       "      <td id=\"T_958aa_row1_col1\" class=\"data row1 col1\" >0.559696</td>\n",
       "      <td id=\"T_958aa_row1_col2\" class=\"data row1 col2\" >0.939469</td>\n",
       "      <td id=\"T_958aa_row1_col3\" class=\"data row1 col3\" >-0.978481</td>\n",
       "    </tr>\n",
       "    <tr>\n",
       "      <td id=\"T_958aa_row2_col0\" class=\"data row2 col0\" >3.000000</td>\n",
       "      <td id=\"T_958aa_row2_col1\" class=\"data row2 col1\" >0.406414</td>\n",
       "      <td id=\"T_958aa_row2_col2\" class=\"data row2 col2\" >0.323461</td>\n",
       "      <td id=\"T_958aa_row2_col3\" class=\"data row2 col3\" >-0.493411</td>\n",
       "    </tr>\n",
       "    <tr>\n",
       "      <td id=\"T_958aa_row3_col0\" class=\"data row3 col0\" >4.000000</td>\n",
       "      <td id=\"T_958aa_row3_col1\" class=\"data row3 col1\" >nan</td>\n",
       "      <td id=\"T_958aa_row3_col2\" class=\"data row3 col2\" >-1.279503</td>\n",
       "      <td id=\"T_958aa_row3_col3\" class=\"data row3 col3\" >0.245715</td>\n",
       "    </tr>\n",
       "    <tr>\n",
       "      <td id=\"T_958aa_row4_col0\" class=\"data row4 col0\" >5.000000</td>\n",
       "      <td id=\"T_958aa_row4_col1\" class=\"data row4 col1\" >1.567633</td>\n",
       "      <td id=\"T_958aa_row4_col2\" class=\"data row4 col2\" >1.051109</td>\n",
       "      <td id=\"T_958aa_row4_col3\" class=\"data row4 col3\" >0.406368</td>\n",
       "    </tr>\n",
       "    <tr>\n",
       "      <td id=\"T_958aa_row5_col0\" class=\"data row5 col0\" >6.000000</td>\n",
       "      <td id=\"T_958aa_row5_col1\" class=\"data row5 col1\" >-3.189703</td>\n",
       "      <td id=\"T_958aa_row5_col2\" class=\"data row5 col2\" >1.120132</td>\n",
       "      <td id=\"T_958aa_row5_col3\" class=\"data row5 col3\" >nan</td>\n",
       "    </tr>\n",
       "  </tbody>\n",
       "</table>\n"
      ],
      "text/plain": [
       "<pandas.io.formats.style.Styler at 0x7f26463e1220>"
      ]
     },
     "execution_count": 6,
     "metadata": {},
     "output_type": "execute_result"
    }
   ],
   "source": [
    "# 隐藏index\n",
    "df.style.hide_index()"
   ]
  },
  {
   "cell_type": "markdown",
   "id": "97b19d45-1d95-4e7f-a553-b331476956cd",
   "metadata": {},
   "source": [
    "### 隐藏指定的列"
   ]
  },
  {
   "cell_type": "code",
   "execution_count": 7,
   "id": "1c391f61-fc37-4bcf-985a-ad6d6281a975",
   "metadata": {},
   "outputs": [
    {
     "data": {
      "text/html": [
       "<style type=\"text/css\">\n",
       "</style>\n",
       "<table id=\"T_7ad49_\">\n",
       "  <thead>\n",
       "    <tr>\n",
       "      <th class=\"blank level0\" >&nbsp;</th>\n",
       "      <th class=\"col_heading level0 col1\" >B</th>\n",
       "      <th class=\"col_heading level0 col3\" >D</th>\n",
       "    </tr>\n",
       "  </thead>\n",
       "  <tbody>\n",
       "    <tr>\n",
       "      <th id=\"T_7ad49_level0_row0\" class=\"row_heading level0 row0\" >0</th>\n",
       "      <td id=\"T_7ad49_row0_col1\" class=\"data row0 col1\" >0.195865</td>\n",
       "      <td id=\"T_7ad49_row0_col3\" class=\"data row0 col3\" >-2.343262</td>\n",
       "    </tr>\n",
       "    <tr>\n",
       "      <th id=\"T_7ad49_level0_row1\" class=\"row_heading level0 row1\" >1</th>\n",
       "      <td id=\"T_7ad49_row1_col1\" class=\"data row1 col1\" >0.559696</td>\n",
       "      <td id=\"T_7ad49_row1_col3\" class=\"data row1 col3\" >-0.978481</td>\n",
       "    </tr>\n",
       "    <tr>\n",
       "      <th id=\"T_7ad49_level0_row2\" class=\"row_heading level0 row2\" >2</th>\n",
       "      <td id=\"T_7ad49_row2_col1\" class=\"data row2 col1\" >0.406414</td>\n",
       "      <td id=\"T_7ad49_row2_col3\" class=\"data row2 col3\" >-0.493411</td>\n",
       "    </tr>\n",
       "    <tr>\n",
       "      <th id=\"T_7ad49_level0_row3\" class=\"row_heading level0 row3\" >3</th>\n",
       "      <td id=\"T_7ad49_row3_col1\" class=\"data row3 col1\" >nan</td>\n",
       "      <td id=\"T_7ad49_row3_col3\" class=\"data row3 col3\" >0.245715</td>\n",
       "    </tr>\n",
       "    <tr>\n",
       "      <th id=\"T_7ad49_level0_row4\" class=\"row_heading level0 row4\" >4</th>\n",
       "      <td id=\"T_7ad49_row4_col1\" class=\"data row4 col1\" >1.567633</td>\n",
       "      <td id=\"T_7ad49_row4_col3\" class=\"data row4 col3\" >0.406368</td>\n",
       "    </tr>\n",
       "    <tr>\n",
       "      <th id=\"T_7ad49_level0_row5\" class=\"row_heading level0 row5\" >5</th>\n",
       "      <td id=\"T_7ad49_row5_col1\" class=\"data row5 col1\" >-3.189703</td>\n",
       "      <td id=\"T_7ad49_row5_col3\" class=\"data row5 col3\" >nan</td>\n",
       "    </tr>\n",
       "  </tbody>\n",
       "</table>\n"
      ],
      "text/plain": [
       "<pandas.io.formats.style.Styler at 0x7f26463e16d0>"
      ]
     },
     "execution_count": 7,
     "metadata": {},
     "output_type": "execute_result"
    }
   ],
   "source": [
    "# 隐藏 A C 两列，使用的是 subset 参数\n",
    "df.style.hide_columns(subset = list('AC'))"
   ]
  },
  {
   "cell_type": "code",
   "execution_count": 11,
   "id": "216dc323-97ca-4470-b17f-466dcab8c415",
   "metadata": {},
   "outputs": [
    {
     "data": {
      "text/html": [
       "<style type=\"text/css\">\n",
       "#T_9f361_row0_col0, #T_9f361_row0_col1, #T_9f361_row0_col2, #T_9f361_row1_col0, #T_9f361_row1_col1, #T_9f361_row1_col2, #T_9f361_row2_col0, #T_9f361_row2_col1, #T_9f361_row2_col2, #T_9f361_row3_col0, #T_9f361_row3_col1, #T_9f361_row3_col3, #T_9f361_row4_col0, #T_9f361_row4_col1, #T_9f361_row4_col2, #T_9f361_row4_col3, #T_9f361_row5_col0, #T_9f361_row5_col2, #T_9f361_row5_col3 {\n",
       "  color: blue;\n",
       "}\n",
       "#T_9f361_row0_col3, #T_9f361_row1_col3, #T_9f361_row2_col3, #T_9f361_row3_col2, #T_9f361_row5_col1 {\n",
       "  color: red;\n",
       "}\n",
       "</style>\n",
       "<table id=\"T_9f361_\">\n",
       "  <thead>\n",
       "    <tr>\n",
       "      <th class=\"blank level0\" >&nbsp;</th>\n",
       "      <th class=\"col_heading level0 col0\" >A</th>\n",
       "      <th class=\"col_heading level0 col1\" >B</th>\n",
       "      <th class=\"col_heading level0 col2\" >C</th>\n",
       "      <th class=\"col_heading level0 col3\" >D</th>\n",
       "    </tr>\n",
       "  </thead>\n",
       "  <tbody>\n",
       "    <tr>\n",
       "      <th id=\"T_9f361_level0_row0\" class=\"row_heading level0 row0\" >0</th>\n",
       "      <td id=\"T_9f361_row0_col0\" class=\"data row0 col0\" >1.000000</td>\n",
       "      <td id=\"T_9f361_row0_col1\" class=\"data row0 col1\" >0.195865</td>\n",
       "      <td id=\"T_9f361_row0_col2\" class=\"data row0 col2\" >nan</td>\n",
       "      <td id=\"T_9f361_row0_col3\" class=\"data row0 col3\" >-2.343262</td>\n",
       "    </tr>\n",
       "    <tr>\n",
       "      <th id=\"T_9f361_level0_row1\" class=\"row_heading level0 row1\" >1</th>\n",
       "      <td id=\"T_9f361_row1_col0\" class=\"data row1 col0\" >2.000000</td>\n",
       "      <td id=\"T_9f361_row1_col1\" class=\"data row1 col1\" >0.559696</td>\n",
       "      <td id=\"T_9f361_row1_col2\" class=\"data row1 col2\" >0.939469</td>\n",
       "      <td id=\"T_9f361_row1_col3\" class=\"data row1 col3\" >-0.978481</td>\n",
       "    </tr>\n",
       "    <tr>\n",
       "      <th id=\"T_9f361_level0_row2\" class=\"row_heading level0 row2\" >2</th>\n",
       "      <td id=\"T_9f361_row2_col0\" class=\"data row2 col0\" >3.000000</td>\n",
       "      <td id=\"T_9f361_row2_col1\" class=\"data row2 col1\" >0.406414</td>\n",
       "      <td id=\"T_9f361_row2_col2\" class=\"data row2 col2\" >0.323461</td>\n",
       "      <td id=\"T_9f361_row2_col3\" class=\"data row2 col3\" >-0.493411</td>\n",
       "    </tr>\n",
       "    <tr>\n",
       "      <th id=\"T_9f361_level0_row3\" class=\"row_heading level0 row3\" >3</th>\n",
       "      <td id=\"T_9f361_row3_col0\" class=\"data row3 col0\" >4.000000</td>\n",
       "      <td id=\"T_9f361_row3_col1\" class=\"data row3 col1\" >nan</td>\n",
       "      <td id=\"T_9f361_row3_col2\" class=\"data row3 col2\" >-1.279503</td>\n",
       "      <td id=\"T_9f361_row3_col3\" class=\"data row3 col3\" >0.245715</td>\n",
       "    </tr>\n",
       "    <tr>\n",
       "      <th id=\"T_9f361_level0_row4\" class=\"row_heading level0 row4\" >4</th>\n",
       "      <td id=\"T_9f361_row4_col0\" class=\"data row4 col0\" >5.000000</td>\n",
       "      <td id=\"T_9f361_row4_col1\" class=\"data row4 col1\" >1.567633</td>\n",
       "      <td id=\"T_9f361_row4_col2\" class=\"data row4 col2\" >1.051109</td>\n",
       "      <td id=\"T_9f361_row4_col3\" class=\"data row4 col3\" >0.406368</td>\n",
       "    </tr>\n",
       "    <tr>\n",
       "      <th id=\"T_9f361_level0_row5\" class=\"row_heading level0 row5\" >5</th>\n",
       "      <td id=\"T_9f361_row5_col0\" class=\"data row5 col0\" >6.000000</td>\n",
       "      <td id=\"T_9f361_row5_col1\" class=\"data row5 col1\" >-3.189703</td>\n",
       "      <td id=\"T_9f361_row5_col2\" class=\"data row5 col2\" >1.120132</td>\n",
       "      <td id=\"T_9f361_row5_col3\" class=\"data row5 col3\" >nan</td>\n",
       "    </tr>\n",
       "  </tbody>\n",
       "</table>\n"
      ],
      "text/plain": [
       "<pandas.io.formats.style.Styler at 0x7f2680275550>"
      ]
     },
     "execution_count": 11,
     "metadata": {},
     "output_type": "execute_result"
    }
   ],
   "source": [
    "def color_change(val):\n",
    "    color = 'red' if val < 0 else 'blue'\n",
    "    return 'color: %s' % color\n",
    "\n",
    "# 使用applymap并调用写好的函数\n",
    "df.style.applymap(color_change)"
   ]
  },
  {
   "cell_type": "code",
   "execution_count": null,
   "id": "a8e6d9d3-5cb7-4911-a599-f1f9404911e4",
   "metadata": {},
   "outputs": [],
   "source": []
  }
 ],
 "metadata": {
  "kernelspec": {
   "display_name": "Python 3 (ipykernel)",
   "language": "python",
   "name": "python3"
  },
  "language_info": {
   "codemirror_mode": {
    "name": "ipython",
    "version": 3
   },
   "file_extension": ".py",
   "mimetype": "text/x-python",
   "name": "python",
   "nbconvert_exporter": "python",
   "pygments_lexer": "ipython3",
   "version": "3.9.7"
  },
  "toc-showmarkdowntxt": false
 },
 "nbformat": 4,
 "nbformat_minor": 5
}
