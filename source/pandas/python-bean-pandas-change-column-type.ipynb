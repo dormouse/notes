{
 "cells": [
  {
   "cell_type": "markdown",
   "id": "third-independence",
   "metadata": {},
   "source": [
    "# 【Python茴香豆系列】之 PANDAS 变更列的类型\n",
    "\n",
    "用 Python 编程，使用不同的方法来完成同一个目标，有时候是一件很有意思的事情。这让我想起鲁迅笔下的孔乙己。孔乙己对于茴香豆的茴字的四种写法颇有研究。我不敢自比孔乙己，这里搜集一些 Python 的茴香豆，以飨各位码农。\n",
    "\n",
    "首先准备一个函数，用来生成用于测试的 DataFrame 。这个 DataFrame 有 3 列，名称分别为 a 、 b 和 c 。"
   ]
  },
  {
   "cell_type": "code",
   "execution_count": 51,
   "id": "suspected-dream",
   "metadata": {},
   "outputs": [],
   "source": [
    "import numpy as np\n",
    "import pandas as pd"
   ]
  },
  {
   "cell_type": "markdown",
   "id": "cultural-revelation",
   "metadata": {},
   "source": [
    "## 茴香豆一： to_numeric()"
   ]
  },
  {
   "cell_type": "markdown",
   "id": "fitted-generator",
   "metadata": {},
   "source": [
    "这个函数可以把 scalar 、 list 、tuple 、 1-d array 或者 Series 类型的数据转换为数字类型的数据。\n",
    "默认根据输入的参数返回 `float64` 或者 `int64` 类型。"
   ]
  },
  {
   "cell_type": "code",
   "execution_count": 52,
   "id": "electric-april",
   "metadata": {},
   "outputs": [
    {
     "data": {
      "text/plain": [
       "0    1\n",
       "1    2\n",
       "2    3\n",
       "dtype: int64"
      ]
     },
     "execution_count": 52,
     "metadata": {},
     "output_type": "execute_result"
    }
   ],
   "source": [
    "# 把一个序列转换为数字，序列中的数据的数据类型不要求一致。\n",
    "s = pd.Series([\"1\", 2, \"3\"])\n",
    "pd.to_numeric(s)"
   ]
  },
  {
   "cell_type": "code",
   "execution_count": 53,
   "id": "celtic-acquisition",
   "metadata": {},
   "outputs": [
    {
     "data": {
      "text/plain": [
       "a    object\n",
       "b    object\n",
       "c    object\n",
       "dtype: object"
      ]
     },
     "execution_count": 53,
     "metadata": {},
     "output_type": "execute_result"
    }
   ],
   "source": [
    "# 生成一个有三个列的示例 DataFrame\n",
    "df = pd.DataFrame({'a':['1','2','3'], 'b':[4,'5.0',6], 'c':['7',8,9]})\n",
    "df.dtypes"
   ]
  },
  {
   "cell_type": "code",
   "execution_count": 54,
   "id": "environmental-spokesman",
   "metadata": {},
   "outputs": [
    {
     "data": {
      "text/plain": [
       "a      int64\n",
       "b    float64\n",
       "c      int64\n",
       "dtype: object"
      ]
     },
     "execution_count": 54,
     "metadata": {},
     "output_type": "execute_result"
    }
   ],
   "source": [
    "# 转换所有的列\n",
    "df.apply(pd.to_numeric).dtypes"
   ]
  },
  {
   "cell_type": "code",
   "execution_count": 55,
   "id": "polar-surgeon",
   "metadata": {},
   "outputs": [
    {
     "data": {
      "text/plain": [
       "a      int64\n",
       "b    float64\n",
       "c     object\n",
       "dtype: object"
      ]
     },
     "execution_count": 55,
     "metadata": {},
     "output_type": "execute_result"
    }
   ],
   "source": [
    "# 只转换 a 列和 b 列\n",
    "df[[\"a\", \"b\"]] = df[[\"a\", \"b\"]].apply(pd.to_numeric)\n",
    "df.dtypes"
   ]
  },
  {
   "cell_type": "markdown",
   "id": "saving-coalition",
   "metadata": {},
   "source": [
    "`to_numeric` 的函数原型是 `to_numeric(arg, errors='raise', downcast=None)` 。 `errors` 可以控制类型转换中的出错处理。详细内容参见文档。\n",
    "类似类型的函数还有 `to_datetime()` 和 `to_timedelta()` 。"
   ]
  },
  {
   "cell_type": "markdown",
   "id": "comparative-rebecca",
   "metadata": {},
   "source": [
    "## 茴香豆二： astype()\n",
    "Dataframe 和 Series 的实例均有 astype 方法，可用于类型转换。"
   ]
  },
  {
   "cell_type": "code",
   "execution_count": 56,
   "id": "continent-sharp",
   "metadata": {},
   "outputs": [
    {
     "data": {
      "text/plain": [
       "0    1\n",
       "1    2\n",
       "2    3\n",
       "dtype: int64"
      ]
     },
     "execution_count": 56,
     "metadata": {},
     "output_type": "execute_result"
    }
   ],
   "source": [
    "s = pd.Series([\"1\", 2, \"3\"])\n",
    "s.astype(int)"
   ]
  },
  {
   "cell_type": "code",
   "execution_count": 57,
   "id": "ceramic-summary",
   "metadata": {},
   "outputs": [
    {
     "data": {
      "text/plain": [
       "a    object\n",
       "b    object\n",
       "c    object\n",
       "dtype: object"
      ]
     },
     "execution_count": 57,
     "metadata": {},
     "output_type": "execute_result"
    }
   ],
   "source": [
    "df = pd.DataFrame({'a':['1','2','3'], 'b':[4,'5.0',6], 'c':['7',8,9]})\n",
    "df.astype('int32', errors='ignore').dtypes"
   ]
  },
  {
   "cell_type": "code",
   "execution_count": 58,
   "id": "veterinary-northern",
   "metadata": {},
   "outputs": [
    {
     "data": {
      "text/plain": [
       "a     int32\n",
       "b    object\n",
       "c    object\n",
       "dtype: object"
      ]
     },
     "execution_count": 58,
     "metadata": {},
     "output_type": "execute_result"
    }
   ],
   "source": [
    "df.astype({'a': 'int32'}).dtypes"
   ]
  },
  {
   "cell_type": "markdown",
   "id": "continental-citizen",
   "metadata": {},
   "source": [
    "`astype` 方法的定义是 `astype(dtype, copy: bool = True, errors: str = 'raise')` ，详细内容参见文档。"
   ]
  },
  {
   "cell_type": "markdown",
   "id": "inner-scheme",
   "metadata": {},
   "source": [
    "## 茴香豆三： infer_objects()\n",
    "\n",
    "此方法的作用是尝试把 object 类型的列转换为更合适的类型，于 0.21.0 版本新增。示例："
   ]
  },
  {
   "cell_type": "code",
   "execution_count": 59,
   "id": "limiting-favor",
   "metadata": {},
   "outputs": [
    {
     "data": {
      "text/plain": [
       "A    object\n",
       "B    object\n",
       "dtype: object"
      ]
     },
     "execution_count": 59,
     "metadata": {},
     "output_type": "execute_result"
    }
   ],
   "source": [
    "df = pd.DataFrame({\"A\": [\"a\", 1, 2, 3], \"B\": [\"a\", 1, 2.0, 3]})\n",
    "df.dtypes"
   ]
  },
  {
   "cell_type": "code",
   "execution_count": 60,
   "id": "educated-harassment",
   "metadata": {},
   "outputs": [
    {
     "data": {
      "text/plain": [
       "A      int64\n",
       "B    float64\n",
       "dtype: object"
      ]
     },
     "execution_count": 60,
     "metadata": {},
     "output_type": "execute_result"
    }
   ],
   "source": [
    "df = df.iloc[1:]\n",
    "df.infer_objects().dtypes"
   ]
  },
  {
   "cell_type": "markdown",
   "id": "spoken-trailer",
   "metadata": {},
   "source": [
    "## 茴香豆四： convert_dtypes()\n",
    "\n",
    "此方法的作用是尝试把列的数据类型转换为更合适的类型，于 1.0.0 版本新增。官方示例：\n",
    "\n",
    "```python\n",
    ">>> df = pd.DataFrame(\n",
    "...     {\n",
    "...         \"a\": pd.Series([1, 2, 3], dtype=np.dtype(\"int32\")),\n",
    "...         \"b\": pd.Series([\"x\", \"y\", \"z\"], dtype=np.dtype(\"O\")),\n",
    "...         \"c\": pd.Series([True, False, np.nan], dtype=np.dtype(\"O\")),\n",
    "...         \"d\": pd.Series([\"h\", \"i\", np.nan], dtype=np.dtype(\"O\")),\n",
    "...         \"e\": pd.Series([10, np.nan, 20], dtype=np.dtype(\"float\")),\n",
    "...         \"f\": pd.Series([np.nan, 100.5, 200], dtype=np.dtype(\"float\")),\n",
    "...     }\n",
    "... )\n",
    "\n",
    ">>> df\n",
    "   a  b      c    d     e      f\n",
    "0  1  x   True    h  10.0    NaN\n",
    "1  2  y  False    i   NaN  100.5\n",
    "2  3  z    NaN  NaN  20.0  200.0\n",
    "```\n",
    "\n",
    "新建一个 DataFrame ，默认的 dtype 如下：\n",
    "\n",
    "```python\n",
    ">>> df.dtypes\n",
    "a      int32\n",
    "b     object\n",
    "c     object\n",
    "d     object\n",
    "e    float64\n",
    "f    float64\n",
    "dtype: object\n",
    "```\n",
    "\n",
    "把类型转换为最优解。\n",
    "\n",
    "```python\n",
    ">>> dfn = df.convert_dtypes()\n",
    ">>> dfn\n",
    "   a  b      c     d     e      f\n",
    "0  1  x   True     h    10    NaN\n",
    "1  2  y  False     i  <NA>  100.5\n",
    "2  3  z   <NA>  <NA>    20  200.0\n",
    "\n",
    ">>> dfn.dtypes\n",
    "a      Int32\n",
    "b     string\n",
    "c    boolean\n",
    "d     string\n",
    "e      Int64\n",
    "f    float64\n",
    "dtype: object\n",
    "```\n",
    "\n",
    "新建一个字符串组成的 Series ，缺失的数据用 ``np.nan`` 表示。\n",
    "\n",
    "```python\n",
    ">>> s = pd.Series([\"a\", \"b\", np.nan])\n",
    ">>> s\n",
    "0      a\n",
    "1      b\n",
    "2    NaN\n",
    "dtype: object\n",
    "```\n",
    "\n",
    "得到一个 dtype 为 ``StringDtype`` 的 Series 。\n",
    "\n",
    "```python\n",
    ">>> s.convert_dtypes()\n",
    "0       a\n",
    "1       b\n",
    "2    <NA>\n",
    "dtype: string\n",
    "```"
   ]
  },
  {
   "cell_type": "code",
   "execution_count": null,
   "id": "increased-white",
   "metadata": {},
   "outputs": [],
   "source": []
  }
 ],
 "metadata": {
  "kernelspec": {
   "display_name": "Python 3",
   "language": "python",
   "name": "python3"
  },
  "language_info": {
   "codemirror_mode": {
    "name": "ipython",
    "version": 3
   },
   "file_extension": ".py",
   "mimetype": "text/x-python",
   "name": "python",
   "nbconvert_exporter": "python",
   "pygments_lexer": "ipython3",
   "version": "3.7.4"
  }
 },
 "nbformat": 4,
 "nbformat_minor": 5
}
