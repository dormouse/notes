{
 "cells": [
  {
   "cell_type": "code",
   "execution_count": 1,
   "id": "b7afee7e-6604-4058-8f8a-7baf46aa2833",
   "metadata": {},
   "outputs": [
    {
     "data": {
      "text/plain": [
       "'1.3.4'"
      ]
     },
     "execution_count": 1,
     "metadata": {},
     "output_type": "execute_result"
    }
   ],
   "source": [
    "import numpy as np\n",
    "import pandas as pd\n",
    "import datetime\n",
    "from jinja2 import Template\n",
    "from pathlib import Path\n",
    "import random\n",
    "\n",
    "pd.__version__"
   ]
  },
  {
   "cell_type": "markdown",
   "id": "9571a558-5230-48de-a0a8-37fcdbb9c918",
   "metadata": {},
   "source": [
    "# TIPS"
   ]
  },
  {
   "cell_type": "markdown",
   "id": "8d5da604-3485-4755-bd9b-0316ceda6d63",
   "metadata": {
    "toc-hr-collapsed": true
   },
   "source": [
    "## 日期处理"
   ]
  },
  {
   "cell_type": "markdown",
   "id": "d3ff24b0-99cf-46eb-8bf7-225850af0016",
   "metadata": {},
   "source": [
    "### 字符串转换为日期"
   ]
  },
  {
   "cell_type": "code",
   "execution_count": 2,
   "id": "86d7a04c-1c90-45cd-b464-def1381a0a47",
   "metadata": {},
   "outputs": [
    {
     "name": "stdout",
     "output_type": "stream",
     "text": [
      "2022-03-09 00:00:00\n",
      "2022-03-09 00:00:00\n",
      "2022-03-09 00:00:00\n"
     ]
    }
   ],
   "source": [
    "aa = '20220309006'\n",
    "date_str = aa[:8]\n",
    "today = pd.to_datetime(date_str)\n",
    "print(today)\n",
    "today = pd.to_datetime('2022-03-09')\n",
    "print(today)\n",
    "# strptime 必须指定格式\n",
    "today = datetime.datetime.strptime(date_str, \"%Y%m%d\")\n",
    "print(today)"
   ]
  },
  {
   "cell_type": "markdown",
   "id": "907c557e-4faa-44ae-869d-a22258de55de",
   "metadata": {},
   "source": [
    "### 日期转换为字符串"
   ]
  },
  {
   "cell_type": "code",
   "execution_count": 3,
   "id": "5ad2b898-0f3b-491b-a0d1-508b40a08b8a",
   "metadata": {},
   "outputs": [
    {
     "name": "stdout",
     "output_type": "stream",
     "text": [
      "03月09日\n",
      "03月09日\n"
     ]
    }
   ],
   "source": [
    "print(today.strftime('%m月%d日'))\n",
    "# 没有前导零\n",
    "print(today.strftime('%#m月%#d日'))"
   ]
  },
  {
   "cell_type": "markdown",
   "id": "5db701af-3fe6-4be1-8a58-b36ecf79798f",
   "metadata": {},
   "source": [
    "### 日期加上一天"
   ]
  },
  {
   "cell_type": "code",
   "execution_count": 4,
   "id": "7f9898c1-24a7-4231-b934-882996b92e58",
   "metadata": {},
   "outputs": [
    {
     "name": "stdout",
     "output_type": "stream",
     "text": [
      "05月20日\n",
      "05月18日\n",
      "05月18日\n"
     ]
    }
   ],
   "source": [
    "today = datetime.date.today()\n",
    "tomorrow = today + datetime.timedelta(1)\n",
    "print(tomorrow.strftime('%#m月%#d日'))\n",
    "yestoday = today + datetime.timedelta(-1)\n",
    "print(yestoday.strftime('%#m月%#d日'))\n",
    "yestoday = today - datetime.timedelta(1)\n",
    "print(yestoday.strftime('%#m月%#d日'))"
   ]
  },
  {
   "cell_type": "markdown",
   "id": "951a9ef9-ed7e-4373-b78e-45fd3a685b8e",
   "metadata": {},
   "source": [
    "## 使用模板"
   ]
  },
  {
   "cell_type": "code",
   "execution_count": 5,
   "id": "2a1eaaec-cb9f-4892-ba37-eb43abe7b25b",
   "metadata": {},
   "outputs": [
    {
     "data": {
      "text/plain": [
       "'Hello Dormouse'"
      ]
     },
     "execution_count": 5,
     "metadata": {},
     "output_type": "execute_result"
    }
   ],
   "source": [
    "tpl = Template('Hello {{name}}')\n",
    "tpl.render(name='Dormouse')"
   ]
  },
  {
   "cell_type": "code",
   "execution_count": 6,
   "id": "b3d03b25-7fdd-43c1-b71f-7fef388deb42",
   "metadata": {},
   "outputs": [
    {
     "data": {
      "text/plain": [
       "'\\nsome.tpl 示例\\n\\n【数据核查实况】\\n{% for data in datas %}\\n第{{data.shikuang_pici}}批次为{{data.文件说明}}数据共{{data.合计数}}人，去重{{data.去重数}}人，\\n实际下发{{data.下发数}}人，{{data.jinjichengdu}}{{data.sheyi}}\\n{% endfor %}\\n'"
      ]
     },
     "execution_count": 6,
     "metadata": {},
     "output_type": "execute_result"
    }
   ],
   "source": [
    "\"\"\"\n",
    "from jinja2 import Template, FileSystemLoader, Environment\n",
    "\n",
    "class SomeTpl(object):\n",
    "    def __init__(self):\n",
    "        self.loader = FileSystemLoader('templates')\n",
    "        self.env = Environment(loader=self.loader)\n",
    "\n",
    "    def rend_shi_kuang(self, **kwargs):\n",
    "        # 渲染 数据核查实况\n",
    "        tpl = self.env.get_template('some.tpl')\n",
    "        return tpl.render(kwargs)\n",
    "\"\"\"\n",
    "\"\"\"\n",
    "some.tpl 示例\n",
    "\n",
    "【数据核查实况】\n",
    "{% for data in datas %}\n",
    "第{{data.shikuang_pici}}批次为{{data.文件说明}}数据共{{data.合计数}}人，去重{{data.去重数}}人，\n",
    "实际下发{{data.下发数}}人，{{data.jinjichengdu}}{{data.sheyi}}\n",
    "{% endfor %}\n",
    "\"\"\""
   ]
  },
  {
   "cell_type": "markdown",
   "id": "4984cf91-90c1-4113-8b32-ea51fc76d6b7",
   "metadata": {},
   "source": [
    "## 随机数"
   ]
  },
  {
   "cell_type": "code",
   "execution_count": 7,
   "id": "e63cff5d-0504-4300-a90d-ae3b55e9edee",
   "metadata": {},
   "outputs": [
    {
     "data": {
      "text/plain": [
       "0.5391197931283782"
      ]
     },
     "execution_count": 7,
     "metadata": {},
     "output_type": "execute_result"
    }
   ],
   "source": [
    "\"\"\"\n",
    "Signature: random.random()\n",
    "Docstring: random() -> x in the interval [0, 1).\n",
    "Type:      builtin_function_or_method\n",
    "\"\"\"\n",
    "random.random()"
   ]
  },
  {
   "cell_type": "code",
   "execution_count": 8,
   "id": "06d0aa07-b499-44c2-a69b-dc9c5fd97773",
   "metadata": {},
   "outputs": [
    {
     "data": {
      "text/plain": [
       "9"
      ]
     },
     "execution_count": 8,
     "metadata": {},
     "output_type": "execute_result"
    }
   ],
   "source": [
    "\"\"\"\n",
    "Signature: random.randint(a, b)\n",
    "Docstring:\n",
    "Return random integer in range [a, b], including both end points.\n",
    "Type:      method\n",
    "\"\"\"\n",
    "random.randint(1, 10)"
   ]
  }
 ],
 "metadata": {
  "kernelspec": {
   "display_name": "Python 3 (ipykernel)",
   "language": "python",
   "name": "python3"
  },
  "language_info": {
   "codemirror_mode": {
    "name": "ipython",
    "version": 3
   },
   "file_extension": ".py",
   "mimetype": "text/x-python",
   "name": "python",
   "nbconvert_exporter": "python",
   "pygments_lexer": "ipython3",
   "version": "3.9.7"
  },
  "toc-autonumbering": true,
  "toc-showmarkdowntxt": false
 },
 "nbformat": 4,
 "nbformat_minor": 5
}
