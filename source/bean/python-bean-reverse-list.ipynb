{
 "cells": [
  {
   "cell_type": "markdown",
   "id": "c186fe30",
   "metadata": {},
   "source": [
    "# 【Python茴香豆系列】之 如何逆序一个列表\n",
    "\n",
    "用 Python 编程，使用不同的方法来完成同一个目标，有时候是一件很有意思的事情。这让我想起鲁迅笔下的孔乙己。\n",
    "孔乙己对于茴香豆的茴字的四种写法颇有研究。我不敢自比孔乙己，这里搜集一些 Python 的茴香豆，以飨各位码农。\n",
    "\n",
    "在 Python 编程中经常会遇到逆序列表的情况，假设有一个列表： [1, 2, 3, 4, 5] ，我们需要得到这个列表的逆序列表，即 [5, 4, 3, 2, 1] 。\n",
    "下面我们先准备源列表："
   ]
  },
  {
   "cell_type": "code",
   "execution_count": 1,
   "id": "e060f107",
   "metadata": {},
   "outputs": [],
   "source": [
    "source_list = [1, 2, 3, 4, 5]"
   ]
  },
  {
   "cell_type": "markdown",
   "id": "cb78be76-be38-489c-830b-fe7c5c68c1df",
   "metadata": {},
   "source": [
    "## 茴香豆一：使用 For 循环"
   ]
  },
  {
   "cell_type": "markdown",
   "id": "9c8000b8-f862-4606-b48a-5448288af127",
   "metadata": {},
   "source": [
    "逆序一个列表，老老实实的方法是用一个循环，从源列表的尾部开始，按倒序依次取一个元素添加到目标列表中，然后打印这个目标列表就可以了。"
   ]
  },
  {
   "cell_type": "code",
   "execution_count": 2,
   "id": "7dffecae-e54b-46cf-856b-4578e1aa7d47",
   "metadata": {},
   "outputs": [
    {
     "name": "stdout",
     "output_type": "stream",
     "text": [
      "[5, 4, 3, 2, 1]\n"
     ]
    }
   ],
   "source": [
    "target_list = list()\n",
    "for index in range(len(source_list)):\n",
    "    target_index =  - index -1\n",
    "    target_list.append(source_list[target_index])\n",
    "print(target_list)"
   ]
  },
  {
   "cell_type": "markdown",
   "id": "ea729aa2-4ab6-44d6-a3b6-6c4a23461a68",
   "metadata": {},
   "source": [
    "当然，如果使用列表推导的方式，上面的内容可以写成一行代码："
   ]
  },
  {
   "cell_type": "code",
   "execution_count": 3,
   "id": "efb8fedb-09a7-44a1-b14b-c088e21940b9",
   "metadata": {},
   "outputs": [
    {
     "name": "stdout",
     "output_type": "stream",
     "text": [
      "[5, 4, 3, 2, 1]\n"
     ]
    }
   ],
   "source": [
    "print([source_list[(- index -1)] for index in range(len(source_list))])"
   ]
  },
  {
   "cell_type": "markdown",
   "id": "87473766",
   "metadata": {},
   "source": [
    "## 茴香豆二： 使用列表的 reverse 方法"
   ]
  },
  {
   "cell_type": "markdown",
   "id": "afded681",
   "metadata": {},
   "source": [
    "当然，上面的方法有一点复杂，我们需要一个简洁一些的方法。根据官方文档，列表本身带有一个\n",
    "reverse 方法，其功能是把列表反序。示例如下："
   ]
  },
  {
   "cell_type": "code",
   "execution_count": 4,
   "id": "5f117470",
   "metadata": {},
   "outputs": [
    {
     "name": "stdout",
     "output_type": "stream",
     "text": [
      "[5, 4, 3, 2, 1]\n"
     ]
    }
   ],
   "source": [
    "source_list.reverse()\n",
    "print(source_list)"
   ]
  },
  {
   "cell_type": "markdown",
   "id": "391a8668-45c3-4b29-9267-8dfef53e971d",
   "metadata": {},
   "source": [
    "这个方法简单实用，会背单词就可以了。不过要注意，这个方法会改变这个列表本身的内容。\n",
    "如果我们不想改变其内容，需要先建立一个列表的副本。\n",
    "示例如下："
   ]
  },
  {
   "cell_type": "code",
   "execution_count": 5,
   "id": "220d18da-a7a6-4e80-b109-903477f5bcc2",
   "metadata": {},
   "outputs": [
    {
     "name": "stdout",
     "output_type": "stream",
     "text": [
      "[1, 2, 3, 4, 5]\n",
      "[5, 4, 3, 2, 1]\n"
     ]
    }
   ],
   "source": [
    "source_list = [1, 2, 3, 4, 5]\n",
    "target_list = source_list[:]\n",
    "target_list.reverse()\n",
    "print(source_list)\n",
    "print(target_list)"
   ]
  },
  {
   "cell_type": "markdown",
   "id": "8088ff8d-1043-41b3-8194-77c28126875a",
   "metadata": {},
   "source": [
    "## 茴香豆三：使用 reversed 类"
   ]
  },
  {
   "cell_type": "markdown",
   "id": "c68d070c-d144-4d3a-88ab-72f358ab8cfc",
   "metadata": {},
   "source": [
    "建立副本有点麻烦？那么使用 reserved 类吧，该类是 Pyton 内置的，其功能返回给定序列的逆序的迭代器。有点拗口，看示例："
   ]
  },
  {
   "cell_type": "code",
   "execution_count": 6,
   "id": "532e95d1-46ac-4038-a938-4db65816ba4b",
   "metadata": {},
   "outputs": [
    {
     "name": "stdout",
     "output_type": "stream",
     "text": [
      "[5, 4, 3, 2, 1]\n"
     ]
    }
   ],
   "source": [
    "print(list(reversed(source_list)))"
   ]
  },
  {
   "cell_type": "markdown",
   "id": "b39ea6b9-a426-4b8a-a265-22dc686633e9",
   "metadata": {},
   "source": [
    "注意，因为 reversed 返回的是一个迭代器，我们这里使用了 list 类来把迭代器转换为列表。\n",
    "如果你只是需要知道如何把一个列表逆序，那么知道 reverse 和 reversed 就够了。\n",
    "它们都是 Python 内置的，高效又便捷，用了不吃亏。\n",
    "下面的内容仅留给学有余力又闲得没事干的朋友。"
   ]
  },
  {
   "cell_type": "markdown",
   "id": "7fe421e3-aa3e-4d95-ae18-ced1942af1d6",
   "metadata": {},
   "source": [
    "## 茴香豆四：使用列表切片"
   ]
  },
  {
   "cell_type": "markdown",
   "id": "dbb62c7e-02f3-49d0-90de-3a4bc856af7b",
   "metadata": {},
   "source": [
    "使用 Python 的人大概没有不知道列表的。使用列表的，大概没有人不知道列表的切片的。使用切片，可能有的人会注意到可以这样切片："
   ]
  },
  {
   "cell_type": "code",
   "execution_count": 7,
   "id": "ab731bb4-b134-43c7-9a42-095cd2c0aaa9",
   "metadata": {},
   "outputs": [
    {
     "name": "stdout",
     "output_type": "stream",
     "text": [
      "[5, 4, 3, 2, 1]\n"
     ]
    }
   ],
   "source": [
    "print(source_list[::-1])"
   ]
  },
  {
   "cell_type": "markdown",
   "id": "02a82944-1b8c-4651-908d-cdceef69e232",
   "metadata": {},
   "source": [
    "## 茴香豆五：使用 slice 对象"
   ]
  },
  {
   "cell_type": "markdown",
   "id": "13c426b9-b8b7-49d0-a9a3-0db3bc7f0701",
   "metadata": {},
   "source": [
    "Python 还有一个 slice 对象，可以用类似的手法来逆序列表："
   ]
  },
  {
   "cell_type": "code",
   "execution_count": 8,
   "id": "54953d2a-a51d-4ee8-adc4-23bca6454381",
   "metadata": {},
   "outputs": [
    {
     "name": "stdout",
     "output_type": "stream",
     "text": [
      "[5, 4, 3, 2, 1]\n"
     ]
    }
   ],
   "source": [
    "print(source_list[slice(None, None, -1)])"
   ]
  },
  {
   "cell_type": "markdown",
   "id": "41322ef1-3915-45b1-a772-efd36c864c37",
   "metadata": {},
   "source": [
    "## 茴香豆六： 人工智障"
   ]
  },
  {
   "cell_type": "markdown",
   "id": "7f1ca0a9-2a84-450c-9346-c2a8b01e9836",
   "metadata": {},
   "source": [
    "现在 Python 最热门的大概是人工智能了，可惜这里暂时还用不上。大道至简，最后我们给出最直接的人工智障方案："
   ]
  },
  {
   "cell_type": "code",
   "execution_count": 9,
   "id": "6960199f-137b-4030-ae70-de2e9b725d69",
   "metadata": {},
   "outputs": [
    {
     "name": "stdout",
     "output_type": "stream",
     "text": [
      "[5, 4, 3, 2, 1]\n"
     ]
    }
   ],
   "source": [
    "print([5, 4, 3, 2, 1])"
   ]
  }
 ],
 "metadata": {
  "kernelspec": {
   "display_name": "Python 3",
   "language": "python",
   "name": "python3"
  },
  "language_info": {
   "codemirror_mode": {
    "name": "ipython",
    "version": 3
   },
   "file_extension": ".py",
   "mimetype": "text/x-python",
   "name": "python",
   "nbconvert_exporter": "python",
   "pygments_lexer": "ipython3",
   "version": "3.7.10"
  }
 },
 "nbformat": 4,
 "nbformat_minor": 5
}
