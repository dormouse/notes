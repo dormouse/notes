{
 "cells": [
  {
   "cell_type": "markdown",
   "metadata": {},
   "source": [
    "# 【Python茴香豆系列】之 字典合并\n",
    "用 Python 编程，使用不同的方法来完成同一个目标，有时候是一件很有意思的事情。这让我想起鲁迅笔下的孔乙己。孔乙己对于茴香豆的茴字的四种写法颇有研究。我不敢自比孔乙己，这里搜集一些 Python 的茴香豆，以飨各位码农。\n",
    "\n",
    "假设有字典 x 和字典 y ， BOSS 需要把他们合并，生成一个新的字典 z ， x 和 y 保持不变。要实现的效果如下：\n",
    "\n",
    "```python\n",
    "x = {'a': 1, 'b': 2}\n",
    "y = {'b': 8, 'c': 9}\n",
    "```\n",
    "\n",
    "经过处理后\n",
    "\n",
    "```python\n",
    "z = {'a': 1, 'b': 8, 'c': 9}\n",
    "```"
   ]
  },
  {
   "cell_type": "code",
   "execution_count": 1,
   "metadata": {},
   "outputs": [],
   "source": [
    "# 这里先做一些准备工作\n",
    "x = {'a': 1, 'b': 2}\n",
    "y = {'b': 8, 'c': 9}"
   ]
  },
  {
   "cell_type": "markdown",
   "metadata": {},
   "source": [
    "## 茴香豆一： update\n",
    "\n",
    "如果你的 Python 版本小于等于 3.4 ，那么如下方法应该是最常见的："
   ]
  },
  {
   "cell_type": "code",
   "execution_count": 2,
   "metadata": {},
   "outputs": [
    {
     "data": {
      "text/plain": [
       "{'a': 1, 'b': 8, 'c': 9}"
      ]
     },
     "execution_count": 2,
     "metadata": {},
     "output_type": "execute_result"
    }
   ],
   "source": [
    "z = x.copy()\n",
    "z.update(y)\n",
    "z"
   ]
  },
  {
   "cell_type": "markdown",
   "metadata": {},
   "source": [
    "## 茴香豆二： 两个小星星\n",
    "\n",
    "如果你已经完全抛弃了 2 ，并且 Python 版本已经大于等于 3.5 ，那么可以这样："
   ]
  },
  {
   "cell_type": "code",
   "execution_count": 3,
   "metadata": {},
   "outputs": [
    {
     "data": {
      "text/plain": [
       "{'a': 1, 'b': 8, 'c': 9}"
      ]
     },
     "execution_count": 3,
     "metadata": {},
     "output_type": "execute_result"
    }
   ],
   "source": [
    "z = {**x, **y}\n",
    "z"
   ]
  },
  {
   "cell_type": "markdown",
   "metadata": {},
   "source": [
    "## 茴香豆三： 一条竖杠\n",
    "\n",
    "什么？你的 Python 版本已经大于等于 3.9 了？好吧， `z = x | y` 就能解决问题。"
   ]
  },
  {
   "cell_type": "markdown",
   "metadata": {},
   "source": [
    "## 茴香豆四： ChainMap\n",
    "\n",
    "ChainMap 可能对大多数开发者来说有点陌生，其特点是：“先入为主”，所以要注意两个字典的顺序。"
   ]
  },
  {
   "cell_type": "code",
   "execution_count": 4,
   "metadata": {},
   "outputs": [
    {
     "data": {
      "text/plain": [
       "{'a': 1, 'b': 8, 'c': 9}"
      ]
     },
     "execution_count": 4,
     "metadata": {},
     "output_type": "execute_result"
    }
   ],
   "source": [
    "from collections import ChainMap\n",
    "z = dict(ChainMap(y, x))\n",
    "z"
   ]
  },
  {
   "cell_type": "markdown",
   "metadata": {},
   "source": [
    "## 茴香豆五： Dict\n",
    "\n",
    "这个方法仅限于字典的 Key 均为 string 时有效："
   ]
  },
  {
   "cell_type": "code",
   "execution_count": 5,
   "metadata": {},
   "outputs": [
    {
     "data": {
      "text/plain": [
       "{'a': 1, 'b': 8, 'c': 9}"
      ]
     },
     "execution_count": 5,
     "metadata": {},
     "output_type": "execute_result"
    }
   ],
   "source": [
    "z = dict(x, **y)\n",
    "z"
   ]
  },
  {
   "cell_type": "markdown",
   "metadata": {},
   "source": [
    "## 茴香豆六： Dict\n",
    "\n",
    "这个方法仅限于字典的 Key 均为 string 时有效："
   ]
  },
  {
   "cell_type": "code",
   "execution_count": 6,
   "metadata": {},
   "outputs": [
    {
     "data": {
      "text/plain": [
       "{'c': 9, 'a': 1, 'b': 2}"
      ]
     },
     "execution_count": 6,
     "metadata": {},
     "output_type": "execute_result"
    }
   ],
   "source": [
    "# Python 2\n",
    "# z = dict(x.items() + y.items()) \n",
    "z = dict(x.items() | y.items())\n",
    "z"
   ]
  },
  {
   "cell_type": "markdown",
   "metadata": {},
   "source": [
    "```python\n",
    "{k: v for d in dicts for k, v in d.items()} # iteritems in Python 2.7\n",
    "\n",
    "or in python 2.6 (and perhaps as early as 2.4 when generator expressions were introduced):\n",
    "\n",
    "dict((k, v) for d in dicts for k, v in d.items()) # iteritems in Python 2\n",
    "\n",
    "itertools.chain will chain the iterators over the key-value pairs in the correct order:\n",
    "\n",
    "from itertools import chain\n",
    "z = dict(chain(x.items(), y.items())) # iteritems in Python 2\n",
    "\n",
    "{k: v for x in dicts for k, v in y.items()} # iteritems in Python 2.7\n",
    "```"
   ]
  }
 ],
 "metadata": {
  "kernelspec": {
   "display_name": "Python 3",
   "language": "python",
   "name": "python3"
  },
  "language_info": {
   "codemirror_mode": {
    "name": "ipython",
    "version": 3
   },
   "file_extension": ".py",
   "mimetype": "text/x-python",
   "name": "python",
   "nbconvert_exporter": "python",
   "pygments_lexer": "ipython3",
   "version": "3.7.10"
  }
 },
 "nbformat": 4,
 "nbformat_minor": 4
}
