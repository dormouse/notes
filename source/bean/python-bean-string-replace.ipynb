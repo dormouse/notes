{
 "cells": [
  {
   "cell_type": "markdown",
   "id": "f69499e7-5011-4a65-9b78-04ecc163d9b8",
   "metadata": {},
   "source": [
    "# 【Python茴香豆系列】之 如何替换字符串"
   ]
  },
  {
   "cell_type": "markdown",
   "id": "7cd16b49-9cab-4eaa-9cd3-26b609f58f25",
   "metadata": {},
   "source": [
    "用 Python 编程，使用不同的方法来完成同一个目标，有时候是一件很有意思的事情。这让我想起鲁迅笔下的孔乙己。\n",
    "孔乙己对于茴香豆的茴字的四种写法颇有研究。我不敢自比孔乙己，这里搜集一些 Python 的茴香豆，以飨各位码农。\n",
    "\n",
    "在 Python 如何替换字符串呢？"
   ]
  },
  {
   "cell_type": "markdown",
   "id": "18d8a303-e9b5-49f3-9f05-071009fdb21f",
   "metadata": {},
   "source": [
    "## 茴香豆一： replace"
   ]
  },
  {
   "cell_type": "markdown",
   "id": "975b2691-195e-4f95-b076-73f3883b7602",
   "metadata": {},
   "source": [
    "字符串对象自带一个 `replace` 方法，其定义是： `str.replace(old, new[, count])` 。\n",
    "第一个参数是旧字符串，第二个参数是新字符串，第三个参数是替换的最多次数。\n",
    "下面的例子是把“ mouse ”替换为“ cat ”：\n",
    "，最替换 3 次。"
   ]
  },
  {
   "cell_type": "code",
   "execution_count": 1,
   "id": "65e5a621-83f9-4a4b-ae01-15e5718cdf13",
   "metadata": {},
   "outputs": [
    {
     "name": "stdout",
     "output_type": "stream",
     "text": [
      "cat cat cat cat cat cat cat cat\n"
     ]
    }
   ],
   "source": [
    "cat_mouse = \"cat mouse cat mouse cat mouse cat mouse\"\n",
    "print(cat_mouse.replace(\"mouse\", \"cat\"))"
   ]
  },
  {
   "cell_type": "markdown",
   "id": "05db4480-58d8-4006-a761-de88f969f2ed",
   "metadata": {},
   "source": [
    "下面的例子是把“ mouse ”替换为“ cat ”，最替换 2 次："
   ]
  },
  {
   "cell_type": "code",
   "execution_count": 2,
   "id": "746272a4-0649-4de0-8724-a3c9c799f651",
   "metadata": {},
   "outputs": [
    {
     "name": "stdout",
     "output_type": "stream",
     "text": [
      "cat cat cat cat cat mouse cat mouse\n"
     ]
    }
   ],
   "source": [
    "print(cat_mouse.replace(\"mouse\", \"cat\", 2))"
   ]
  },
  {
   "cell_type": "markdown",
   "id": "31d90477-65d4-4a6c-bd92-d38af6392b5b",
   "metadata": {},
   "source": [
    "## 茴香豆二： translate"
   ]
  },
  {
   "cell_type": "markdown",
   "id": "01d93a3e-ff57-4f08-b1cc-ab489c1ac240",
   "metadata": {},
   "source": [
    "字符串对象还自带一个 `translate` 方法，可以根据一个对照表，同时替换多个字符。\n",
    "但是有一个限制，被替换的旧字符的长度只能是 1 。"
   ]
  },
  {
   "cell_type": "code",
   "execution_count": 3,
   "id": "6de4c62d-dd0f-4100-8bd2-3bf7debb43bd",
   "metadata": {},
   "outputs": [
    {
     "name": "stdout",
     "output_type": "stream",
     "text": [
      "CCat Mouse CCat Mouse CCat Mouse 猫 老鼠\n"
     ]
    }
   ],
   "source": [
    "cat_mouse = \"cat mouse cat mouse cat mouse 小猫 老鼠\"\n",
    "trans_table = {'c': 'CC', 'm': 'M', '小': None}\n",
    "print(cat_mouse.translate(str.maketrans(trans_table)))"
   ]
  },
  {
   "cell_type": "markdown",
   "id": "833f6cec-df48-47a3-89ba-a26a40f5eb3b",
   "metadata": {},
   "source": [
    "`translate` 方法一般要搭配字符串自带的 `maketrans` 方法使用。\n",
    "`maketrans` 方法定义是： `static str.maketrans(x[, y[, z]])` 。\n",
    "`maketrans` 方法的参数可以是 1 - 3 个。\n",
    "当只有一个参数时，这个参数必须是一个字典。该字典的键可以是 Unicode 代码（整数）或者单个字符（长度为 1 的字符串）。\n",
    "该字典的对应值可以是 Unicode 代码（整数）或者任意长度的的字符串。\n",
    "当使用两个参数时，两个参数必须是同等长度字符串， x 参数中的每个字符会转换为 y 参数中相对应的字符。\n",
    "如果有第三个参数，那么第三个参数必须是字符串，该参数中的每个字符会被替换为 `None` ，即被删除。示例："
   ]
  },
  {
   "cell_type": "code",
   "execution_count": 4,
   "id": "dc72173e-fa1b-4d09-8731-16f3fbb5c905",
   "metadata": {},
   "outputs": [
    {
     "name": "stdout",
     "output_type": "stream",
     "text": [
      "Cat Mouse Cat Mouse Cat Mouse 猫 鼠\n"
     ]
    }
   ],
   "source": [
    "print(cat_mouse.translate(str.maketrans('cm' , 'CM', '小老')))"
   ]
  },
  {
   "cell_type": "markdown",
   "id": "3c9c36fd-ad6c-4d41-8ce5-4f9e89ae95a1",
   "metadata": {},
   "source": [
    "## 茴香豆三： re.sub 和 re.subn"
   ]
  },
  {
   "cell_type": "markdown",
   "id": "285c3175-d448-48fd-99f4-dfa157cb3cb3",
   "metadata": {},
   "source": [
    "re.sub 的定义为： `re.sub(pattern, repl, string, count=0, flags=0)` 。熟悉正则表达式的，可以使用这种方式。\n",
    "不熟悉的，还是不要用了。因为学会了正则表达式之后，麻烦只会更多。"
   ]
  },
  {
   "cell_type": "code",
   "execution_count": 5,
   "id": "b87d3834-8ffe-40cb-8410-1c7585130260",
   "metadata": {},
   "outputs": [
    {
     "name": "stdout",
     "output_type": "stream",
     "text": [
      "ABCABCt mouse ABCABCt mouse ABCABCt mouse 小猫 老鼠\n"
     ]
    }
   ],
   "source": [
    "import re\n",
    "cat_mouse = \"cat mouse cat mouse cat mouse 小猫 老鼠\"\n",
    "print(re.sub('[a-c]', 'ABC', cat_mouse))"
   ]
  },
  {
   "cell_type": "markdown",
   "id": "c04eeb92-d8cf-4bc8-a0cc-4af1a38e5afe",
   "metadata": {},
   "source": [
    "re.subn 与 re.sub 类似，不同的是会返回一元组。该元组第一个元素是被替换后的字符串，第二个元素是被替换的次数。\n",
    "示例如下："
   ]
  },
  {
   "cell_type": "code",
   "execution_count": 6,
   "id": "eede119d-4974-4686-8243-ac618a78db5a",
   "metadata": {},
   "outputs": [
    {
     "name": "stdout",
     "output_type": "stream",
     "text": [
      "('ABCABCt mouse ABCABCt mouse ABCABCt mouse 小猫 老鼠', 6)\n"
     ]
    }
   ],
   "source": [
    "cat_mouse = \"cat mouse cat mouse cat mouse 小猫 老鼠\"\n",
    "print(re.subn('[a-c]', 'ABC', cat_mouse))"
   ]
  },
  {
   "cell_type": "markdown",
   "id": "461286b7-8dd3-4166-915e-07df79706ea5",
   "metadata": {},
   "source": [
    "## 茴香豆四： 剑走偏峰"
   ]
  },
  {
   "cell_type": "markdown",
   "id": "b2a61e4e-560e-4a91-8665-5fa504997277",
   "metadata": {},
   "source": [
    "有时候，我们需要一点想像力，否则这个世界就太无趣了。"
   ]
  },
  {
   "cell_type": "code",
   "execution_count": 7,
   "id": "55d067e3-e646-4df4-bc22-9c8ac5774e39",
   "metadata": {},
   "outputs": [
    {
     "name": "stdout",
     "output_type": "stream",
     "text": [
      "CAT mouse CAT mouse CAT mouse 小猫 老鼠\n"
     ]
    }
   ],
   "source": [
    "cat_mouse = \"cat mouse cat mouse cat mouse 小猫 老鼠\"\n",
    "print('CAT'.join(cat_mouse.split('cat')))"
   ]
  }
 ],
 "metadata": {
  "kernelspec": {
   "display_name": "Python 3 (ipykernel)",
   "language": "python",
   "name": "python3"
  },
  "language_info": {
   "codemirror_mode": {
    "name": "ipython",
    "version": 3
   },
   "file_extension": ".py",
   "mimetype": "text/x-python",
   "name": "python",
   "nbconvert_exporter": "python",
   "pygments_lexer": "ipython3",
   "version": "3.9.7"
  }
 },
 "nbformat": 4,
 "nbformat_minor": 5
}
